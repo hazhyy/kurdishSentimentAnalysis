{
 "cells": [
  {
   "cell_type": "markdown",
   "metadata": {},
   "source": [
    "# Building a vectorizer model with gensim"
   ]
  },
  {
   "cell_type": "code",
   "execution_count": 3,
   "metadata": {},
   "outputs": [],
   "source": [
    "import gensim\n",
    "import pandas as pd\n",
    "from tqdm.notebook import tqdm"
   ]
  },
  {
   "cell_type": "code",
   "execution_count": 4,
   "metadata": {},
   "outputs": [],
   "source": [
    "df=pd.read_csv(\"../data/translated/kurdish-reviews9.csv\")\n",
    "scc=pd.read_csv('../scrapedData/xendan-7000.csv')\n",
    "# df=pd.read_csv(\"../data/medical-kurdish-dataset.csv\")"
   ]
  },
  {
   "cell_type": "code",
   "execution_count": 5,
   "metadata": {},
   "outputs": [
    {
     "data": {
      "text/plain": [
       "(75279, 11)"
      ]
     },
     "execution_count": 5,
     "metadata": {},
     "output_type": "execute_result"
    }
   ],
   "source": [
    "df.shape    "
   ]
  },
  {
   "cell_type": "code",
   "execution_count": 6,
   "metadata": {},
   "outputs": [
    {
     "data": {
      "text/plain": [
       "(7000, 5)"
      ]
     },
     "execution_count": 6,
     "metadata": {},
     "output_type": "execute_result"
    }
   ],
   "source": [
    "scc.shape"
   ]
  },
  {
   "cell_type": "code",
   "execution_count": 7,
   "metadata": {},
   "outputs": [
    {
     "data": {
      "text/plain": [
       "0        چەندین بەرهەمی خۆراکی سەگی قوتووکراوی ڤیتالیتی...\n",
       "1        بەرهەمەکە گەیشتە لای کە بە ناوی Jumbo Salted P...\n",
       "2        ئەمە شیرینییەکە کە لە دەوروبەری چەند سەدەیەکدا...\n",
       "3        ئەگەر بەدوای پێکهاتەی نهێنی ڕۆبیتوسیندا دەگەڕێ...\n",
       "4        تافی نایاب بە نرخێکی نایاب. جۆرێکی بەرفراوانی ...\n",
       "                               ...                        \n",
       "75274    ئێستا نزیکەی ٥ مانگە ئەم خواردنە پشیلەیە بەکار...\n",
       "75275    دوای لێکۆڵینەوە لە هەڵسەنگاندنی خۆراکی ئاژەڵە ...\n",
       "75276    ئەمە خواردنێکی پشیلە وشکی کوالێتی بەرزە کە هەس...\n",
       "75277    پشیلەکەم نزیکەی ساڵێکە ئەم براندە دەخوات و هیچ...\n",
       "75278    پێم وابوو یارمەتیدەر دەبێت کە بەراورد بکەم بە ...\n",
       "Name: KurdishText, Length: 75279, dtype: object"
      ]
     },
     "execution_count": 7,
     "metadata": {},
     "output_type": "execute_result"
    }
   ],
   "source": [
    "df['KurdishText']"
   ]
  },
  {
   "cell_type": "code",
   "execution_count": 8,
   "metadata": {},
   "outputs": [
    {
     "data": {
      "text/plain": [
       "0       خەندان-\\nدوای شه‌ش ڕۆژ له‌ ده‌ستپێكردنی هێرشه‌...\n",
       "1       خەندان-\\nكرێكارێكی خه‌ڵكی رۆژهه‌ڵاتی كوردستان ...\n",
       "2       خەندان-\\nبه‌رپرسانی وه‌زاره‌تی به‌رگری ئه‌مریك...\n",
       "3       خه‌ندان-\\n\\nنرخی نەوتی خاو لە سەرەتای مامەڵەکا...\n",
       "4       خەندان-\\n\\nوه‌زاره‌تی كاره‌بای عێراق ئه‌مڕۆ پێ...\n",
       "                              ...                        \n",
       "6995    خەندان-\\nكەوتنی جۆو بایدن سەرۆكی ویلایەتە یەكگ...\n",
       "6996    خەندان-\\nئەحمەد خەڵەف سەرۆكی دەستەی چاودێری كۆ...\n",
       "6997                                                  NaN\n",
       "6998    خەندان-\\nسەرچاوەیەکی ئەمنی لە پارێزگای هەولێر ...\n",
       "6999    خەندان-\\n\\nپارێزەر و شارەزایەکی بواری یاسایی ر...\n",
       "Name: Article, Length: 7000, dtype: object"
      ]
     },
     "execution_count": 8,
     "metadata": {},
     "output_type": "execute_result"
    }
   ],
   "source": [
    "scc['Article']"
   ]
  },
  {
   "cell_type": "code",
   "execution_count": 9,
   "metadata": {},
   "outputs": [],
   "source": [
    "scc['Article'] = scc['Article'].fillna('')"
   ]
  },
  {
   "cell_type": "code",
   "execution_count": 6,
   "metadata": {},
   "outputs": [],
   "source": [
    "df['KurdishText'] = df['KurdishText'].fillna('')"
   ]
  },
  {
   "cell_type": "code",
   "execution_count": 7,
   "metadata": {},
   "outputs": [],
   "source": [
    "\n",
    "# res={}\n",
    "# for i,row in tqdm(df.iterrows(),total=len(df)):\n",
    "#     try:\n",
    "#         text=row.KurdishText\n",
    "#         myId=row.Id\n",
    "#         gensim_results=gensim.utils.simple_preprocess(text)\n",
    "#         res[myId]=gensim_results\n",
    "#     except TypeError:\n",
    "#         print(\"typerror for text: \",text)\n",
    "#         continue\n",
    "\n"
   ]
  },
  {
   "cell_type": "markdown",
   "metadata": {},
   "source": [
    "### tokenizing the kurdih reviews"
   ]
  },
  {
   "cell_type": "code",
   "execution_count": 8,
   "metadata": {},
   "outputs": [],
   "source": [
    "# continuing with old way not looping\n",
    "review_text=df.KurdishText.apply(gensim.utils.simple_preprocess)"
   ]
  },
  {
   "cell_type": "code",
   "execution_count": 10,
   "metadata": {},
   "outputs": [],
   "source": [
    "# continuing with old way not looping\n",
    "review_text=scc.Article.apply(gensim.utils.simple_preprocess)"
   ]
  },
  {
   "cell_type": "code",
   "execution_count": 11,
   "metadata": {},
   "outputs": [
    {
     "data": {
      "text/plain": [
       "0       [خەندان, دوای, شه, ڕۆژ, له, ده, ستپێكردنی, هێر...\n",
       "1       [خەندان, كرێكارێكی, خه, ڵكی, رۆژهه, ڵاتی, كورد...\n",
       "2       [خەندان, به, رپرسانی, وه, زاره, تی, به, رگری, ...\n",
       "3       [خه, ندان, نرخی, نەوتی, خاو, لە, سەرەتای, مامە...\n",
       "4       [خەندان, وه, زاره, تی, كاره, بای, عێراق, ئه, م...\n",
       "                              ...                        \n",
       "6995    [خەندان, كەوتنی, جۆو, بایدن, سەرۆكی, ویلایەتە,...\n",
       "6996    [خەندان, ئەحمەد, خەڵەف, سەرۆكی, دەستەی, چاودێر...\n",
       "6997                                                   []\n",
       "6998    [خەندان, سەرچاوەیەکی, ئەمنی, لە, پارێزگای, هەو...\n",
       "6999    [خەندان, پارێزەر, شارەزایەکی, بواری, یاسایی, ر...\n",
       "Name: Article, Length: 7000, dtype: object"
      ]
     },
     "execution_count": 11,
     "metadata": {},
     "output_type": "execute_result"
    }
   ],
   "source": [
    "review_text"
   ]
  },
  {
   "cell_type": "markdown",
   "metadata": {},
   "source": [
    "### building the model and training word2vec"
   ]
  },
  {
   "cell_type": "code",
   "execution_count": 12,
   "metadata": {},
   "outputs": [],
   "source": [
    "model=gensim.models.Word2Vec(\n",
    "    window=10,\n",
    "    min_count=2,\n",
    "    workers=4\n",
    ")"
   ]
  },
  {
   "cell_type": "code",
   "execution_count": 13,
   "metadata": {},
   "outputs": [],
   "source": [
    "model.build_vocab(review_text,progress_per=100)"
   ]
  },
  {
   "cell_type": "code",
   "execution_count": 14,
   "metadata": {},
   "outputs": [
    {
     "data": {
      "text/plain": [
       "5"
      ]
     },
     "execution_count": 14,
     "metadata": {},
     "output_type": "execute_result"
    }
   ],
   "source": [
    "model.epochs"
   ]
  },
  {
   "cell_type": "code",
   "execution_count": 15,
   "metadata": {},
   "outputs": [
    {
     "data": {
      "text/plain": [
       "7000"
      ]
     },
     "execution_count": 15,
     "metadata": {},
     "output_type": "execute_result"
    }
   ],
   "source": [
    "model.corpus_count"
   ]
  },
  {
   "cell_type": "code",
   "execution_count": 16,
   "metadata": {},
   "outputs": [
    {
     "data": {
      "text/plain": [
       "(6132392, 7147150)"
      ]
     },
     "execution_count": 16,
     "metadata": {},
     "output_type": "execute_result"
    }
   ],
   "source": [
    "model.train(review_text,total_examples=model.corpus_count,epochs=model.epochs)"
   ]
  },
  {
   "cell_type": "code",
   "execution_count": 17,
   "metadata": {},
   "outputs": [],
   "source": [
    "model.save(f\"../models/xendan7000.model\")"
   ]
  },
  {
   "cell_type": "code",
   "execution_count": 28,
   "metadata": {},
   "outputs": [
    {
     "data": {
      "text/plain": [
       "[('دایکی', 0.9240180850028992),\n",
       " ('پیاوێک', 0.92145836353302),\n",
       " ('هاوڕێکانی', 0.9199870824813843),\n",
       " ('ژنەکەی', 0.9163362979888916),\n",
       " ('روداوەکانیش', 0.9147975444793701),\n",
       " ('لێکەوتوەتەوە', 0.9103312492370605),\n",
       " ('لێدانی', 0.908986508846283),\n",
       " ('گەیەنرایە', 0.908150315284729),\n",
       " ('ئۆتۆمبێلەکەی', 0.9069851040840149),\n",
       " ('ساچمە', 0.9066586494445801)]"
      ]
     },
     "execution_count": 28,
     "metadata": {},
     "output_type": "execute_result"
    }
   ],
   "source": [
    "model.wv.most_similar(\"بێهۆش\")"
   ]
  },
  {
   "cell_type": "code",
   "execution_count": 19,
   "metadata": {},
   "outputs": [
    {
     "data": {
      "text/plain": [
       "0.66419977"
      ]
     },
     "execution_count": 19,
     "metadata": {},
     "output_type": "execute_result"
    }
   ],
   "source": [
    "model.wv.similarity(w1=\"دڵتەنگ\",w2=\"دڵخۆش\")"
   ]
  },
  {
   "cell_type": "code",
   "execution_count": 20,
   "metadata": {},
   "outputs": [
    {
     "data": {
      "text/plain": [
       "'هەرزان'"
      ]
     },
     "execution_count": 20,
     "metadata": {},
     "output_type": "execute_result"
    }
   ],
   "source": [
    "model.wv.doesnt_match([\"گونجاو\",\"هەرزان\",\"باش\",\"پرتەقاڵ\"])"
   ]
  },
  {
   "cell_type": "code",
   "execution_count": 36,
   "metadata": {},
   "outputs": [
    {
     "data": {
      "text/plain": [
       "'چای'"
      ]
     },
     "execution_count": 36,
     "metadata": {},
     "output_type": "execute_result"
    }
   ],
   "source": [
    "model.wv.doesnt_match([\"ئاو\",\"چای\",\"پشیلە\",\"قاوە\",\"شیر\"])\n"
   ]
  },
  {
   "cell_type": "code",
   "execution_count": 37,
   "metadata": {},
   "outputs": [
    {
     "data": {
      "text/plain": [
       "'شێر'"
      ]
     },
     "execution_count": 37,
     "metadata": {},
     "output_type": "execute_result"
    }
   ],
   "source": [
    "model.wv.doesnt_match([\"شێر\",\"سەگ\",\"پشیلە\",\"باڵندە\",\"پرتەقاڵ\"])\n"
   ]
  },
  {
   "cell_type": "code",
   "execution_count": 38,
   "metadata": {},
   "outputs": [
    {
     "data": {
      "text/plain": [
       "'گران'"
      ]
     },
     "execution_count": 38,
     "metadata": {},
     "output_type": "execute_result"
    }
   ],
   "source": [
    "model.wv.doesnt_match([\"دڵخۆش\",\"گران\",\"دڵتەنگ\",\"خەمبار\"])\n"
   ]
  },
  {
   "cell_type": "code",
   "execution_count": 40,
   "metadata": {},
   "outputs": [
    {
     "data": {
      "text/plain": [
       "[('ریزەکانی', 0.8832405805587769),\n",
       " ('بینیویەتی', 0.8755570650100708),\n",
       " ('بۆردومانەکە', 0.873737096786499),\n",
       " ('شنگال', 0.8732637763023376),\n",
       " ('ئێندزێ', 0.870159924030304),\n",
       " ('تیرۆرستان', 0.8671587109565735),\n",
       " ('ئوردوگای', 0.8669210076332092),\n",
       " ('چەكدارانی', 0.8661324977874756),\n",
       " ('گارە', 0.8660470247268677),\n",
       " ('بانە', 0.8655515313148499)]"
      ]
     },
     "execution_count": 40,
     "metadata": {},
     "output_type": "execute_result"
    }
   ],
   "source": [
    "model.wv.most_similar(positive=[\"ژن\",\"پاشا\"],negative=[\"پیاو\"])"
   ]
  },
  {
   "cell_type": "code",
   "execution_count": 26,
   "metadata": {},
   "outputs": [
    {
     "data": {
      "text/plain": [
       "array([-0.46548828, -0.42102528, -0.12997295, -0.10357738, -0.9814635 ,\n",
       "       -0.5446731 , -0.19553725,  0.7709324 , -0.07891028, -0.26040992,\n",
       "       -1.0191065 , -0.25812966,  0.03735895,  0.10042942,  0.27474138,\n",
       "       -0.02756481, -0.12971783,  0.2692504 , -0.32766986, -1.1883205 ,\n",
       "        1.2441928 ,  0.04271733, -0.13483304,  0.06703393, -0.18480209,\n",
       "       -0.5009575 ,  0.47007695, -0.8846807 ,  0.28579834,  0.01531253,\n",
       "       -0.5319116 ,  0.84506506,  1.0272013 ,  0.41116464, -0.54708654,\n",
       "        0.13905041,  0.14502011, -0.4891676 ,  0.03439448, -0.7306718 ,\n",
       "        0.5518998 , -0.65784633,  0.9183559 , -0.06695156,  0.25491264,\n",
       "       -0.27141535,  0.2662067 , -0.846691  ,  0.14537011,  0.4080283 ,\n",
       "       -0.26782453,  0.0751069 , -0.4518882 ,  0.81795233, -0.18025246,\n",
       "       -0.09285759, -0.12398448, -0.9052619 ,  0.26860058,  0.48979884,\n",
       "        0.56360525,  0.08040442, -0.01943566, -0.31836256, -0.16249953,\n",
       "        0.98453724, -0.17362545,  0.11234435,  0.06983974,  0.2346358 ,\n",
       "       -0.6844807 , -0.2533843 ,  0.38894212,  0.4545878 ,  0.5289161 ,\n",
       "        0.47952878,  0.10902566,  0.24374525, -0.75340706, -0.5256631 ,\n",
       "        0.48047844, -0.75067055, -0.7536538 ,  1.5335639 , -0.11478274,\n",
       "        0.61817724,  0.5833112 ,  0.03410263,  0.33820063,  0.22833523,\n",
       "       -0.14003378,  0.05146867,  0.33501348,  0.7663153 ,  0.8132234 ,\n",
       "        0.21809593, -0.3023021 , -0.69368577,  0.6046907 ,  0.2623126 ],\n",
       "      dtype=float32)"
      ]
     },
     "execution_count": 26,
     "metadata": {},
     "output_type": "execute_result"
    }
   ],
   "source": [
    "model.wv[\"باش\"]"
   ]
  },
  {
   "cell_type": "code",
   "execution_count": 27,
   "metadata": {},
   "outputs": [
    {
     "data": {
      "text/plain": [
       "0.4809352159500122"
      ]
     },
     "execution_count": 27,
     "metadata": {},
     "output_type": "execute_result"
    }
   ],
   "source": [
    "model.wv.distance(w1=\"ناوازە\",w2=\"نایاب\")"
   ]
  },
  {
   "cell_type": "markdown",
   "metadata": {},
   "source": [
    "## Comparison between 2000 model and 20,000 model"
   ]
  },
  {
   "cell_type": "code",
   "execution_count": 4,
   "metadata": {},
   "outputs": [],
   "source": [
    "two_model=gensim.models.Word2Vec.load(\"../models/kurdish-word2vec-3000.model\")\n",
    "twenty_model=gensim.models.Word2Vec.load(\"../models/kurdish-word2vec-75279.model\")\n",
    "eng=gensim.models.Word2Vec.load(\"../models/english-word2vec.model\")\n",
    "\n"
   ]
  },
  {
   "cell_type": "code",
   "execution_count": null,
   "metadata": {},
   "outputs": [],
   "source": []
  },
  {
   "cell_type": "markdown",
   "metadata": {},
   "source": [
    "#### Similiarity comparison"
   ]
  },
  {
   "cell_type": "code",
   "execution_count": 5,
   "metadata": {},
   "outputs": [
    {
     "name": "stdout",
     "output_type": "stream",
     "text": [
      "model 1: [('تارگێت', 0.9552736878395081), ('دەیفرۆشن', 0.9551293253898621), ('ئەوەندەی', 0.9550510048866272), ('فڕێدا', 0.9547895193099976), ('ستانداردی', 0.9546394348144531)]\n",
      "model 2: [('بێهیوا', 0.9291748404502869), ('ناڕازی', 0.9205631017684937), ('کنجکاو', 0.9063196778297424), ('دەمارگیر', 0.8955897688865662), ('هیوادار', 0.8950649499893188)]\n",
      "model 2: [('chewing', 0.7258464694023132), ('cats', 0.698319137096405), ('dog', 0.687409520149231), ('kid', 0.6554325222969055), ('toddler', 0.6033084392547607)]\n"
     ]
    }
   ],
   "source": [
    "text=\"دڵتەنگ\"\n",
    "texteng=\"cat\"\n",
    "print(f'model 1: {two_model.wv.most_similar(text,topn=5)}')\n",
    "print(f'model 2: {twenty_model.wv.most_similar(text,topn=5)}')\n",
    "print(f'model 2: {eng.wv.most_similar(texteng,topn=5)}')"
   ]
  },
  {
   "cell_type": "markdown",
   "metadata": {},
   "source": []
  },
  {
   "cell_type": "code",
   "execution_count": 38,
   "metadata": {},
   "outputs": [
    {
     "name": "stdout",
     "output_type": "stream",
     "text": [
      "model 1: شەربەت\n",
      "model 1: شەربەت\n"
     ]
    }
   ],
   "source": [
    "text=[\"دۆلار\",\"سەنت\",\"شەربەت\",\"پاوند\"]\n",
    "\n",
    "print(f'model 1: {two_model.wv.doesnt_match(text)}')\n",
    "print(f'model 1: {twenty_model.wv.doesnt_match(text)}')"
   ]
  },
  {
   "cell_type": "code",
   "execution_count": 95,
   "metadata": {},
   "outputs": [
    {
     "ename": "AttributeError",
     "evalue": "'KeyedVectors' object has no attribute 'expandose_vectors'",
     "output_type": "error",
     "traceback": [
      "\u001b[1;31m---------------------------------------------------------------------------\u001b[0m",
      "\u001b[1;31mAttributeError\u001b[0m                            Traceback (most recent call last)",
      "Cell \u001b[1;32mIn[95], line 1\u001b[0m\n\u001b[1;32m----> 1\u001b[0m \u001b[43mtwenty_model\u001b[49m\u001b[38;5;241;43m.\u001b[39;49m\u001b[43mwv\u001b[49m\u001b[38;5;241;43m.\u001b[39;49m\u001b[43mexpandose_vectors\u001b[49m\u001b[38;5;241m.\u001b[39mshape\n",
      "\u001b[1;31mAttributeError\u001b[0m: 'KeyedVectors' object has no attribute 'expandose_vectors'"
     ]
    }
   ],
   "source": []
  },
  {
   "cell_type": "code",
   "execution_count": null,
   "metadata": {},
   "outputs": [],
   "source": []
  }
 ],
 "metadata": {
  "kernelspec": {
   "display_name": "tensorflow",
   "language": "python",
   "name": "python3"
  },
  "language_info": {
   "codemirror_mode": {
    "name": "ipython",
    "version": 3
   },
   "file_extension": ".py",
   "mimetype": "text/x-python",
   "name": "python",
   "nbconvert_exporter": "python",
   "pygments_lexer": "ipython3",
   "version": "3.10.14"
  }
 },
 "nbformat": 4,
 "nbformat_minor": 2
}
