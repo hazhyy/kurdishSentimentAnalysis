{
 "cells": [
  {
   "cell_type": "markdown",
   "metadata": {},
   "source": [
    "# Building a vectorizer model with gensim"
   ]
  },
  {
   "cell_type": "code",
   "execution_count": 2,
   "metadata": {},
   "outputs": [],
   "source": [
    "import gensim\n",
    "import pandas as pd\n",
    "from tqdm.notebook import tqdm"
   ]
  },
  {
   "cell_type": "code",
   "execution_count": 4,
   "metadata": {},
   "outputs": [],
   "source": [
    "df=pd.read_csv(\"../data/translated/kurdish-reviews5.csv\")\n",
    "# df=pd.read_csv(\"../data/medical-kurdish-dataset.csv\")"
   ]
  },
  {
   "cell_type": "code",
   "execution_count": 5,
   "metadata": {},
   "outputs": [
    {
     "data": {
      "text/plain": [
       "(47, 4)"
      ]
     },
     "execution_count": 5,
     "metadata": {},
     "output_type": "execute_result"
    }
   ],
   "source": [
    "df.shape    "
   ]
  },
  {
   "cell_type": "code",
   "execution_count": 6,
   "metadata": {},
   "outputs": [],
   "source": [
    "df['KurdishText'] = df['KurdishText'].fillna('')"
   ]
  },
  {
   "cell_type": "code",
   "execution_count": 7,
   "metadata": {},
   "outputs": [],
   "source": [
    "\n",
    "# res={}\n",
    "# for i,row in tqdm(df.iterrows(),total=len(df)):\n",
    "#     try:\n",
    "#         text=row.KurdishText\n",
    "#         myId=row.Id\n",
    "#         gensim_results=gensim.utils.simple_preprocess(text)\n",
    "#         res[myId]=gensim_results\n",
    "#     except TypeError:\n",
    "#         print(\"typerror for text: \",text)\n",
    "#         continue\n",
    "\n"
   ]
  },
  {
   "cell_type": "markdown",
   "metadata": {},
   "source": [
    "### tokenizing the kurdih reviews"
   ]
  },
  {
   "cell_type": "code",
   "execution_count": 8,
   "metadata": {},
   "outputs": [],
   "source": [
    "# continuing with old way not looping\n",
    "review_text=df.KurdishText.apply(gensim.utils.simple_preprocess)"
   ]
  },
  {
   "cell_type": "markdown",
   "metadata": {},
   "source": [
    "### building the model and training word2vec"
   ]
  },
  {
   "cell_type": "code",
   "execution_count": 9,
   "metadata": {},
   "outputs": [],
   "source": [
    "model=gensim.models.Word2Vec(\n",
    "    window=10,\n",
    "    min_count=2,\n",
    "    workers=4\n",
    ")"
   ]
  },
  {
   "cell_type": "code",
   "execution_count": 10,
   "metadata": {},
   "outputs": [],
   "source": [
    "model.build_vocab(review_text,progress_per=100)"
   ]
  },
  {
   "cell_type": "code",
   "execution_count": 11,
   "metadata": {},
   "outputs": [
    {
     "data": {
      "text/plain": [
       "5"
      ]
     },
     "execution_count": 11,
     "metadata": {},
     "output_type": "execute_result"
    }
   ],
   "source": [
    "model.epochs"
   ]
  },
  {
   "cell_type": "code",
   "execution_count": 12,
   "metadata": {},
   "outputs": [
    {
     "data": {
      "text/plain": [
       "47"
      ]
     },
     "execution_count": 12,
     "metadata": {},
     "output_type": "execute_result"
    }
   ],
   "source": [
    "model.corpus_count"
   ]
  },
  {
   "cell_type": "code",
   "execution_count": 13,
   "metadata": {},
   "outputs": [
    {
     "data": {
      "text/plain": [
       "(47571, 68625)"
      ]
     },
     "execution_count": 13,
     "metadata": {},
     "output_type": "execute_result"
    }
   ],
   "source": [
    "model.train(review_text,total_examples=model.corpus_count,epochs=model.epochs)"
   ]
  },
  {
   "cell_type": "code",
   "execution_count": null,
   "metadata": {},
   "outputs": [],
   "source": []
  },
  {
   "cell_type": "code",
   "execution_count": 248,
   "metadata": {},
   "outputs": [],
   "source": [
    "model.save(\"../models/kurdish-word2vec-20000.model\")"
   ]
  },
  {
   "cell_type": "code",
   "execution_count": 15,
   "metadata": {},
   "outputs": [
    {
     "data": {
      "text/plain": [
       "[('پتەوکردنی', 0.9288321733474731),\n",
       " ('بکەن', 0.9254183769226074),\n",
       " ('شەوانەکان', 0.9253820180892944),\n",
       " ('كات', 0.9253047108650208),\n",
       " ('شوباتی', 0.9234508275985718),\n",
       " ('ڕوداوە', 0.922707200050354),\n",
       " ('بڕیارە', 0.9226899147033691),\n",
       " ('هانی', 0.9222294688224792),\n",
       " ('خەڵک', 0.9221873879432678),\n",
       " ('قەوارەی', 0.9221734404563904)]"
      ]
     },
     "execution_count": 15,
     "metadata": {},
     "output_type": "execute_result"
    }
   ],
   "source": [
    "model.wv.most_similar(\"دڵخۆش\")"
   ]
  },
  {
   "cell_type": "code",
   "execution_count": 250,
   "metadata": {},
   "outputs": [
    {
     "data": {
      "text/plain": [
       "0.6588227"
      ]
     },
     "execution_count": 250,
     "metadata": {},
     "output_type": "execute_result"
    }
   ],
   "source": [
    "model.wv.similarity(w1=\"دڵتەنگ\",w2=\"دڵخۆش\")"
   ]
  },
  {
   "cell_type": "code",
   "execution_count": 251,
   "metadata": {},
   "outputs": [
    {
     "data": {
      "text/plain": [
       "'قاوە'"
      ]
     },
     "execution_count": 251,
     "metadata": {},
     "output_type": "execute_result"
    }
   ],
   "source": [
    "model.wv.doesnt_match([\"گونجاو\",\"هەرزان\",\"باش\",\"قاوە\"])"
   ]
  },
  {
   "cell_type": "code",
   "execution_count": 252,
   "metadata": {},
   "outputs": [
    {
     "data": {
      "text/plain": [
       "'کچ'"
      ]
     },
     "execution_count": 252,
     "metadata": {},
     "output_type": "execute_result"
    }
   ],
   "source": [
    "model.wv.doesnt_match([\"چا\",\"چای\",\"چوکلێت\",\"قاوە\",\"کچ\"])\n"
   ]
  },
  {
   "cell_type": "code",
   "execution_count": 253,
   "metadata": {},
   "outputs": [
    {
     "data": {
      "text/plain": [
       "[('ئاشکرا', 0.4046480059623718),\n",
       " ('سریلانکا', 0.4013921618461609),\n",
       " ('ژاپۆنی', 0.38860073685646057),\n",
       " ('گەلانی', 0.3874826729297638),\n",
       " ('وردکراوەکە', 0.38216421008110046),\n",
       " ('بڕوای', 0.3812050521373749),\n",
       " ('ئەمریکایە', 0.3808383345603943),\n",
       " ('سۆگۆ', 0.3801935911178589),\n",
       " ('ناوزەد', 0.37941908836364746),\n",
       " ('تەقلیدیانەی', 0.374645859003067)]"
      ]
     },
     "execution_count": 253,
     "metadata": {},
     "output_type": "execute_result"
    }
   ],
   "source": [
    "model.wv.most_similar(positive=[\"شاژن\",\"پاشا\"],negative=[\"پیاو\"])"
   ]
  },
  {
   "cell_type": "code",
   "execution_count": 244,
   "metadata": {},
   "outputs": [
    {
     "data": {
      "text/plain": [
       "array([-2.2584677 , -1.3639876 , -0.8485835 ,  1.2601333 , -0.23954327,\n",
       "        2.2976618 , -0.8422657 , -2.2540371 ,  0.5392582 , -1.4882792 ,\n",
       "       -4.607214  , -2.207439  ,  2.427937  ,  1.2737063 , -2.8636103 ,\n",
       "       -1.5466975 , -1.7363892 ,  3.0353637 ,  1.4955368 ,  4.617238  ,\n",
       "       -2.529456  , -3.2289004 , -0.7921148 , -3.0685492 ,  2.8004937 ,\n",
       "       -3.1982856 ,  6.767797  , -0.73264503,  2.174561  , -3.4936006 ,\n",
       "       -1.0328193 ,  0.6688558 ,  3.44486   , -2.4575179 ,  2.6412258 ,\n",
       "       -0.6756578 ,  2.9294686 ,  4.7435136 ,  0.51138073,  1.2657015 ,\n",
       "        1.681758  ,  3.8996522 ,  0.292119  , -1.7589962 , -1.7251204 ,\n",
       "       -4.079862  ,  0.8179134 , -5.6168694 ,  1.5404359 , -2.312481  ,\n",
       "        0.8291275 ,  0.18192616, -2.182993  ,  2.6200056 , -3.3055346 ,\n",
       "       -1.3190445 ,  4.478493  , -1.1130794 , -4.6242695 ,  0.62258834,\n",
       "        1.4787244 ,  1.7091652 ,  1.2086477 , -0.674437  , -2.420332  ,\n",
       "       -4.8585763 , -1.5338455 , -0.01571877, -0.915234  , -1.9796073 ,\n",
       "       -0.40076664, -1.5600992 ,  2.8186924 ,  2.6574621 , -2.1926403 ,\n",
       "       -4.325874  , -3.3294604 ,  1.5474713 ,  3.4151244 ,  2.110226  ,\n",
       "       -1.5423565 , -2.2980485 ,  1.4600856 , -3.1543133 , -1.6598935 ,\n",
       "        0.9690574 , -3.2064924 ,  1.7578429 , -1.5493983 ,  1.2902956 ,\n",
       "        1.2221332 , -1.7622343 , -1.9314452 , -1.0196725 , -4.209439  ,\n",
       "        2.9919877 , -6.075454  ,  1.900222  , -0.19062121,  0.17392577],\n",
       "      dtype=float32)"
      ]
     },
     "execution_count": 244,
     "metadata": {},
     "output_type": "execute_result"
    }
   ],
   "source": [
    "model.wv[\"باش\"]"
   ]
  },
  {
   "cell_type": "code",
   "execution_count": 245,
   "metadata": {},
   "outputs": [
    {
     "data": {
      "text/plain": [
       "0.649310827255249"
      ]
     },
     "execution_count": 245,
     "metadata": {},
     "output_type": "execute_result"
    }
   ],
   "source": [
    "model.wv.distance(w1=\"ناوازە\",w2=\"نایاب\")"
   ]
  },
  {
   "cell_type": "markdown",
   "metadata": {},
   "source": [
    "## Comparison between 2000 model and 20,000 model"
   ]
  },
  {
   "cell_type": "code",
   "execution_count": 256,
   "metadata": {},
   "outputs": [],
   "source": [
    "two_model=gensim.models.Word2Vec.load(\"../models/kurdish-word2vec-2000.model\")\n",
    "twenty_model=gensim.models.Word2Vec.load(\"../models/kurdish-word2vec-20000.model\")\n"
   ]
  },
  {
   "cell_type": "code",
   "execution_count": 265,
   "metadata": {},
   "outputs": [
    {
     "data": {
      "text/plain": [
       "[('بوون', 0.9917393922805786), ('کڕی', 0.9916492104530334)]"
      ]
     },
     "execution_count": 265,
     "metadata": {},
     "output_type": "execute_result"
    }
   ],
   "source": [
    "two_model.wv.most_similar(\"گران\",topn=2)"
   ]
  },
  {
   "cell_type": "code",
   "execution_count": 289,
   "metadata": {},
   "outputs": [
    {
     "data": {
      "text/plain": [
       "[('گەیاندنی', 0.6742141246795654), ('گەیاندنەکە', 0.6029205918312073)]"
      ]
     },
     "execution_count": 289,
     "metadata": {},
     "output_type": "execute_result"
    }
   ],
   "source": [
    "twenty_model.wv.most_similar(\"گەیاندن\",topn=2)\n"
   ]
  },
  {
   "cell_type": "code",
   "execution_count": null,
   "metadata": {},
   "outputs": [],
   "source": []
  }
 ],
 "metadata": {
  "kernelspec": {
   "display_name": "tensorflow",
   "language": "python",
   "name": "python3"
  },
  "language_info": {
   "codemirror_mode": {
    "name": "ipython",
    "version": 3
   },
   "file_extension": ".py",
   "mimetype": "text/x-python",
   "name": "python",
   "nbconvert_exporter": "python",
   "pygments_lexer": "ipython3",
   "version": "3.10.14"
  }
 },
 "nbformat": 4,
 "nbformat_minor": 2
}
