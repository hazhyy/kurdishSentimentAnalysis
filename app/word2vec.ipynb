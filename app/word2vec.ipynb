{
 "cells": [
  {
   "cell_type": "markdown",
   "metadata": {},
   "source": [
    "# Building a vectorizer model with gensim"
   ]
  },
  {
   "cell_type": "code",
   "execution_count": 153,
   "metadata": {},
   "outputs": [],
   "source": [
    "import gensim\n",
    "import pandas as pd\n",
    "from tqdm.notebook import tqdm"
   ]
  },
  {
   "cell_type": "code",
   "execution_count": 154,
   "metadata": {},
   "outputs": [],
   "source": [
    "df=pd.read_csv(\"../data/translated/kurdish-reviews6.csv\")\n",
    "# df=pd.read_csv(\"../data/medical-kurdish-dataset.csv\")"
   ]
  },
  {
   "cell_type": "code",
   "execution_count": 155,
   "metadata": {},
   "outputs": [
    {
     "data": {
      "text/plain": [
       "(30000, 11)"
      ]
     },
     "execution_count": 155,
     "metadata": {},
     "output_type": "execute_result"
    }
   ],
   "source": [
    "df.shape    "
   ]
  },
  {
   "cell_type": "code",
   "execution_count": 156,
   "metadata": {},
   "outputs": [],
   "source": [
    "df['KurdishText'] = df['KurdishText'].fillna('')"
   ]
  },
  {
   "cell_type": "code",
   "execution_count": 157,
   "metadata": {},
   "outputs": [],
   "source": [
    "\n",
    "# res={}\n",
    "# for i,row in tqdm(df.iterrows(),total=len(df)):\n",
    "#     try:\n",
    "#         text=row.KurdishText\n",
    "#         myId=row.Id\n",
    "#         gensim_results=gensim.utils.simple_preprocess(text)\n",
    "#         res[myId]=gensim_results\n",
    "#     except TypeError:\n",
    "#         print(\"typerror for text: \",text)\n",
    "#         continue\n",
    "\n"
   ]
  },
  {
   "cell_type": "markdown",
   "metadata": {},
   "source": [
    "### tokenizing the kurdih reviews"
   ]
  },
  {
   "cell_type": "code",
   "execution_count": 158,
   "metadata": {},
   "outputs": [],
   "source": [
    "# continuing with old way not looping\n",
    "review_text=df.KurdishText.apply(gensim.utils.simple_preprocess)"
   ]
  },
  {
   "cell_type": "markdown",
   "metadata": {},
   "source": [
    "### building the model and training word2vec"
   ]
  },
  {
   "cell_type": "code",
   "execution_count": 159,
   "metadata": {},
   "outputs": [],
   "source": [
    "model=gensim.models.Word2Vec(\n",
    "    window=10,\n",
    "    min_count=2,\n",
    "    workers=4\n",
    ")"
   ]
  },
  {
   "cell_type": "code",
   "execution_count": 160,
   "metadata": {},
   "outputs": [],
   "source": [
    "model.build_vocab(review_text,progress_per=100)"
   ]
  },
  {
   "cell_type": "code",
   "execution_count": 161,
   "metadata": {},
   "outputs": [
    {
     "data": {
      "text/plain": [
       "5"
      ]
     },
     "execution_count": 161,
     "metadata": {},
     "output_type": "execute_result"
    }
   ],
   "source": [
    "model.epochs"
   ]
  },
  {
   "cell_type": "code",
   "execution_count": 162,
   "metadata": {},
   "outputs": [
    {
     "data": {
      "text/plain": [
       "30000"
      ]
     },
     "execution_count": 162,
     "metadata": {},
     "output_type": "execute_result"
    }
   ],
   "source": [
    "model.corpus_count"
   ]
  },
  {
   "cell_type": "code",
   "execution_count": 163,
   "metadata": {},
   "outputs": [
    {
     "data": {
      "text/plain": [
       "(8131975, 9922710)"
      ]
     },
     "execution_count": 163,
     "metadata": {},
     "output_type": "execute_result"
    }
   ],
   "source": [
    "model.train(review_text,total_examples=model.corpus_count,epochs=model.epochs)"
   ]
  },
  {
   "cell_type": "code",
   "execution_count": 164,
   "metadata": {},
   "outputs": [],
   "source": [
    "model.save(f\"../models/kurdish-word2vec-{model.corpus_count}.model\")"
   ]
  },
  {
   "cell_type": "code",
   "execution_count": 206,
   "metadata": {},
   "outputs": [
    {
     "data": {
      "text/plain": [
       "[('بەرواری', 0.865491509437561),\n",
       " ('بەسەرچوونی', 0.8429747223854065),\n",
       " ('بەسەرچوونیان', 0.8340602517127991),\n",
       " ('نیسانی', 0.7773920893669128),\n",
       " ('حوزەیرانی', 0.7524710297584534),\n",
       " ('jan', 0.7447219491004944),\n",
       " ('گەیاندرایە', 0.7416166067123413),\n",
       " ('پاکێجەکە', 0.7401153445243835),\n",
       " ('oct', 0.7377173900604248),\n",
       " ('پشکنی', 0.7356353998184204)]"
      ]
     },
     "execution_count": 206,
     "metadata": {},
     "output_type": "execute_result"
    }
   ],
   "source": [
    "model.wv.most_similar(\"بەسەرچوون\")"
   ]
  },
  {
   "cell_type": "code",
   "execution_count": 166,
   "metadata": {},
   "outputs": [
    {
     "data": {
      "text/plain": [
       "0.76048034"
      ]
     },
     "execution_count": 166,
     "metadata": {},
     "output_type": "execute_result"
    }
   ],
   "source": [
    "model.wv.similarity(w1=\"دڵتەنگ\",w2=\"دڵخۆش\")"
   ]
  },
  {
   "cell_type": "code",
   "execution_count": 196,
   "metadata": {},
   "outputs": [
    {
     "data": {
      "text/plain": [
       "'کچ'"
      ]
     },
     "execution_count": 196,
     "metadata": {},
     "output_type": "execute_result"
    }
   ],
   "source": [
    "model.wv.doesnt_match([\"گونجاو\",\"هەرزان\",\"باش\",\"کچ\"])"
   ]
  },
  {
   "cell_type": "code",
   "execution_count": 193,
   "metadata": {},
   "outputs": [
    {
     "data": {
      "text/plain": [
       "'پشیلە'"
      ]
     },
     "execution_count": 193,
     "metadata": {},
     "output_type": "execute_result"
    }
   ],
   "source": [
    "model.wv.doesnt_match([\"چا\",\"چای\",\"پشیلە\",\"قاوە\",\"شیر\"])\n"
   ]
  },
  {
   "cell_type": "code",
   "execution_count": 195,
   "metadata": {},
   "outputs": [
    {
     "data": {
      "text/plain": [
       "'پرتەقاڵ'"
      ]
     },
     "execution_count": 195,
     "metadata": {},
     "output_type": "execute_result"
    }
   ],
   "source": [
    "model.wv.doesnt_match([\"شێر\",\"سەگ\",\"پشیلە\",\"باڵندە\",\"پرتەقاڵ\"])\n"
   ]
  },
  {
   "cell_type": "code",
   "execution_count": 169,
   "metadata": {},
   "outputs": [
    {
     "data": {
      "text/plain": [
       "'گران'"
      ]
     },
     "execution_count": 169,
     "metadata": {},
     "output_type": "execute_result"
    }
   ],
   "source": [
    "model.wv.doesnt_match([\"دڵخۆش\",\"گران\",\"دڵتەنگ\",\"خەمبار\"])\n"
   ]
  },
  {
   "cell_type": "code",
   "execution_count": 170,
   "metadata": {},
   "outputs": [
    {
     "data": {
      "text/plain": [
       "[('egrave', 0.7382482290267944),\n",
       " ('cr', 0.7165148258209229),\n",
       " ('ڕۆژهەڵاتی', 0.6775225400924683),\n",
       " ('هەڵمکردن', 0.6752817630767822),\n",
       " ('دروێنە', 0.6732248067855835),\n",
       " ('ئەمریکای', 0.6725807785987854),\n",
       " ('نەریتی', 0.6571123003959656),\n",
       " ('دەستوەردان', 0.6523147821426392),\n",
       " ('سوێتە', 0.6464184522628784),\n",
       " ('چینەکانی', 0.6381911635398865)]"
      ]
     },
     "execution_count": 170,
     "metadata": {},
     "output_type": "execute_result"
    }
   ],
   "source": [
    "model.wv.most_similar(positive=[\"شاژن\",\"پاشا\"],negative=[\"پیاو\"])"
   ]
  },
  {
   "cell_type": "code",
   "execution_count": 171,
   "metadata": {},
   "outputs": [
    {
     "data": {
      "text/plain": [
       "array([-2.6172478 ,  1.45575   , -0.21326923, -2.0738397 ,  0.4716205 ,\n",
       "       -2.6992457 , -2.0740469 , -0.7920629 ,  0.00628766, -0.06026602,\n",
       "       -0.24524309,  2.1522872 ,  2.3297627 ,  2.1529198 , -3.1394815 ,\n",
       "       -1.210419  ,  0.07800918, -0.44206458, -0.83098996,  1.0399299 ,\n",
       "        0.22150122, -1.109959  ,  0.65006506, -1.5981456 ,  2.6995044 ,\n",
       "       -0.05390262,  4.0762434 ,  0.2719617 ,  1.807954  , -1.3387496 ,\n",
       "        0.4806367 ,  1.2275134 , -0.98409253, -2.6822445 ,  4.1402826 ,\n",
       "       -1.1665434 , -0.41551536, -0.7742945 ,  1.6125237 , -1.1872507 ,\n",
       "        0.8419438 , -1.9698278 ,  1.4520111 ,  0.5330274 , -2.7859385 ,\n",
       "       -1.3103911 ,  0.6321787 , -0.78267956, -0.76309246, -0.687131  ,\n",
       "        2.4477892 , -1.632078  ,  2.0252657 , -0.3197764 , -1.9605489 ,\n",
       "        0.14420328,  1.4096761 ,  1.5112597 , -2.144825  ,  0.7348722 ,\n",
       "        2.0299315 ,  0.55946475, -0.77947587, -3.190896  , -0.88962245,\n",
       "       -3.6717885 ,  1.2174424 ,  0.8748749 , -2.2511363 ,  2.49202   ,\n",
       "       -2.567568  ,  0.38271853,  1.0246361 ,  2.1059003 ,  0.11809441,\n",
       "       -0.61018723, -0.09278539, -0.8139062 ,  2.902246  ,  0.24670312,\n",
       "       -0.97353727,  2.014322  , -0.86241895, -1.5761914 , -1.8866429 ,\n",
       "       -1.3605424 , -3.6035216 ,  1.2537353 , -0.5065711 ,  0.34139088,\n",
       "        3.247923  ,  1.1365689 , -1.9721642 ,  0.09289235, -3.0588682 ,\n",
       "       -0.8805277 ,  1.6732768 , -2.0168235 ,  0.12799165,  1.0643835 ],\n",
       "      dtype=float32)"
      ]
     },
     "execution_count": 171,
     "metadata": {},
     "output_type": "execute_result"
    }
   ],
   "source": [
    "model.wv[\"باش\"]"
   ]
  },
  {
   "cell_type": "code",
   "execution_count": 172,
   "metadata": {},
   "outputs": [
    {
     "data": {
      "text/plain": [
       "0.5627623498439789"
      ]
     },
     "execution_count": 172,
     "metadata": {},
     "output_type": "execute_result"
    }
   ],
   "source": [
    "model.wv.distance(w1=\"ناوازە\",w2=\"نایاب\")"
   ]
  },
  {
   "cell_type": "markdown",
   "metadata": {},
   "source": [
    "## Comparison between 2000 model and 20,000 model"
   ]
  },
  {
   "cell_type": "code",
   "execution_count": 173,
   "metadata": {},
   "outputs": [],
   "source": [
    "two_model=gensim.models.Word2Vec.load(\"../models/kurdish-word2vec-20000.model\")\n",
    "twenty_model=gensim.models.Word2Vec.load(\"../models/kurdish-word2vec-30000.model\")\n"
   ]
  },
  {
   "cell_type": "markdown",
   "metadata": {},
   "source": [
    "#### Similiarity comparison"
   ]
  },
  {
   "cell_type": "code",
   "execution_count": 181,
   "metadata": {},
   "outputs": [
    {
     "name": "stdout",
     "output_type": "stream",
     "text": [
      "model 1: [('باشتر', 0.7169090509414673), ('گونجاو', 0.6994403600692749), ('ئاسان', 0.6794298887252808)]\n",
      "model 2: [('گونجاو', 0.7060096263885498), ('باشتر', 0.6612275838851929), ('شایستە', 0.6326435208320618)]\n"
     ]
    }
   ],
   "source": [
    "text=\"باش\"\n",
    "print(f'model 1: {two_model.wv.most_similar(text,topn=3)}')\n",
    "print(f'model 2: {twenty_model.wv.most_similar(text,topn=3)}')"
   ]
  },
  {
   "cell_type": "code",
   "execution_count": null,
   "metadata": {},
   "outputs": [],
   "source": []
  },
  {
   "cell_type": "code",
   "execution_count": null,
   "metadata": {},
   "outputs": [],
   "source": []
  }
 ],
 "metadata": {
  "kernelspec": {
   "display_name": "tensorflow",
   "language": "python",
   "name": "python3"
  },
  "language_info": {
   "codemirror_mode": {
    "name": "ipython",
    "version": 3
   },
   "file_extension": ".py",
   "mimetype": "text/x-python",
   "name": "python",
   "nbconvert_exporter": "python",
   "pygments_lexer": "ipython3",
   "version": "3.10.14"
  }
 },
 "nbformat": 4,
 "nbformat_minor": 2
}
