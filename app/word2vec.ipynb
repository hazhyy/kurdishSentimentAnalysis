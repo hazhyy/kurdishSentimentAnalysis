{
 "cells": [
  {
   "cell_type": "code",
   "execution_count": 1,
   "metadata": {},
   "outputs": [],
   "source": [
    "import gensim\n",
    "import pandas as pd\n",
    "from tqdm.notebook import tqdm"
   ]
  },
  {
   "cell_type": "code",
   "execution_count": 2,
   "metadata": {},
   "outputs": [],
   "source": [
    "# df=pd.read_json(\"../data/Cell_Phones_and_Accessories_5.json\",lines=True)"
   ]
  },
  {
   "cell_type": "code",
   "execution_count": 3,
   "metadata": {},
   "outputs": [],
   "source": [
    "df=pd.read_csv(\"../data/translated/kurdish-reviews.csv\")\n",
    "# df=pd.read_csv(\"../data/medical-kurdish-dataset.csv\")"
   ]
  },
  {
   "cell_type": "code",
   "execution_count": 6,
   "metadata": {},
   "outputs": [
    {
     "data": {
      "text/plain": [
       "0       چەندین بەرهەمی خۆراکی سەگی قوتووکراوی ڤیتالیتی...\n",
       "1       بەرهەمەکە گەیشتە لای کە بە ناوی Jumbo Salted P...\n",
       "2       ئەمە شیرینییەکە کە لە دەوروبەری چەند سەدەیەکدا...\n",
       "3       ئەگەر بەدوای پێکهاتەی نهێنی ڕۆبیتوسیندا دەگەڕێ...\n",
       "4       تافی نایاب بە نرخێکی نایاب. جۆرێکی بەرفراوانی ...\n",
       "                              ...                        \n",
       "1995    دەبێت پێبکەنم بەو پێداچوونەوەیانەی کە دەیانگوت...\n",
       "1996    ماوەیەکی زۆر لەمەوبەر چەند پێداچوونەوەیەکی لەب...\n",
       "1997    چاوەڕوانی شتی گەورە بووم بە پشتبەستن بە پێداچو...\n",
       "1998    من ئەم تێکەڵەی پانکەیکەم زۆر خۆشدەوێت. نزیکەی ...\n",
       "1999    ئەتوانم چی بڵێم?? ئەوان نایاب و سەرنجڕاکێشن، و...\n",
       "Name: KurdishText, Length: 2000, dtype: object"
      ]
     },
     "execution_count": 6,
     "metadata": {},
     "output_type": "execute_result"
    }
   ],
   "source": [
    "df.KurdishText\n"
   ]
  },
  {
   "cell_type": "code",
   "execution_count": 7,
   "metadata": {},
   "outputs": [],
   "source": [
    "\n",
    "def preprocess_text(text):\n",
    "    try:\n",
    "        return gensim.utils.simple_preprocess(text)\n",
    "    except TypeError:\n",
    "        print(\"typerror for text: \",text)\n",
    "        return []\n"
   ]
  },
  {
   "cell_type": "code",
   "execution_count": 8,
   "metadata": {},
   "outputs": [
    {
     "name": "stdout",
     "output_type": "stream",
     "text": [
      "typerror for text:  nan\n",
      "typerror for text:  nan\n",
      "typerror for text:  nan\n"
     ]
    }
   ],
   "source": [
    "df['PreprocessedText']=df.KurdishText.apply(preprocess_text)"
   ]
  },
  {
   "cell_type": "code",
   "execution_count": 9,
   "metadata": {},
   "outputs": [
    {
     "data": {
      "text/html": [
       "<div>\n",
       "<style scoped>\n",
       "    .dataframe tbody tr th:only-of-type {\n",
       "        vertical-align: middle;\n",
       "    }\n",
       "\n",
       "    .dataframe tbody tr th {\n",
       "        vertical-align: top;\n",
       "    }\n",
       "\n",
       "    .dataframe thead th {\n",
       "        text-align: right;\n",
       "    }\n",
       "</style>\n",
       "<table border=\"1\" class=\"dataframe\">\n",
       "  <thead>\n",
       "    <tr style=\"text-align: right;\">\n",
       "      <th></th>\n",
       "      <th>Id</th>\n",
       "      <th>KurdishText</th>\n",
       "      <th>ProductId</th>\n",
       "      <th>UserId</th>\n",
       "      <th>ProfileName</th>\n",
       "      <th>HelpfulnessNumerator</th>\n",
       "      <th>HelpfulnessDenominator</th>\n",
       "      <th>Score</th>\n",
       "      <th>Time</th>\n",
       "      <th>Summary</th>\n",
       "      <th>Text</th>\n",
       "      <th>PreprocessedText</th>\n",
       "    </tr>\n",
       "  </thead>\n",
       "  <tbody>\n",
       "    <tr>\n",
       "      <th>0</th>\n",
       "      <td>1</td>\n",
       "      <td>چەندین بەرهەمی خۆراکی سەگی قوتووکراوی ڤیتالیتی...</td>\n",
       "      <td>B001E4KFG0</td>\n",
       "      <td>A3SGXH7AUHU8GW</td>\n",
       "      <td>delmartian</td>\n",
       "      <td>1</td>\n",
       "      <td>1</td>\n",
       "      <td>5</td>\n",
       "      <td>1303862400</td>\n",
       "      <td>Good Quality Dog Food</td>\n",
       "      <td>I have bought several of the Vitality canned d...</td>\n",
       "      <td>[چەندین, بەرهەمی, خۆراکی, سەگی, قوتووکراوی, ڤی...</td>\n",
       "    </tr>\n",
       "    <tr>\n",
       "      <th>1</th>\n",
       "      <td>2</td>\n",
       "      <td>بەرهەمەکە گەیشتە لای کە بە ناوی Jumbo Salted P...</td>\n",
       "      <td>B00813GRG4</td>\n",
       "      <td>A1D87F6ZCVE5NK</td>\n",
       "      <td>dll pa</td>\n",
       "      <td>0</td>\n",
       "      <td>0</td>\n",
       "      <td>1</td>\n",
       "      <td>1346976000</td>\n",
       "      <td>Not as Advertised</td>\n",
       "      <td>Product arrived labeled as Jumbo Salted Peanut...</td>\n",
       "      <td>[بەرهەمەکە, گەیشتە, لای, کە, بە, ناوی, jumbo, ...</td>\n",
       "    </tr>\n",
       "    <tr>\n",
       "      <th>2</th>\n",
       "      <td>3</td>\n",
       "      <td>ئەمە شیرینییەکە کە لە دەوروبەری چەند سەدەیەکدا...</td>\n",
       "      <td>B000LQOCH0</td>\n",
       "      <td>ABXLMWJIXXAIN</td>\n",
       "      <td>Natalia Corres \"Natalia Corres\"</td>\n",
       "      <td>1</td>\n",
       "      <td>1</td>\n",
       "      <td>4</td>\n",
       "      <td>1219017600</td>\n",
       "      <td>\"Delight\" says it all</td>\n",
       "      <td>This is a confection that has been around a fe...</td>\n",
       "      <td>[ئەمە, شیرینییەکە, کە, لە, دەوروبەری, چەند, سە...</td>\n",
       "    </tr>\n",
       "    <tr>\n",
       "      <th>3</th>\n",
       "      <td>4</td>\n",
       "      <td>ئەگەر بەدوای پێکهاتەی نهێنی ڕۆبیتوسیندا دەگەڕێ...</td>\n",
       "      <td>B000UA0QIQ</td>\n",
       "      <td>A395BORC6FGVXV</td>\n",
       "      <td>Karl</td>\n",
       "      <td>3</td>\n",
       "      <td>3</td>\n",
       "      <td>2</td>\n",
       "      <td>1307923200</td>\n",
       "      <td>Cough Medicine</td>\n",
       "      <td>If you are looking for the secret ingredient i...</td>\n",
       "      <td>[ئەگەر, بەدوای, پێکهاتەی, نهێنی, ڕۆبیتوسیندا, ...</td>\n",
       "    </tr>\n",
       "    <tr>\n",
       "      <th>4</th>\n",
       "      <td>5</td>\n",
       "      <td>تافی نایاب بە نرخێکی نایاب. جۆرێکی بەرفراوانی ...</td>\n",
       "      <td>B006K2ZZ7K</td>\n",
       "      <td>A1UQRSCLF8GW1T</td>\n",
       "      <td>Michael D. Bigham \"M. Wassir\"</td>\n",
       "      <td>0</td>\n",
       "      <td>0</td>\n",
       "      <td>5</td>\n",
       "      <td>1350777600</td>\n",
       "      <td>Great taffy</td>\n",
       "      <td>Great taffy at a great price.  There was a wid...</td>\n",
       "      <td>[تافی, نایاب, بە, نرخێکی, نایاب, جۆرێکی, بەرفر...</td>\n",
       "    </tr>\n",
       "  </tbody>\n",
       "</table>\n",
       "</div>"
      ],
      "text/plain": [
       "   Id                                        KurdishText   ProductId  \\\n",
       "0   1  چەندین بەرهەمی خۆراکی سەگی قوتووکراوی ڤیتالیتی...  B001E4KFG0   \n",
       "1   2  بەرهەمەکە گەیشتە لای کە بە ناوی Jumbo Salted P...  B00813GRG4   \n",
       "2   3  ئەمە شیرینییەکە کە لە دەوروبەری چەند سەدەیەکدا...  B000LQOCH0   \n",
       "3   4  ئەگەر بەدوای پێکهاتەی نهێنی ڕۆبیتوسیندا دەگەڕێ...  B000UA0QIQ   \n",
       "4   5  تافی نایاب بە نرخێکی نایاب. جۆرێکی بەرفراوانی ...  B006K2ZZ7K   \n",
       "\n",
       "           UserId                      ProfileName  HelpfulnessNumerator  \\\n",
       "0  A3SGXH7AUHU8GW                       delmartian                     1   \n",
       "1  A1D87F6ZCVE5NK                           dll pa                     0   \n",
       "2   ABXLMWJIXXAIN  Natalia Corres \"Natalia Corres\"                     1   \n",
       "3  A395BORC6FGVXV                             Karl                     3   \n",
       "4  A1UQRSCLF8GW1T    Michael D. Bigham \"M. Wassir\"                     0   \n",
       "\n",
       "   HelpfulnessDenominator  Score        Time                Summary  \\\n",
       "0                       1      5  1303862400  Good Quality Dog Food   \n",
       "1                       0      1  1346976000      Not as Advertised   \n",
       "2                       1      4  1219017600  \"Delight\" says it all   \n",
       "3                       3      2  1307923200         Cough Medicine   \n",
       "4                       0      5  1350777600            Great taffy   \n",
       "\n",
       "                                                Text  \\\n",
       "0  I have bought several of the Vitality canned d...   \n",
       "1  Product arrived labeled as Jumbo Salted Peanut...   \n",
       "2  This is a confection that has been around a fe...   \n",
       "3  If you are looking for the secret ingredient i...   \n",
       "4  Great taffy at a great price.  There was a wid...   \n",
       "\n",
       "                                    PreprocessedText  \n",
       "0  [چەندین, بەرهەمی, خۆراکی, سەگی, قوتووکراوی, ڤی...  \n",
       "1  [بەرهەمەکە, گەیشتە, لای, کە, بە, ناوی, jumbo, ...  \n",
       "2  [ئەمە, شیرینییەکە, کە, لە, دەوروبەری, چەند, سە...  \n",
       "3  [ئەگەر, بەدوای, پێکهاتەی, نهێنی, ڕۆبیتوسیندا, ...  \n",
       "4  [تافی, نایاب, بە, نرخێکی, نایاب, جۆرێکی, بەرفر...  "
      ]
     },
     "execution_count": 9,
     "metadata": {},
     "output_type": "execute_result"
    }
   ],
   "source": [
    "df.head()"
   ]
  },
  {
   "cell_type": "code",
   "execution_count": 14,
   "metadata": {},
   "outputs": [
    {
     "data": {
      "application/vnd.jupyter.widget-view+json": {
       "model_id": "d18b222baeb947ff9082cca6fb9a079f",
       "version_major": 2,
       "version_minor": 0
      },
      "text/plain": [
       "  0%|          | 0/2000 [00:00<?, ?it/s]"
      ]
     },
     "metadata": {},
     "output_type": "display_data"
    }
   ],
   "source": [
    "\n",
    "res={}\n",
    "df['KurdishText'] = df['KurdishText'].fillna('')\n",
    "for i,row in tqdm(df.iterrows(),total=len(df)):\n",
    "    try:\n",
    "        text=row.KurdishText\n",
    "        myId=row.Id\n",
    "        gensim_results=gensim.utils.simple_preprocess(text)\n",
    "        res[myId]=gensim_results\n",
    "    except TypeError:\n",
    "        print(\"typerror for text: \",text)\n",
    "        continue\n",
    "\n"
   ]
  },
  {
   "cell_type": "code",
   "execution_count": 17,
   "metadata": {},
   "outputs": [],
   "source": [
    "# continuing with old way not looping\n",
    "review_text=df.KurdishText.apply(gensim.utils.simple_preprocess)"
   ]
  },
  {
   "cell_type": "code",
   "execution_count": 18,
   "metadata": {},
   "outputs": [],
   "source": [
    "model=gensim.models.Word2Vec(\n",
    "    window=10,\n",
    "    min_count=2,\n",
    "    workers=4\n",
    ")"
   ]
  },
  {
   "cell_type": "code",
   "execution_count": 19,
   "metadata": {},
   "outputs": [],
   "source": [
    "model.build_vocab(review_text,progress_per=100)"
   ]
  },
  {
   "cell_type": "code",
   "execution_count": 20,
   "metadata": {},
   "outputs": [
    {
     "data": {
      "text/plain": [
       "5"
      ]
     },
     "execution_count": 20,
     "metadata": {},
     "output_type": "execute_result"
    }
   ],
   "source": [
    "model.epochs"
   ]
  },
  {
   "cell_type": "code",
   "execution_count": 21,
   "metadata": {},
   "outputs": [
    {
     "data": {
      "text/plain": [
       "2000"
      ]
     },
     "execution_count": 21,
     "metadata": {},
     "output_type": "execute_result"
    }
   ],
   "source": [
    "model.corpus_count"
   ]
  },
  {
   "cell_type": "code",
   "execution_count": 22,
   "metadata": {},
   "outputs": [
    {
     "data": {
      "text/plain": [
       "(455958, 603660)"
      ]
     },
     "execution_count": 22,
     "metadata": {},
     "output_type": "execute_result"
    }
   ],
   "source": [
    "model.train(review_text,total_examples=model.corpus_count,epochs=model.epochs)"
   ]
  },
  {
   "cell_type": "code",
   "execution_count": 23,
   "metadata": {},
   "outputs": [],
   "source": [
    "model.save(\"../models/kurdish-word2vec-2000.model\")"
   ]
  },
  {
   "cell_type": "code",
   "execution_count": 24,
   "metadata": {},
   "outputs": [
    {
     "data": {
      "text/plain": [
       "[('com', 0.9997527003288269),\n",
       " ('gp', 0.9997270703315735),\n",
       " ('amazon', 0.9996203780174255),\n",
       " ('www', 0.9993019104003906),\n",
       " ('http', 0.9992315769195557),\n",
       " ('href', 0.9990754723548889),\n",
       " ('چیپس', 0.9981304407119751),\n",
       " ('کتری', 0.9979948997497559),\n",
       " ('دیجۆن', 0.9979345798492432),\n",
       " ('پاکێجی', 0.9976974129676819)]"
      ]
     },
     "execution_count": 24,
     "metadata": {},
     "output_type": "execute_result"
    }
   ],
   "source": [
    "model.wv.most_similar(\"با\")"
   ]
  },
  {
   "cell_type": "code",
   "execution_count": null,
   "metadata": {},
   "outputs": [
    {
     "data": {
      "text/plain": [
       "0.6865411"
      ]
     },
     "execution_count": 191,
     "metadata": {},
     "output_type": "execute_result"
    }
   ],
   "source": [
    "model.wv.similarity(w1=\"expensive\",w2=\"costly\")"
   ]
  },
  {
   "cell_type": "code",
   "execution_count": null,
   "metadata": {},
   "outputs": [],
   "source": []
  }
 ],
 "metadata": {
  "kernelspec": {
   "display_name": "tensorflow",
   "language": "python",
   "name": "python3"
  },
  "language_info": {
   "codemirror_mode": {
    "name": "ipython",
    "version": 3
   },
   "file_extension": ".py",
   "mimetype": "text/x-python",
   "name": "python",
   "nbconvert_exporter": "python",
   "pygments_lexer": "ipython3",
   "version": "3.10.14"
  }
 },
 "nbformat": 4,
 "nbformat_minor": 2
}
