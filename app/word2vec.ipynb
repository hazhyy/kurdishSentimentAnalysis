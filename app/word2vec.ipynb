{
 "cells": [
  {
   "cell_type": "markdown",
   "metadata": {},
   "source": [
    "# Building a vectorizer model with gensim"
   ]
  },
  {
   "cell_type": "code",
   "execution_count": 18,
   "metadata": {},
   "outputs": [],
   "source": [
    "import gensim\n",
    "import pandas as pd\n",
    "from tqdm.notebook import tqdm"
   ]
  },
  {
   "cell_type": "markdown",
   "metadata": {},
   "source": [
    "##### Importing translated dataset"
   ]
  },
  {
   "cell_type": "code",
   "execution_count": 19,
   "metadata": {},
   "outputs": [
    {
     "data": {
      "text/plain": [
       "(75279, 11)"
      ]
     },
     "execution_count": 19,
     "metadata": {},
     "output_type": "execute_result"
    }
   ],
   "source": [
    "df=pd.read_csv(\"../data/translated/kurdish-reviews9.csv\")\n",
    "df.shape    "
   ]
  },
  {
   "cell_type": "markdown",
   "metadata": {},
   "source": [
    "##### Removing empty rows"
   ]
  },
  {
   "cell_type": "code",
   "execution_count": 20,
   "metadata": {},
   "outputs": [],
   "source": [
    "df['KurdishText'] = df['KurdishText'].fillna('')"
   ]
  },
  {
   "cell_type": "markdown",
   "metadata": {},
   "source": [
    "##### Tokenizing the kurdish reviews"
   ]
  },
  {
   "cell_type": "code",
   "execution_count": 21,
   "metadata": {},
   "outputs": [],
   "source": [
    "# continuing with old way not looping\n",
    "review_text=df.KurdishText.apply(gensim.utils.simple_preprocess)"
   ]
  },
  {
   "cell_type": "code",
   "execution_count": 23,
   "metadata": {},
   "outputs": [
    {
     "data": {
      "text/plain": [
       "['چەندین',\n",
       " 'بەرهەمی',\n",
       " 'خۆراکی',\n",
       " 'سەگی',\n",
       " 'قوتووکراوی',\n",
       " 'ڤیتالیتیم',\n",
       " 'کڕیوە',\n",
       " 'بۆم',\n",
       " 'دەرکەوتووە',\n",
       " 'کە',\n",
       " 'هەموویان',\n",
       " 'کوالیتی',\n",
       " 'باشیان',\n",
       " 'هەیە',\n",
       " 'بەرهەمەکە',\n",
       " 'زیاتر',\n",
       " 'لە',\n",
       " 'قیمە',\n",
       " 'دەچێت',\n",
       " 'نەک',\n",
       " 'گۆشتی',\n",
       " 'پرۆسێس',\n",
       " 'کراو',\n",
       " 'بۆنێکی',\n",
       " 'خۆشی',\n",
       " 'هەیە',\n",
       " 'لابرادۆرەکەم',\n",
       " 'وردە',\n",
       " 'وردە',\n",
       " 'باشتر',\n",
       " 'لە',\n",
       " 'زۆربەی',\n",
       " 'ئەم',\n",
       " 'بەرهەمە',\n",
       " 'قەدری',\n",
       " 'دەزانێت']"
      ]
     },
     "execution_count": 23,
     "metadata": {},
     "output_type": "execute_result"
    }
   ],
   "source": [
    "review_text[0]"
   ]
  },
  {
   "cell_type": "markdown",
   "metadata": {},
   "source": [
    "### Building the model and training word2vec"
   ]
  },
  {
   "cell_type": "code",
   "execution_count": 25,
   "metadata": {},
   "outputs": [],
   "source": [
    "model=gensim.models.Word2Vec(\n",
    "    window=10,\n",
    "    min_count=2,\n",
    "    workers=4\n",
    ")"
   ]
  },
  {
   "cell_type": "code",
   "execution_count": 26,
   "metadata": {},
   "outputs": [],
   "source": [
    "model.build_vocab(review_text,progress_per=100)"
   ]
  },
  {
   "cell_type": "code",
   "execution_count": 27,
   "metadata": {},
   "outputs": [
    {
     "data": {
      "text/plain": [
       "75279"
      ]
     },
     "execution_count": 27,
     "metadata": {},
     "output_type": "execute_result"
    }
   ],
   "source": [
    "model.corpus_count"
   ]
  },
  {
   "cell_type": "code",
   "execution_count": 28,
   "metadata": {},
   "outputs": [
    {
     "data": {
      "text/plain": [
       "(20816612, 25180775)"
      ]
     },
     "execution_count": 28,
     "metadata": {},
     "output_type": "execute_result"
    }
   ],
   "source": [
    "model.train(review_text,total_examples=model.corpus_count,epochs=model.epochs)"
   ]
  },
  {
   "cell_type": "code",
   "execution_count": 17,
   "metadata": {},
   "outputs": [],
   "source": [
    "model.save(f\"../models/xendan7000.model\")"
   ]
  },
  {
   "cell_type": "markdown",
   "metadata": {},
   "source": [
    "##### Testing the model by finding most similiar and doesnt match"
   ]
  },
  {
   "cell_type": "code",
   "execution_count": 28,
   "metadata": {},
   "outputs": [
    {
     "data": {
      "text/plain": [
       "[('دایکی', 0.9240180850028992),\n",
       " ('پیاوێک', 0.92145836353302),\n",
       " ('هاوڕێکانی', 0.9199870824813843),\n",
       " ('ژنەکەی', 0.9163362979888916),\n",
       " ('روداوەکانیش', 0.9147975444793701),\n",
       " ('لێکەوتوەتەوە', 0.9103312492370605),\n",
       " ('لێدانی', 0.908986508846283),\n",
       " ('گەیەنرایە', 0.908150315284729),\n",
       " ('ئۆتۆمبێلەکەی', 0.9069851040840149),\n",
       " ('ساچمە', 0.9066586494445801)]"
      ]
     },
     "execution_count": 28,
     "metadata": {},
     "output_type": "execute_result"
    }
   ],
   "source": [
    "model.wv.most_similar(\"بێهۆش\")"
   ]
  },
  {
   "cell_type": "code",
   "execution_count": 19,
   "metadata": {},
   "outputs": [
    {
     "data": {
      "text/plain": [
       "0.66419977"
      ]
     },
     "execution_count": 19,
     "metadata": {},
     "output_type": "execute_result"
    }
   ],
   "source": [
    "model.wv.similarity(w1=\"دڵتەنگ\",w2=\"دڵخۆش\")"
   ]
  },
  {
   "cell_type": "code",
   "execution_count": 20,
   "metadata": {},
   "outputs": [
    {
     "data": {
      "text/plain": [
       "'هەرزان'"
      ]
     },
     "execution_count": 20,
     "metadata": {},
     "output_type": "execute_result"
    }
   ],
   "source": [
    "model.wv.doesnt_match([\"گونجاو\",\"هەرزان\",\"باش\",\"پرتەقاڵ\"])"
   ]
  },
  {
   "cell_type": "code",
   "execution_count": 36,
   "metadata": {},
   "outputs": [
    {
     "data": {
      "text/plain": [
       "'چای'"
      ]
     },
     "execution_count": 36,
     "metadata": {},
     "output_type": "execute_result"
    }
   ],
   "source": [
    "model.wv.doesnt_match([\"ئاو\",\"چای\",\"پشیلە\",\"قاوە\",\"شیر\"])\n"
   ]
  },
  {
   "cell_type": "code",
   "execution_count": 37,
   "metadata": {},
   "outputs": [
    {
     "data": {
      "text/plain": [
       "'شێر'"
      ]
     },
     "execution_count": 37,
     "metadata": {},
     "output_type": "execute_result"
    }
   ],
   "source": [
    "model.wv.doesnt_match([\"شێر\",\"سەگ\",\"پشیلە\",\"باڵندە\",\"پرتەقاڵ\"])\n"
   ]
  },
  {
   "cell_type": "code",
   "execution_count": 38,
   "metadata": {},
   "outputs": [
    {
     "data": {
      "text/plain": [
       "'گران'"
      ]
     },
     "execution_count": 38,
     "metadata": {},
     "output_type": "execute_result"
    }
   ],
   "source": [
    "model.wv.doesnt_match([\"دڵخۆش\",\"گران\",\"دڵتەنگ\",\"خەمبار\"])\n"
   ]
  },
  {
   "cell_type": "code",
   "execution_count": 40,
   "metadata": {},
   "outputs": [
    {
     "data": {
      "text/plain": [
       "[('ریزەکانی', 0.8832405805587769),\n",
       " ('بینیویەتی', 0.8755570650100708),\n",
       " ('بۆردومانەکە', 0.873737096786499),\n",
       " ('شنگال', 0.8732637763023376),\n",
       " ('ئێندزێ', 0.870159924030304),\n",
       " ('تیرۆرستان', 0.8671587109565735),\n",
       " ('ئوردوگای', 0.8669210076332092),\n",
       " ('چەكدارانی', 0.8661324977874756),\n",
       " ('گارە', 0.8660470247268677),\n",
       " ('بانە', 0.8655515313148499)]"
      ]
     },
     "execution_count": 40,
     "metadata": {},
     "output_type": "execute_result"
    }
   ],
   "source": [
    "model.wv.most_similar(positive=[\"ژن\",\"پاشا\"],negative=[\"پیاو\"])"
   ]
  },
  {
   "cell_type": "code",
   "execution_count": 35,
   "metadata": {},
   "outputs": [
    {
     "data": {
      "text/plain": [
       "array([-0.90211964,  0.43025637, -0.9367391 , -2.6173587 ,  2.0945787 ,\n",
       "       -1.5308189 , -2.3683774 , -3.3523567 ,  0.73924965, -1.1344695 ,\n",
       "       -4.014437  ,  0.666944  ,  0.7020901 , -2.2726924 , -1.9118208 ,\n",
       "       -3.3315017 , -2.0781443 , -2.1347258 ,  2.5213184 , -1.3058217 ,\n",
       "       -0.13207778, -0.8528401 ,  1.4988103 , -2.875501  ,  0.42943385,\n",
       "        1.2140238 ,  2.6804671 ,  4.4979696 ,  1.811867  , -1.1507096 ,\n",
       "        2.1694405 ,  1.4167244 , -4.4290113 ,  2.549508  ,  2.0360394 ,\n",
       "        0.52259445,  0.05791227,  1.8339542 , -2.5408585 , -0.6802383 ,\n",
       "        2.1184626 , -0.44735515,  0.3888209 ,  0.2232721 ,  0.27532724,\n",
       "       -1.837784  ,  0.23343086, -0.79494554,  0.52373177, -3.6053371 ,\n",
       "        3.1700099 ,  4.9057856 ,  3.12903   ,  2.1287427 , -1.6651137 ,\n",
       "        2.8429258 ,  0.28667638, -1.0683757 , -1.1722019 , -1.1205236 ,\n",
       "        3.2309926 ,  2.531725  , -1.8850188 ,  0.33407545,  1.195811  ,\n",
       "       -1.3354232 , -0.7482134 , -3.39835   ,  1.4679952 ,  4.019473  ,\n",
       "       -0.20889558,  1.8886815 ,  6.129358  ,  2.035633  , -4.1427674 ,\n",
       "       -0.61159897, -0.8826072 , -1.5631013 ,  2.9351835 ,  1.3653977 ,\n",
       "        1.7204621 ,  2.1563473 , -0.1848142 ,  0.33958748, -1.913005  ,\n",
       "       -2.5671046 , -2.0533183 ,  2.5975955 , -2.017476  , -0.37787968,\n",
       "        0.8162319 , -0.59357804,  2.1941643 , -1.5093846 , -1.2640265 ,\n",
       "       -1.7214084 , -3.4353163 ,  0.46107304, -1.6762866 , -4.807573  ],\n",
       "      dtype=float32)"
      ]
     },
     "execution_count": 35,
     "metadata": {},
     "output_type": "execute_result"
    }
   ],
   "source": [
    "# vector arary of a word\n",
    "model.wv[\"باش\"]"
   ]
  },
  {
   "cell_type": "code",
   "execution_count": 36,
   "metadata": {},
   "outputs": [
    {
     "data": {
      "text/plain": [
       "0.47279030084609985"
      ]
     },
     "execution_count": 36,
     "metadata": {},
     "output_type": "execute_result"
    }
   ],
   "source": [
    "#distance between two words\n",
    "model.wv.distance(w1=\"ناوازە\",w2=\"نایاب\")"
   ]
  },
  {
   "cell_type": "markdown",
   "metadata": {},
   "source": [
    "## Comparison between 2000 rows model and 75,279 rows model"
   ]
  },
  {
   "cell_type": "code",
   "execution_count": 31,
   "metadata": {},
   "outputs": [],
   "source": [
    "first_model=gensim.models.Word2Vec.load(\"../models/kurdish-word2vec-3000.model\")\n",
    "second_model=gensim.models.Word2Vec.load(\"../models/kurdish-word2vec-75279.model\")"
   ]
  },
  {
   "cell_type": "markdown",
   "metadata": {},
   "source": [
    "##### Similiarity comparison"
   ]
  },
  {
   "cell_type": "code",
   "execution_count": 32,
   "metadata": {},
   "outputs": [
    {
     "name": "stdout",
     "output_type": "stream",
     "text": [
      "model 1: [('تارگێت', 0.9552736878395081), ('دەیفرۆشن', 0.9551293253898621), ('ئەوەندەی', 0.9550510048866272), ('فڕێدا', 0.9547895193099976), ('ستانداردی', 0.9546394348144531)]\n",
      "model 2: [('بێهیوا', 0.9291748404502869), ('ناڕازی', 0.9205631017684937), ('کنجکاو', 0.9063196778297424), ('دەمارگیر', 0.8955897688865662), ('هیوادار', 0.8950649499893188)]\n"
     ]
    }
   ],
   "source": [
    "text=\"دڵتەنگ\"\n",
    "print(f'model 1: {first_model.wv.most_similar(text,topn=5)}')\n",
    "print(f'model 2: {second_model.wv.most_similar(text,topn=5)}')"
   ]
  },
  {
   "cell_type": "markdown",
   "metadata": {},
   "source": [
    "##### Finding the word that doesnt match"
   ]
  },
  {
   "cell_type": "code",
   "execution_count": 33,
   "metadata": {},
   "outputs": [
    {
     "name": "stdout",
     "output_type": "stream",
     "text": [
      "model 1: شەربەت\n",
      "model 1: شەربەت\n"
     ]
    }
   ],
   "source": [
    "text=[\"دۆلار\",\"سەنت\",\"شەربەت\",\"پاوند\"]\n",
    "print(f'model 1: {first_model.wv.doesnt_match(text)}')\n",
    "print(f'model 1: {second_model.wv.doesnt_match(text)}')"
   ]
  }
 ],
 "metadata": {
  "kernelspec": {
   "display_name": "tensorflow",
   "language": "python",
   "name": "python3"
  },
  "language_info": {
   "codemirror_mode": {
    "name": "ipython",
    "version": 3
   },
   "file_extension": ".py",
   "mimetype": "text/x-python",
   "name": "python",
   "nbconvert_exporter": "python",
   "pygments_lexer": "ipython3",
   "version": "3.10.14"
  }
 },
 "nbformat": 4,
 "nbformat_minor": 2
}
