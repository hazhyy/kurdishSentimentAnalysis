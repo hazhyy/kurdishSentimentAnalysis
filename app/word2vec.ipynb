{
 "cells": [
  {
   "cell_type": "markdown",
   "metadata": {},
   "source": [
    "# Building a vectorizer model with gensim"
   ]
  },
  {
   "cell_type": "code",
   "execution_count": 23,
   "metadata": {},
   "outputs": [],
   "source": [
    "import gensim\n",
    "import pandas as pd\n",
    "from tqdm.notebook import tqdm"
   ]
  },
  {
   "cell_type": "code",
   "execution_count": 24,
   "metadata": {},
   "outputs": [],
   "source": [
    "df=pd.read_csv(\"../data/translated/kurdish-reviews9.csv\")\n",
    "# df=pd.read_csv(\"../data/medical-kurdish-dataset.csv\")"
   ]
  },
  {
   "cell_type": "code",
   "execution_count": 25,
   "metadata": {},
   "outputs": [
    {
     "data": {
      "text/plain": [
       "(75279, 11)"
      ]
     },
     "execution_count": 25,
     "metadata": {},
     "output_type": "execute_result"
    }
   ],
   "source": [
    "df.shape    "
   ]
  },
  {
   "cell_type": "code",
   "execution_count": 26,
   "metadata": {},
   "outputs": [
    {
     "data": {
      "text/html": [
       "<div>\n",
       "<style scoped>\n",
       "    .dataframe tbody tr th:only-of-type {\n",
       "        vertical-align: middle;\n",
       "    }\n",
       "\n",
       "    .dataframe tbody tr th {\n",
       "        vertical-align: top;\n",
       "    }\n",
       "\n",
       "    .dataframe thead th {\n",
       "        text-align: right;\n",
       "    }\n",
       "</style>\n",
       "<table border=\"1\" class=\"dataframe\">\n",
       "  <thead>\n",
       "    <tr style=\"text-align: right;\">\n",
       "      <th></th>\n",
       "      <th>Id</th>\n",
       "      <th>KurdishText</th>\n",
       "      <th>ProductId</th>\n",
       "      <th>UserId</th>\n",
       "      <th>ProfileName</th>\n",
       "      <th>HelpfulnessNumerator</th>\n",
       "      <th>HelpfulnessDenominator</th>\n",
       "      <th>Score</th>\n",
       "      <th>Time</th>\n",
       "      <th>Summary</th>\n",
       "      <th>Text</th>\n",
       "    </tr>\n",
       "  </thead>\n",
       "  <tbody>\n",
       "    <tr>\n",
       "      <th>0</th>\n",
       "      <td>1</td>\n",
       "      <td>چەندین بەرهەمی خۆراکی سەگی قوتووکراوی ڤیتالیتی...</td>\n",
       "      <td>B001E4KFG0</td>\n",
       "      <td>A3SGXH7AUHU8GW</td>\n",
       "      <td>delmartian</td>\n",
       "      <td>1</td>\n",
       "      <td>1</td>\n",
       "      <td>5</td>\n",
       "      <td>1303862400</td>\n",
       "      <td>Good Quality Dog Food</td>\n",
       "      <td>I have bought several of the Vitality canned d...</td>\n",
       "    </tr>\n",
       "    <tr>\n",
       "      <th>1</th>\n",
       "      <td>2</td>\n",
       "      <td>بەرهەمەکە گەیشتە لای کە بە ناوی Jumbo Salted P...</td>\n",
       "      <td>B00813GRG4</td>\n",
       "      <td>A1D87F6ZCVE5NK</td>\n",
       "      <td>dll pa</td>\n",
       "      <td>0</td>\n",
       "      <td>0</td>\n",
       "      <td>1</td>\n",
       "      <td>1346976000</td>\n",
       "      <td>Not as Advertised</td>\n",
       "      <td>Product arrived labeled as Jumbo Salted Peanut...</td>\n",
       "    </tr>\n",
       "    <tr>\n",
       "      <th>2</th>\n",
       "      <td>3</td>\n",
       "      <td>ئەمە شیرینییەکە کە لە دەوروبەری چەند سەدەیەکدا...</td>\n",
       "      <td>B000LQOCH0</td>\n",
       "      <td>ABXLMWJIXXAIN</td>\n",
       "      <td>Natalia Corres \"Natalia Corres\"</td>\n",
       "      <td>1</td>\n",
       "      <td>1</td>\n",
       "      <td>4</td>\n",
       "      <td>1219017600</td>\n",
       "      <td>\"Delight\" says it all</td>\n",
       "      <td>This is a confection that has been around a fe...</td>\n",
       "    </tr>\n",
       "    <tr>\n",
       "      <th>3</th>\n",
       "      <td>4</td>\n",
       "      <td>ئەگەر بەدوای پێکهاتەی نهێنی ڕۆبیتوسیندا دەگەڕێ...</td>\n",
       "      <td>B000UA0QIQ</td>\n",
       "      <td>A395BORC6FGVXV</td>\n",
       "      <td>Karl</td>\n",
       "      <td>3</td>\n",
       "      <td>3</td>\n",
       "      <td>2</td>\n",
       "      <td>1307923200</td>\n",
       "      <td>Cough Medicine</td>\n",
       "      <td>If you are looking for the secret ingredient i...</td>\n",
       "    </tr>\n",
       "    <tr>\n",
       "      <th>4</th>\n",
       "      <td>5</td>\n",
       "      <td>تافی نایاب بە نرخێکی نایاب. جۆرێکی بەرفراوانی ...</td>\n",
       "      <td>B006K2ZZ7K</td>\n",
       "      <td>A1UQRSCLF8GW1T</td>\n",
       "      <td>Michael D. Bigham \"M. Wassir\"</td>\n",
       "      <td>0</td>\n",
       "      <td>0</td>\n",
       "      <td>5</td>\n",
       "      <td>1350777600</td>\n",
       "      <td>Great taffy</td>\n",
       "      <td>Great taffy at a great price.  There was a wid...</td>\n",
       "    </tr>\n",
       "  </tbody>\n",
       "</table>\n",
       "</div>"
      ],
      "text/plain": [
       "   Id                                        KurdishText   ProductId  \\\n",
       "0   1  چەندین بەرهەمی خۆراکی سەگی قوتووکراوی ڤیتالیتی...  B001E4KFG0   \n",
       "1   2  بەرهەمەکە گەیشتە لای کە بە ناوی Jumbo Salted P...  B00813GRG4   \n",
       "2   3  ئەمە شیرینییەکە کە لە دەوروبەری چەند سەدەیەکدا...  B000LQOCH0   \n",
       "3   4  ئەگەر بەدوای پێکهاتەی نهێنی ڕۆبیتوسیندا دەگەڕێ...  B000UA0QIQ   \n",
       "4   5  تافی نایاب بە نرخێکی نایاب. جۆرێکی بەرفراوانی ...  B006K2ZZ7K   \n",
       "\n",
       "           UserId                      ProfileName  HelpfulnessNumerator  \\\n",
       "0  A3SGXH7AUHU8GW                       delmartian                     1   \n",
       "1  A1D87F6ZCVE5NK                           dll pa                     0   \n",
       "2   ABXLMWJIXXAIN  Natalia Corres \"Natalia Corres\"                     1   \n",
       "3  A395BORC6FGVXV                             Karl                     3   \n",
       "4  A1UQRSCLF8GW1T    Michael D. Bigham \"M. Wassir\"                     0   \n",
       "\n",
       "   HelpfulnessDenominator  Score        Time                Summary  \\\n",
       "0                       1      5  1303862400  Good Quality Dog Food   \n",
       "1                       0      1  1346976000      Not as Advertised   \n",
       "2                       1      4  1219017600  \"Delight\" says it all   \n",
       "3                       3      2  1307923200         Cough Medicine   \n",
       "4                       0      5  1350777600            Great taffy   \n",
       "\n",
       "                                                Text  \n",
       "0  I have bought several of the Vitality canned d...  \n",
       "1  Product arrived labeled as Jumbo Salted Peanut...  \n",
       "2  This is a confection that has been around a fe...  \n",
       "3  If you are looking for the secret ingredient i...  \n",
       "4  Great taffy at a great price.  There was a wid...  "
      ]
     },
     "execution_count": 26,
     "metadata": {},
     "output_type": "execute_result"
    }
   ],
   "source": [
    "df.head()"
   ]
  },
  {
   "cell_type": "code",
   "execution_count": 27,
   "metadata": {},
   "outputs": [],
   "source": [
    "df['KurdishText'] = df['KurdishText'].fillna('')"
   ]
  },
  {
   "cell_type": "code",
   "execution_count": 28,
   "metadata": {},
   "outputs": [],
   "source": [
    "\n",
    "# res={}\n",
    "# for i,row in tqdm(df.iterrows(),total=len(df)):\n",
    "#     try:\n",
    "#         text=row.KurdishText\n",
    "#         myId=row.Id\n",
    "#         gensim_results=gensim.utils.simple_preprocess(text)\n",
    "#         res[myId]=gensim_results\n",
    "#     except TypeError:\n",
    "#         print(\"typerror for text: \",text)\n",
    "#         continue\n",
    "\n"
   ]
  },
  {
   "cell_type": "markdown",
   "metadata": {},
   "source": [
    "### tokenizing the kurdih reviews"
   ]
  },
  {
   "cell_type": "code",
   "execution_count": 29,
   "metadata": {},
   "outputs": [],
   "source": [
    "# continuing with old way not looping\n",
    "review_text=df.KurdishText.apply(gensim.utils.simple_preprocess)"
   ]
  },
  {
   "cell_type": "markdown",
   "metadata": {},
   "source": [
    "### building the model and training word2vec"
   ]
  },
  {
   "cell_type": "code",
   "execution_count": 30,
   "metadata": {},
   "outputs": [],
   "source": [
    "model=gensim.models.Word2Vec(\n",
    "    window=10,\n",
    "    min_count=2,\n",
    "    workers=4\n",
    ")"
   ]
  },
  {
   "cell_type": "code",
   "execution_count": 31,
   "metadata": {},
   "outputs": [],
   "source": [
    "model.build_vocab(review_text,progress_per=100)"
   ]
  },
  {
   "cell_type": "code",
   "execution_count": 32,
   "metadata": {},
   "outputs": [
    {
     "data": {
      "text/plain": [
       "5"
      ]
     },
     "execution_count": 32,
     "metadata": {},
     "output_type": "execute_result"
    }
   ],
   "source": [
    "model.epochs"
   ]
  },
  {
   "cell_type": "code",
   "execution_count": 33,
   "metadata": {},
   "outputs": [
    {
     "data": {
      "text/plain": [
       "75279"
      ]
     },
     "execution_count": 33,
     "metadata": {},
     "output_type": "execute_result"
    }
   ],
   "source": [
    "model.corpus_count"
   ]
  },
  {
   "cell_type": "code",
   "execution_count": 34,
   "metadata": {},
   "outputs": [
    {
     "data": {
      "text/plain": [
       "(20815381, 25180775)"
      ]
     },
     "execution_count": 34,
     "metadata": {},
     "output_type": "execute_result"
    }
   ],
   "source": [
    "model.train(review_text,total_examples=model.corpus_count,epochs=5)"
   ]
  },
  {
   "cell_type": "code",
   "execution_count": 35,
   "metadata": {},
   "outputs": [],
   "source": [
    "model.save(f\"../models/kurdish-word2vec-{model.corpus_count}.model\")"
   ]
  },
  {
   "cell_type": "code",
   "execution_count": 36,
   "metadata": {},
   "outputs": [
    {
     "data": {
      "text/plain": [
       "[('نەخۆشییەکانی', 0.8756718039512634),\n",
       " ('خوێن', 0.8586665987968445),\n",
       " ('خوێنبەرەکان', 0.8529062271118164),\n",
       " ('بەڕێوەبردنی', 0.8256251215934753),\n",
       " ('ڕێگریکردن', 0.814089834690094),\n",
       " ('چالاکیی', 0.8050230145454407),\n",
       " ('فسفۆر', 0.7880133986473083),\n",
       " ('شێرپەنجە', 0.7855885028839111),\n",
       " ('جەڵتەی', 0.7839686274528503),\n",
       " ('مێنادیۆن', 0.7801363468170166)]"
      ]
     },
     "execution_count": 36,
     "metadata": {},
     "output_type": "execute_result"
    }
   ],
   "source": [
    "model.wv.most_similar(\"دڵ\")"
   ]
  },
  {
   "cell_type": "code",
   "execution_count": 37,
   "metadata": {},
   "outputs": [
    {
     "data": {
      "text/plain": [
       "0.7983525"
      ]
     },
     "execution_count": 37,
     "metadata": {},
     "output_type": "execute_result"
    }
   ],
   "source": [
    "model.wv.similarity(w1=\"دڵتەنگ\",w2=\"دڵخۆش\")"
   ]
  },
  {
   "cell_type": "code",
   "execution_count": 38,
   "metadata": {},
   "outputs": [
    {
     "data": {
      "text/plain": [
       "'کچ'"
      ]
     },
     "execution_count": 38,
     "metadata": {},
     "output_type": "execute_result"
    }
   ],
   "source": [
    "model.wv.doesnt_match([\"گونجاو\",\"هەرزان\",\"باش\",\"کچ\"])"
   ]
  },
  {
   "cell_type": "code",
   "execution_count": 39,
   "metadata": {},
   "outputs": [
    {
     "data": {
      "text/plain": [
       "'پشیلە'"
      ]
     },
     "execution_count": 39,
     "metadata": {},
     "output_type": "execute_result"
    }
   ],
   "source": [
    "model.wv.doesnt_match([\"چا\",\"چای\",\"پشیلە\",\"قاوە\",\"شیر\"])\n"
   ]
  },
  {
   "cell_type": "code",
   "execution_count": 40,
   "metadata": {},
   "outputs": [
    {
     "data": {
      "text/plain": [
       "'پرتەقاڵ'"
      ]
     },
     "execution_count": 40,
     "metadata": {},
     "output_type": "execute_result"
    }
   ],
   "source": [
    "model.wv.doesnt_match([\"شێر\",\"سەگ\",\"پشیلە\",\"باڵندە\",\"پرتەقاڵ\"])\n"
   ]
  },
  {
   "cell_type": "code",
   "execution_count": 41,
   "metadata": {},
   "outputs": [
    {
     "data": {
      "text/plain": [
       "'گران'"
      ]
     },
     "execution_count": 41,
     "metadata": {},
     "output_type": "execute_result"
    }
   ],
   "source": [
    "model.wv.doesnt_match([\"دڵخۆش\",\"گران\",\"دڵتەنگ\",\"خەمبار\"])\n"
   ]
  },
  {
   "cell_type": "code",
   "execution_count": 42,
   "metadata": {},
   "outputs": [
    {
     "data": {
      "text/plain": [
       "[('توندترین', 0.6572930812835693),\n",
       " ('canada', 0.6530537009239197),\n",
       " ('پینگشوی', 0.6431078314781189),\n",
       " ('پیتزاکەیان', 0.6412283182144165),\n",
       " ('فیلیپ', 0.6367488503456116),\n",
       " ('شارەکانی', 0.6315086483955383),\n",
       " ('toxicology', 0.6306287050247192),\n",
       " ('چیۆ', 0.6282880306243896),\n",
       " ('پارێزگای', 0.6282369494438171),\n",
       " ('ڕووەکدا', 0.6252650022506714)]"
      ]
     },
     "execution_count": 42,
     "metadata": {},
     "output_type": "execute_result"
    }
   ],
   "source": [
    "model.wv.most_similar(positive=[\"شاژن\",\"پاشا\"],negative=[\"پیاو\"])"
   ]
  },
  {
   "cell_type": "code",
   "execution_count": 43,
   "metadata": {},
   "outputs": [
    {
     "data": {
      "text/plain": [
       "array([-1.1929961 ,  0.51924175, -0.74429405, -4.710522  ,  0.31205124,\n",
       "       -5.2910805 , -1.7026699 , -1.8074635 ,  0.1406476 ,  1.180593  ,\n",
       "       -2.9354897 , -1.7606179 ,  2.034902  ,  0.8709499 , -1.5353724 ,\n",
       "       -3.6651635 , -0.4548875 ,  0.20891607, -0.36300564,  0.42292854,\n",
       "        0.46465954, -2.755293  ,  2.330648  , -5.3687954 ,  0.21620622,\n",
       "       -1.5957713 ,  2.5542397 ,  1.6081854 ,  1.4147915 , -1.4009733 ,\n",
       "       -0.3379254 ,  0.8386915 , -2.1979232 ,  3.3237066 ,  3.7057314 ,\n",
       "       -0.8145219 , -1.0016776 ,  1.2162306 , -2.402222  ,  1.0426123 ,\n",
       "        0.18449575, -2.6088705 , -0.5371913 , -1.5655692 ,  1.1663175 ,\n",
       "       -2.419917  ,  1.3923601 ,  0.34320232,  0.43659243, -0.9940651 ,\n",
       "        1.2988131 ,  3.040159  ,  1.2378373 ,  2.5186384 ,  0.889813  ,\n",
       "        2.3639197 ,  2.2881238 , -3.2758002 , -1.5401207 ,  0.228828  ,\n",
       "        2.0922208 ,  1.1712044 , -2.1530445 , -2.307461  ,  2.7780008 ,\n",
       "       -2.4855216 ,  0.6950483 , -1.5084782 ,  1.1238075 ,  2.6570487 ,\n",
       "       -2.4277487 ,  0.24555422,  3.6200287 ,  2.7375765 , -1.8837262 ,\n",
       "       -2.5159466 , -2.0138028 ,  0.42023233,  5.8824615 , -1.7596195 ,\n",
       "        2.2095315 ,  2.5629334 , -0.9368675 ,  1.6609441 , -0.26553464,\n",
       "       -2.8986194 , -0.5134838 ,  0.338748  , -3.7101119 , -0.38683844,\n",
       "        3.0827885 ,  0.42595527,  0.64768314,  0.467438  , -3.579355  ,\n",
       "       -2.9183872 , -0.4580544 ,  1.4377269 , -2.3462405 , -5.7134247 ],\n",
       "      dtype=float32)"
      ]
     },
     "execution_count": 43,
     "metadata": {},
     "output_type": "execute_result"
    }
   ],
   "source": [
    "model.wv[\"باش\"]"
   ]
  },
  {
   "cell_type": "code",
   "execution_count": 44,
   "metadata": {},
   "outputs": [
    {
     "data": {
      "text/plain": [
       "0.4876762628555298"
      ]
     },
     "execution_count": 44,
     "metadata": {},
     "output_type": "execute_result"
    }
   ],
   "source": [
    "model.wv.distance(w1=\"ناوازە\",w2=\"نایاب\")"
   ]
  },
  {
   "cell_type": "markdown",
   "metadata": {},
   "source": [
    "## Comparison between 2000 model and 20,000 model"
   ]
  },
  {
   "cell_type": "code",
   "execution_count": 88,
   "metadata": {},
   "outputs": [],
   "source": [
    "two_model=gensim.models.Word2Vec.load(\"../models/kurdish-word2vec-20000.model\")\n",
    "twenty_model=gensim.models.Word2Vec.load(\"../models/kurdish-word2vec-75279.model\")\n",
    "eng=gensim.models.Word2Vec.load(\"../models/english-word2vec.model\")\n",
    "\n"
   ]
  },
  {
   "cell_type": "markdown",
   "metadata": {},
   "source": [
    "#### Similiarity comparison"
   ]
  },
  {
   "cell_type": "code",
   "execution_count": 114,
   "metadata": {},
   "outputs": [
    {
     "name": "stdout",
     "output_type": "stream",
     "text": [
      "model 1: [('خواردووەتەوە', 0.9018285274505615), ('بەئەمەکی', 0.8709939122200012), ('نەخواردبوو', 0.8638148903846741), ('تایگەر', 0.8596477508544922), ('تێکدا', 0.8576906323432922)]\n",
      "model 2: [('خۆپەرستی', 0.7607849836349487), ('ئازیزت', 0.7354581952095032), ('absoulte', 0.6752956509590149), ('خۆشترم', 0.6639035940170288), ('پیشەگەری', 0.6616527438163757)]\n",
      "model 2: [('chewing', 0.7258464694023132), ('cats', 0.698319137096405), ('dog', 0.687409520149231), ('kid', 0.6554325222969055), ('toddler', 0.6033084392547607)]\n"
     ]
    }
   ],
   "source": [
    "text=\"کۆنەپەرستی\"\n",
    "texteng=\"cat\"\n",
    "print(f'model 1: {two_model.wv.most_similar(text,topn=5)}')\n",
    "print(f'model 2: {twenty_model.wv.most_similar(text,topn=5)}')\n",
    "print(f'model 2: {eng.wv.most_similar(texteng,topn=5)}')"
   ]
  },
  {
   "cell_type": "markdown",
   "metadata": {},
   "source": []
  },
  {
   "cell_type": "code",
   "execution_count": 101,
   "metadata": {},
   "outputs": [
    {
     "name": "stdout",
     "output_type": "stream",
     "text": [
      "model 1: شەربەت\n",
      "model 1: شەربەت\n"
     ]
    }
   ],
   "source": [
    "text=[\"دۆلار\",\"سەنت\",\"شەربەت\",\"پاوند\"]\n",
    "\n",
    "print(f'model 1: {two_model.wv.doesnt_match(text)}')\n",
    "print(f'model 1: {twenty_model.wv.doesnt_match(text)}')"
   ]
  },
  {
   "cell_type": "code",
   "execution_count": 95,
   "metadata": {},
   "outputs": [
    {
     "ename": "AttributeError",
     "evalue": "'KeyedVectors' object has no attribute 'expandose_vectors'",
     "output_type": "error",
     "traceback": [
      "\u001b[1;31m---------------------------------------------------------------------------\u001b[0m",
      "\u001b[1;31mAttributeError\u001b[0m                            Traceback (most recent call last)",
      "Cell \u001b[1;32mIn[95], line 1\u001b[0m\n\u001b[1;32m----> 1\u001b[0m \u001b[43mtwenty_model\u001b[49m\u001b[38;5;241;43m.\u001b[39;49m\u001b[43mwv\u001b[49m\u001b[38;5;241;43m.\u001b[39;49m\u001b[43mexpandose_vectors\u001b[49m\u001b[38;5;241m.\u001b[39mshape\n",
      "\u001b[1;31mAttributeError\u001b[0m: 'KeyedVectors' object has no attribute 'expandose_vectors'"
     ]
    }
   ],
   "source": []
  },
  {
   "cell_type": "code",
   "execution_count": null,
   "metadata": {},
   "outputs": [],
   "source": []
  }
 ],
 "metadata": {
  "kernelspec": {
   "display_name": "tensorflow",
   "language": "python",
   "name": "python3"
  },
  "language_info": {
   "codemirror_mode": {
    "name": "ipython",
    "version": 3
   },
   "file_extension": ".py",
   "mimetype": "text/x-python",
   "name": "python",
   "nbconvert_exporter": "python",
   "pygments_lexer": "ipython3",
   "version": "3.10.14"
  }
 },
 "nbformat": 4,
 "nbformat_minor": 2
}
