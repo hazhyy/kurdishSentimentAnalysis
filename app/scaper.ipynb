{
 "cells": [
  {
   "cell_type": "markdown",
   "metadata": {},
   "source": [
    "# Scraping data from Xendan news"
   ]
  },
  {
   "cell_type": "code",
   "execution_count": 1,
   "metadata": {},
   "outputs": [],
   "source": [
    "from urllib.request import urlopen\n",
    "from bs4 import BeautifulSoup\n",
    "import re\n",
    "import pandas as pd\n",
    "from tqdm.notebook import tqdm\n"
   ]
  },
  {
   "cell_type": "code",
   "execution_count": null,
   "metadata": {},
   "outputs": [],
   "source": [
    "import urllib.parse\n",
    "data_list = []\n",
    "pages = set()\n",
    "def getLinks(pageUrl):\n",
    "    encoded_url = urllib.parse.quote(pageUrl, safe=':/?=&')\n",
    "    html = urlopen(encoded_url)\n",
    "    bs = BeautifulSoup(html, 'html.parser')\n",
    "    \n",
    "    header_elem = bs.find('div', {'class': \"detail-top\"})\n",
    "    article_elem = bs.find('div', {'class': \"detail-big-text-p\"})\n",
    "    \n",
    "    if header_elem and article_elem and header_elem.find('h1'):\n",
    "        header = header_elem.find('h1').text.strip()\n",
    "        article = article_elem.text.strip()\n",
    "        data_list.append({'Header': header, 'Article': article, 'Link': pageUrl})\n",
    "        \n",
    "    for link in bs.find_all('a', href=re.compile(r'https://www\\.(xendan\\.org/detailnews/\\d+|xendan\\.org/.*)')):\n",
    "        if 'href' in link.attrs:\n",
    "            newPage = link.attrs['href']\n",
    "            if newPage not in pages and \"babetakan.aspx\" not in newPage and \"multimedia.aspx\" not in newPage and \"jorawjor.aspx\" not in newPage and \"raport.aspx\" not in newPage:\n",
    "                print(newPage)\n",
    "                pages.add(newPage)\n",
    "                getLinks(urllib.parse.urljoin(pageUrl, newPage.replace('j', '')))\n",
    "\n",
    "getLinks('https://www.xendan.org/detailnews/178566')\n"
   ]
  },
  {
   "cell_type": "code",
   "execution_count": 3,
   "metadata": {},
   "outputs": [],
   "source": [
    "scraped_data=pd.DataFrame(data_list)"
   ]
  },
  {
   "cell_type": "markdown",
   "metadata": {},
   "source": [
    "## Using while loop to change the id of the news article then scraping it"
   ]
  },
  {
   "cell_type": "code",
   "execution_count": 4,
   "metadata": {},
   "outputs": [],
   "source": [
    "data_list = []\n",
    "partial_save_amount=5\n",
    "def scrape_xendan(lastId):\n",
    "    #using proxy to fetch data in case of bans or other issues like firewalls\n",
    "    #proxy was created using nitro from simpleproxy github repository\n",
    "    for i in tqdm(range(lastId, -1, -1)):\n",
    "        url=f\"https://www.xendan.org/detailnews/{i}\"\n",
    "        proxied_fetch=f'https://spontaneous-faloodeh-9e9321.netlify.app/?destination={url}'\n",
    "        html = urlopen(proxied_fetch)\n",
    "        bs = BeautifulSoup(html, 'html.parser')    \n",
    "        header_elem = bs.find('div', {'class': \"detail-top\"})\n",
    "        article_elem = bs.find('div', {'class': \"detail-big-text-p\"})\n",
    "        img_elem=bs.find('div', {'class': \"detail-big-img\"})\n",
    "        try:\n",
    "            if header_elem and article_elem and header_elem.find('h1'):\n",
    "                header = header_elem.find('h1').text.strip()\n",
    "                article = article_elem.text.strip()\n",
    "                image=img_elem.img['src'] if img_elem else \" \"\n",
    "                data_list.append({'Header': header, 'Article': article, 'Link': url, 'Image': image})\n",
    "        except:\n",
    "            print(f'Error at {i}')\n",
    "            continue\n",
    "\n",
    " \n",
    "    \n",
    "    \n"
   ]
  },
  {
   "cell_type": "code",
   "execution_count": null,
   "metadata": {},
   "outputs": [],
   "source": [
    "scrape_xendan(172550)"
   ]
  },
  {
   "cell_type": "code",
   "execution_count": 135,
   "metadata": {},
   "outputs": [],
   "source": [
    "news_scraper=pd.DataFrame(data_list)"
   ]
  },
  {
   "cell_type": "code",
   "execution_count": 136,
   "metadata": {},
   "outputs": [
    {
     "data": {
      "text/plain": [
       "(1244, 4)"
      ]
     },
     "execution_count": 136,
     "metadata": {},
     "output_type": "execute_result"
    }
   ],
   "source": [
    "news_scraper.shape"
   ]
  },
  {
   "cell_type": "code",
   "execution_count": 137,
   "metadata": {},
   "outputs": [
    {
     "data": {
      "text/html": [
       "<div>\n",
       "<style scoped>\n",
       "    .dataframe tbody tr th:only-of-type {\n",
       "        vertical-align: middle;\n",
       "    }\n",
       "\n",
       "    .dataframe tbody tr th {\n",
       "        vertical-align: top;\n",
       "    }\n",
       "\n",
       "    .dataframe thead th {\n",
       "        text-align: right;\n",
       "    }\n",
       "</style>\n",
       "<table border=\"1\" class=\"dataframe\">\n",
       "  <thead>\n",
       "    <tr style=\"text-align: right;\">\n",
       "      <th></th>\n",
       "      <th>Header</th>\n",
       "      <th>Article</th>\n",
       "      <th>Link</th>\n",
       "      <th>Image</th>\n",
       "    </tr>\n",
       "  </thead>\n",
       "  <tbody>\n",
       "    <tr>\n",
       "      <th>0</th>\n",
       "      <td>سەرکەوتنی ئاڵوگۆڕی دەستگیرکراوانی نێوان ئیسرائ...</td>\n",
       "      <td>خه‌ندان-\\n\\nوەزارەتی دەرەوەی قەتەر سەرکەوتنی ئ...</td>\n",
       "      <td>https://www.xendan.org/detailnews/173794</td>\n",
       "      <td>https://wenakan.xendan.org/root/root/images/20...</td>\n",
       "    </tr>\n",
       "    <tr>\n",
       "      <th>1</th>\n",
       "      <td>پنتاگۆن: لەدوای راگرتنی ئۆپەراسیۆنی غەززە هیچ ...</td>\n",
       "      <td>خه‌ندان-\\n\\nوه‌زاره‌تی به‌رگری ئه‌مریكا (پنتاگ...</td>\n",
       "      <td>https://www.xendan.org/detailnews/173793</td>\n",
       "      <td>https://wenakan.xendan.org/root/root/images/20...</td>\n",
       "    </tr>\n",
       "    <tr>\n",
       "      <th>2</th>\n",
       "      <td>له‌ روداوێكی هاتوچۆدا كه‌سێك گیانی له‌ده‌ستدا</td>\n",
       "      <td>خه‌ندان-\\n\\nوتەبێژی پۆلیسی پارێزگای دهۆک رایگه...</td>\n",
       "      <td>https://www.xendan.org/detailnews/173792</td>\n",
       "      <td>https://wenakan.xendan.org/root/root/images/19...</td>\n",
       "    </tr>\n",
       "    <tr>\n",
       "      <th>3</th>\n",
       "      <td>ئه‌مریكا هه‌ڵوێستی خۆی له‌باره‌ی گه‌ڕانه‌وه‌ی ...</td>\n",
       "      <td>خه‌ندان-\\n\\nوەزارەتی پێشمەرگە هەریەک لە بەرپرس...</td>\n",
       "      <td>https://www.xendan.org/detailnews/173791</td>\n",
       "      <td>https://wenakan.xendan.org/root/root/images/19...</td>\n",
       "    </tr>\n",
       "    <tr>\n",
       "      <th>4</th>\n",
       "      <td>تەندروستی جیهانی: خەڵکی غەززه‌ زیاتر مەترسیی م...</td>\n",
       "      <td>خه‌ندان-\\n\\nوتەبێژی رێکخراوی تەندروستی جیهانی ...</td>\n",
       "      <td>https://www.xendan.org/detailnews/173790</td>\n",
       "      <td>https://wenakan.xendan.org/root/root/images/18...</td>\n",
       "    </tr>\n",
       "    <tr>\n",
       "      <th>...</th>\n",
       "      <td>...</td>\n",
       "      <td>...</td>\n",
       "      <td>...</td>\n",
       "      <td>...</td>\n",
       "    </tr>\n",
       "    <tr>\n",
       "      <th>1239</th>\n",
       "      <td>هه‌موان چاوه‌ڕوانی وتاره‌كه‌ی نەسروڵان؛ ترسی ر...</td>\n",
       "      <td>خه‌ندان-\\n\\nئه‌مڕۆ هەینی حەسەن نەسروڵا، ئەمیند...</td>\n",
       "      <td>https://www.xendan.org/detailnews/172555</td>\n",
       "      <td>https://wenakan.xendan.org/root/root/images/63...</td>\n",
       "    </tr>\n",
       "    <tr>\n",
       "      <th>1240</th>\n",
       "      <td>چوار سەربازی ئیسرائیل لە غەززە کوژراون</td>\n",
       "      <td>خه‌ندان-\\n\\nئەمڕۆ سوپای ئیسرائیل کوژرانی چوار ...</td>\n",
       "      <td>https://www.xendan.org/detailnews/172554</td>\n",
       "      <td>https://wenakan.xendan.org/root/root/images/63...</td>\n",
       "    </tr>\n",
       "    <tr>\n",
       "      <th>1241</th>\n",
       "      <td>پێشنیازی ئاگربەست لە رۆژدا ده‌كرێت؛ ئەمریکا فش...</td>\n",
       "      <td>خه‌ندان-\\n\\nسەرچاوەیەکی فەڵەستینی ئاگادار لە و...</td>\n",
       "      <td>https://www.xendan.org/detailnews/172553</td>\n",
       "      <td>https://wenakan.xendan.org/root/root/images/63...</td>\n",
       "    </tr>\n",
       "    <tr>\n",
       "      <th>1242</th>\n",
       "      <td>ئەسەد ره‌زامه‌ندی له‌سه‌ر ناردنی سیستمی موشەکی...</td>\n",
       "      <td>خه‌ندان-\\n\\nبەشار ئەسەد، سەرۆکی سوریا رەزامەند...</td>\n",
       "      <td>https://www.xendan.org/detailnews/172552</td>\n",
       "      <td>https://wenakan.xendan.org/root/root/images/63...</td>\n",
       "    </tr>\n",
       "    <tr>\n",
       "      <th>1243</th>\n",
       "      <td>نرخی نەوت به‌رگری له‌ ده‌ستكه‌وته‌كانی ده‌كات</td>\n",
       "      <td>خه‌ندان-\\n\\nنرخی نەوتی خاو لە سەرەتای مامەڵەکا...</td>\n",
       "      <td>https://www.xendan.org/detailnews/172551</td>\n",
       "      <td>https://wenakan.xendan.org/root/root/images/53...</td>\n",
       "    </tr>\n",
       "  </tbody>\n",
       "</table>\n",
       "<p>1244 rows × 4 columns</p>\n",
       "</div>"
      ],
      "text/plain": [
       "                                                 Header  \\\n",
       "0     سەرکەوتنی ئاڵوگۆڕی دەستگیرکراوانی نێوان ئیسرائ...   \n",
       "1     پنتاگۆن: لەدوای راگرتنی ئۆپەراسیۆنی غەززە هیچ ...   \n",
       "2         له‌ روداوێكی هاتوچۆدا كه‌سێك گیانی له‌ده‌ستدا   \n",
       "3     ئه‌مریكا هه‌ڵوێستی خۆی له‌باره‌ی گه‌ڕانه‌وه‌ی ...   \n",
       "4     تەندروستی جیهانی: خەڵکی غەززه‌ زیاتر مەترسیی م...   \n",
       "...                                                 ...   \n",
       "1239  هه‌موان چاوه‌ڕوانی وتاره‌كه‌ی نەسروڵان؛ ترسی ر...   \n",
       "1240             چوار سەربازی ئیسرائیل لە غەززە کوژراون   \n",
       "1241  پێشنیازی ئاگربەست لە رۆژدا ده‌كرێت؛ ئەمریکا فش...   \n",
       "1242  ئەسەد ره‌زامه‌ندی له‌سه‌ر ناردنی سیستمی موشەکی...   \n",
       "1243      نرخی نەوت به‌رگری له‌ ده‌ستكه‌وته‌كانی ده‌كات   \n",
       "\n",
       "                                                Article  \\\n",
       "0     خه‌ندان-\\n\\nوەزارەتی دەرەوەی قەتەر سەرکەوتنی ئ...   \n",
       "1     خه‌ندان-\\n\\nوه‌زاره‌تی به‌رگری ئه‌مریكا (پنتاگ...   \n",
       "2     خه‌ندان-\\n\\nوتەبێژی پۆلیسی پارێزگای دهۆک رایگه...   \n",
       "3     خه‌ندان-\\n\\nوەزارەتی پێشمەرگە هەریەک لە بەرپرس...   \n",
       "4     خه‌ندان-\\n\\nوتەبێژی رێکخراوی تەندروستی جیهانی ...   \n",
       "...                                                 ...   \n",
       "1239  خه‌ندان-\\n\\nئه‌مڕۆ هەینی حەسەن نەسروڵا، ئەمیند...   \n",
       "1240  خه‌ندان-\\n\\nئەمڕۆ سوپای ئیسرائیل کوژرانی چوار ...   \n",
       "1241  خه‌ندان-\\n\\nسەرچاوەیەکی فەڵەستینی ئاگادار لە و...   \n",
       "1242  خه‌ندان-\\n\\nبەشار ئەسەد، سەرۆکی سوریا رەزامەند...   \n",
       "1243  خه‌ندان-\\n\\nنرخی نەوتی خاو لە سەرەتای مامەڵەکا...   \n",
       "\n",
       "                                          Link  \\\n",
       "0     https://www.xendan.org/detailnews/173794   \n",
       "1     https://www.xendan.org/detailnews/173793   \n",
       "2     https://www.xendan.org/detailnews/173792   \n",
       "3     https://www.xendan.org/detailnews/173791   \n",
       "4     https://www.xendan.org/detailnews/173790   \n",
       "...                                        ...   \n",
       "1239  https://www.xendan.org/detailnews/172555   \n",
       "1240  https://www.xendan.org/detailnews/172554   \n",
       "1241  https://www.xendan.org/detailnews/172553   \n",
       "1242  https://www.xendan.org/detailnews/172552   \n",
       "1243  https://www.xendan.org/detailnews/172551   \n",
       "\n",
       "                                                  Image  \n",
       "0     https://wenakan.xendan.org/root/root/images/20...  \n",
       "1     https://wenakan.xendan.org/root/root/images/20...  \n",
       "2     https://wenakan.xendan.org/root/root/images/19...  \n",
       "3     https://wenakan.xendan.org/root/root/images/19...  \n",
       "4     https://wenakan.xendan.org/root/root/images/18...  \n",
       "...                                                 ...  \n",
       "1239  https://wenakan.xendan.org/root/root/images/63...  \n",
       "1240  https://wenakan.xendan.org/root/root/images/63...  \n",
       "1241  https://wenakan.xendan.org/root/root/images/63...  \n",
       "1242  https://wenakan.xendan.org/root/root/images/63...  \n",
       "1243  https://wenakan.xendan.org/root/root/images/53...  \n",
       "\n",
       "[1244 rows x 4 columns]"
      ]
     },
     "execution_count": 137,
     "metadata": {},
     "output_type": "execute_result"
    }
   ],
   "source": [
    "news_scraper"
   ]
  },
  {
   "cell_type": "code",
   "execution_count": 138,
   "metadata": {},
   "outputs": [],
   "source": [
    "news_scraper.to_csv('../scrapedData/xendan-5.csv')"
   ]
  },
  {
   "cell_type": "code",
   "execution_count": 119,
   "metadata": {},
   "outputs": [],
   "source": [
    "img_dumb=[]\n",
    "url=f\"https://www.xendan.org/detailnews/{178140}\"\n",
    "proxied_fetch=f'https://spontaneous-faloodeh-9e9321.netlify.app/?destination={url}'\n",
    "html = urlopen(proxied_fetch)\n",
    "bs = BeautifulSoup(html, 'html.parser')    \n",
    "header_elem = bs.find('div', {'class': \"detail-top\"})\n",
    "article_elem = bs.find('div', {'class': \"detail-big-text-p\"})\n",
    "img_elem=bs.find('div', {'class': \"detail-big-img\"})\n",
    "#print(img_elem.img['src'])\n",
    "if header_elem and article_elem and header_elem.find('h1'):\n",
    "    header = header_elem.find('h1').text.strip()\n",
    "    article = article_elem.text.strip()\n",
    "    image=img_elem.img['src'] if img_elem else \" \"\n",
    "    img_dumb.append({'Header': header, 'Article': article, 'Link': url})\n"
   ]
  },
  {
   "cell_type": "code",
   "execution_count": 115,
   "metadata": {},
   "outputs": [
    {
     "data": {
      "text/plain": [
       "[{'Header': 'ته\\u200cقینه\\u200cوه\\u200cیه\\u200cك له\\u200c كفری رویدا و كه\\u200cسێك گیانی له\\u200cده\\u200cستدا',\n",
       "  'Article': 'خه\\u200cندان-\\n\\nپاشنیوه\\u200cڕۆی ئه\\u200cمڕۆ ته\\u200cقینه\\u200cوه\\u200cیه\\u200cك له\\u200cنزیك نه\\u200cخۆشخانه\\u200cی كفری رویدا و كه\\u200cسێك گیانی له\\u200cده\\u200cستدا، سه\\u200cرچاوه\\u200cیه\\u200cكی ئاگاداریش ده\\u200cڵێت، هێرشه\\u200cكه\\u200c له\\u200c رێگه\\u200cی فڕۆكه\\u200cی بێفڕۆكه\\u200cوانه\\u200cوه\\u200c ئه\\u200cنجامدراوه\\u200c.\\n\\nبه\\u200cگوێره\\u200cی زانیاریه\\u200cكانی خه\\u200cندان، پاشنیوه\\u200cڕۆی ئه\\u200cمڕۆ یه\\u200cكشه\\u200cممه\\u200c ته\\u200cقینه\\u200cوه\\u200cیه\\u200cك له\\u200c نزیك بینایه\\u200cك له\\u200c نزیك نه\\u200cخۆشخانه\\u200cی كفری (ناوبازاڕی كفری) رویداوه\\u200c به\\u200cهۆیه\\u200cوه\\u200c هاوڵاتییه\\u200cك به\\u200cناوی عه\\u200cلی حسێن ناسراو به\\u200c (حسێن عەلوش) كوژراوه\\u200c\".\\nئاگاداركرام كه\\u200c له\\u200c رێگه\\u200cی فڕۆكه\\u200cی بێفڕۆكه\\u200cوانه\\u200cوه\\u200c مامم كراوه\\u200cته\\u200c ئامانج و گیانی له\\u200cده\\u200cستداوه\\u200c\\nبرازایه\\u200cكی عه\\u200cلی حسێن ناسراو به\\u200c (حسێن عەلوش) به\\u200c خه\\u200cندان-ی راگه\\u200cیاند، به\\u200c له\\u200c هێرشه\\u200cكه\\u200c له\\u200cگه\\u200cڵ مامیدا پێكه\\u200cوه\\u200c بون و دوای ئه\\u200cوه\\u200cی نانیان خواردوه\\u200c مامی بەجێهێشتوە، \"دواتر ئاگاداركرام كه\\u200c له\\u200c رێگه\\u200cی فڕۆكه\\u200cی بێفڕۆكه\\u200cوانه\\u200cوه\\u200c مامم كراوه\\u200cته\\u200c ئامانج و گیانی له\\u200cده\\u200cستداوه\\u200c\".\\nئه\\u200cو شوێنه\\u200cی كه\\u200c \"فڕۆكه\\u200cكه\\u200c بۆردومانی كردوه\\u200c\" میوانخانەی هۆزی بەیاد بوه\\u200c\\xa0\\nئه\\u200cو شوێنه\\u200cی كه\\u200c \"فڕۆكه\\u200cكه\\u200c بۆردومانی كردوه\\u200c\" میوانخانەی هۆزی بەیاد بوه\\u200c و حسێن عەلوش سه\\u200cرۆكی هۆزه\\u200cكه\\u200cیه\\u200c و یه\\u200cكێكه\\u200c له\\u200c كه\\u200cسایه\\u200cتییه\\u200c دیاره\\u200cكانی توركمان.\\nشاهێدحاڵه\\u200cكان\\xa0ده\\u200cڵێن\\xa0ده\\u200cنگی ته\\u200cقینه\\u200cوه\\u200cیه\\u200cكی به\\u200cهێز له\\u200cكاتی روداوه\\u200cكه\\u200cدا بیستراوه\\u200c\\xa0\\nشاهێدحاڵه\\u200cكان كه\\u200c له\\u200c شوێنی روداوه\\u200cكه\\u200c بون ده\\u200cڵێن، ده\\u200cنگی ته\\u200cقینه\\u200cوه\\u200cیه\\u200cكی به\\u200cهێز له\\u200cكاتی روداوه\\u200cكه\\u200cدا بیستراوه\\u200c و له\\u200cدوای روداوه\\u200cكه\\u200cش زیانێكی زۆر به\\u200cر نه\\u200cخۆشخانه\\u200c تایبه\\u200cته\\u200cكه\\u200cی ناو بازاڕی كفری گه\\u200cیشتوه\\u200c و هاوكات ته\\u200cنها یه\\u200cك ته\\u200cرمیش له\\u200c شوێنه\\u200cكه\\u200c بینراوه\\u200c.\\n\\nخه\\u200cندان په\\u200cیوه\\u200cندیكرد به\\u200c ده\\u200cزگای ئاسایشی هه\\u200cرێمی كوردستان به\\u200cڵام به\\u200cرپرسێكی ده\\u200cزگاكه\\u200c ده\\u200cڵێت، هێشتا لێكۆڵینه\\u200cوه\\u200c له\\u200c روداوه\\u200cكه\\u200c ده\\u200cكه\\u200cن و دیارنییه\\u200c كه\\u200c چی رویداوه\\u200c.',\n",
       "  'Link': 'https://www.xendan.org/detailnews/178697'}]"
      ]
     },
     "execution_count": 115,
     "metadata": {},
     "output_type": "execute_result"
    }
   ],
   "source": [
    "img_dumb"
   ]
  },
  {
   "cell_type": "code",
   "execution_count": null,
   "metadata": {},
   "outputs": [],
   "source": []
  }
 ],
 "metadata": {
  "kernelspec": {
   "display_name": "base",
   "language": "python",
   "name": "python3"
  },
  "language_info": {
   "codemirror_mode": {
    "name": "ipython",
    "version": 3
   },
   "file_extension": ".py",
   "mimetype": "text/x-python",
   "name": "python",
   "nbconvert_exporter": "python",
   "pygments_lexer": "ipython3",
   "version": "3.11.7"
  }
 },
 "nbformat": 4,
 "nbformat_minor": 2
}
