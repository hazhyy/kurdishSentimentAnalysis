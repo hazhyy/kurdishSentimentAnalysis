{
 "cells": [
  {
   "cell_type": "markdown",
   "metadata": {},
   "source": [
    "# Scraping data from Xendan website"
   ]
  },
  {
   "cell_type": "code",
   "execution_count": 35,
   "metadata": {},
   "outputs": [],
   "source": [
    "from urllib.request import urlopen\n",
    "from bs4 import BeautifulSoup\n",
    "import re\n",
    "import pandas as pd"
   ]
  },
  {
   "cell_type": "code",
   "execution_count": 77,
   "metadata": {},
   "outputs": [
    {
     "name": "stdout",
     "output_type": "stream",
     "text": [
      "https://www.xendan.org/detailnews/178572\n",
      "https://www.xendan.org/detailnews/178571\n",
      "https://www.xendan.org/detailnews/178570\n",
      "https://www.xendan.org/detailnews/178569\n",
      "https://www.xendan.org/detailnews/178568\n",
      "https://www.xendan.org/detailnews/178567\n",
      "https://www.xendan.org/detailnews/178566\n",
      "https://www.xendan.org/detailnews/178565\n",
      "https://www.xendan.org/detailnews/178564\n",
      "https://www.xendan.org/detailnews/178563\n",
      "https://www.xendan.org/detailnews/178013\n",
      "https://www.xendan.org/detailnews/178378\n",
      "https://www.xendan.org/detailnews/178555\n",
      "https://www.xendan.org/detailnews/178546\n",
      "https://www.xendan.org/detailnews/178505\n",
      "https://www.xendan.org/detailnews/178500\n",
      "https://www.xendan.org/detailnews/178495\n",
      "https://www.xendan.org/detailnews/178071\n",
      "https://www.xendan.org/detailnews/178258\n",
      "https://www.xendan.org/detailnews/178553\n",
      "https://www.xendan.org/detailnews/178551\n",
      "https://www.xendan.org/detailnews/178536\n",
      "https://www.xendan.org/detailnews/178117\n",
      "https://www.xendan.org/detailnews/178558\n",
      "https://www.xendan.org/detailnews/178547\n",
      "https://www.xendan.org/detailnews/178529\n",
      "https://www.xendan.org/detailnews/178408\n",
      "https://www.xendan.org/detailnews/178309\n",
      "https://www.xendan.org/detailnews/178325\n",
      "https://www.xendan.org/detailnews/178539\n",
      "https://www.xendan.org/detailnews/178527\n",
      "https://www.xendan.org/detailnews/178491\n",
      "https://www.xendan.org/detailnews/178481\n",
      "https://www.xendan.org/detailnews/178487\n",
      "https://www.xendan.org/detailnews/178484\n",
      "https://www.xendan.org/detailnews/178412\n",
      "https://www.xendan.org/detailnews/178556\n",
      "https://www.xendan.org/detailnews/178542\n",
      "https://www.xendan.org/detailnews/178541\n",
      "https://www.xendan.org/detailnews/177037\n",
      "https://www.xendan.org/detailnews/178113\n"
     ]
    }
   ],
   "source": [
    "\n",
    "\n",
    "data_list=[]\n",
    "pages=set()\n",
    "def getLinks(pageUrl):\n",
    "    html = urlopen(pageUrl)\n",
    "    bs = BeautifulSoup(html, 'html.parser')\n",
    "\n",
    "    header=bs.find('div',{'class':\"detail-top\"}).find('h1').text.strip()\n",
    "    article=bs.find('div',{'class':\"detail-big-text-p\"}).text.strip()\n",
    "    data_list.append({'Header':header,'Article':article,'Link':pageUrl})\n",
    "    for link in bs.find_all('a', href=re.compile(r'https://www\\.xendan\\.org/detailnews/\\d+')):\n",
    "     if 'href' in link.attrs:\n",
    "        if link.attrs['href'] not in pages:\n",
    "            #We have encountered a new page\n",
    "             newPage = link.attrs['href']\n",
    "             print(newPage)\n",
    "             pages.add(newPage)\n",
    "             getLinks(newPage)\n",
    "getLinks('https://www.xendan.org/detailnews/178566')"
   ]
  },
  {
   "cell_type": "code",
   "execution_count": 78,
   "metadata": {},
   "outputs": [
    {
     "data": {
      "text/plain": [
       "{'https://www.xendan.org/detailnews/177037',\n",
       " 'https://www.xendan.org/detailnews/178013',\n",
       " 'https://www.xendan.org/detailnews/178071',\n",
       " 'https://www.xendan.org/detailnews/178113',\n",
       " 'https://www.xendan.org/detailnews/178117',\n",
       " 'https://www.xendan.org/detailnews/178258',\n",
       " 'https://www.xendan.org/detailnews/178309',\n",
       " 'https://www.xendan.org/detailnews/178325',\n",
       " 'https://www.xendan.org/detailnews/178378',\n",
       " 'https://www.xendan.org/detailnews/178408',\n",
       " 'https://www.xendan.org/detailnews/178412',\n",
       " 'https://www.xendan.org/detailnews/178481',\n",
       " 'https://www.xendan.org/detailnews/178484',\n",
       " 'https://www.xendan.org/detailnews/178487',\n",
       " 'https://www.xendan.org/detailnews/178491',\n",
       " 'https://www.xendan.org/detailnews/178495',\n",
       " 'https://www.xendan.org/detailnews/178500',\n",
       " 'https://www.xendan.org/detailnews/178505',\n",
       " 'https://www.xendan.org/detailnews/178527',\n",
       " 'https://www.xendan.org/detailnews/178529',\n",
       " 'https://www.xendan.org/detailnews/178536',\n",
       " 'https://www.xendan.org/detailnews/178539',\n",
       " 'https://www.xendan.org/detailnews/178541',\n",
       " 'https://www.xendan.org/detailnews/178542',\n",
       " 'https://www.xendan.org/detailnews/178546',\n",
       " 'https://www.xendan.org/detailnews/178547',\n",
       " 'https://www.xendan.org/detailnews/178551',\n",
       " 'https://www.xendan.org/detailnews/178553',\n",
       " 'https://www.xendan.org/detailnews/178555',\n",
       " 'https://www.xendan.org/detailnews/178556',\n",
       " 'https://www.xendan.org/detailnews/178558',\n",
       " 'https://www.xendan.org/detailnews/178563',\n",
       " 'https://www.xendan.org/detailnews/178564',\n",
       " 'https://www.xendan.org/detailnews/178565',\n",
       " 'https://www.xendan.org/detailnews/178566',\n",
       " 'https://www.xendan.org/detailnews/178567',\n",
       " 'https://www.xendan.org/detailnews/178568',\n",
       " 'https://www.xendan.org/detailnews/178569',\n",
       " 'https://www.xendan.org/detailnews/178570',\n",
       " 'https://www.xendan.org/detailnews/178571',\n",
       " 'https://www.xendan.org/detailnews/178572'}"
      ]
     },
     "execution_count": 78,
     "metadata": {},
     "output_type": "execute_result"
    }
   ],
   "source": [
    "pages"
   ]
  },
  {
   "cell_type": "code",
   "execution_count": 79,
   "metadata": {},
   "outputs": [],
   "source": [
    "scraped_data=pd.DataFrame(data_list)"
   ]
  },
  {
   "cell_type": "code",
   "execution_count": 80,
   "metadata": {},
   "outputs": [
    {
     "data": {
      "text/plain": [
       "(42, 3)"
      ]
     },
     "execution_count": 80,
     "metadata": {},
     "output_type": "execute_result"
    }
   ],
   "source": [
    "scraped_data.shape"
   ]
  },
  {
   "cell_type": "code",
   "execution_count": 81,
   "metadata": {},
   "outputs": [],
   "source": [
    "scraped_data.to_csv('../scrapedData/xendan.csv')"
   ]
  }
 ],
 "metadata": {
  "kernelspec": {
   "display_name": "base",
   "language": "python",
   "name": "python3"
  },
  "language_info": {
   "codemirror_mode": {
    "name": "ipython",
    "version": 3
   },
   "file_extension": ".py",
   "mimetype": "text/x-python",
   "name": "python",
   "nbconvert_exporter": "python",
   "pygments_lexer": "ipython3",
   "version": "3.11.7"
  }
 },
 "nbformat": 4,
 "nbformat_minor": 2
}
