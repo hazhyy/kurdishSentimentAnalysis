{
 "cells": [
  {
   "cell_type": "markdown",
   "metadata": {},
   "source": [
    "# Scraping data from Xendan website"
   ]
  },
  {
   "cell_type": "code",
   "execution_count": 78,
   "metadata": {},
   "outputs": [],
   "source": [
    "from urllib.request import urlopen\n",
    "from bs4 import BeautifulSoup\n",
    "import re\n",
    "import pandas as pd\n",
    "from tqdm.notebook import tqdm\n"
   ]
  },
  {
   "cell_type": "code",
   "execution_count": 28,
   "metadata": {},
   "outputs": [
    {
     "name": "stdout",
     "output_type": "stream",
     "text": [
      "https://www.xendan.org/about.aspx?jimare=1\n",
      "https://www.xendan.org/about.aspx?jimare=2\n",
      "https://www.xendan.org/arshif.aspx?babet=kurd\n",
      "https://www.xendan.org/sport\n",
      "https://www.xendan.org/life\n",
      "https://www.xendan.org/wtar.aspx\n",
      "https://www.xendan.org/bzharda.aspx\n",
      "https://www.xendan.org/detailnews/178611\n",
      "https://www.xendan.org/detailnews/178610\n",
      "https://www.xendan.org/detailnews/178609\n",
      "https://www.xendan.org/detailnews/178608\n",
      "https://www.xendan.org/detailnews/178606\n",
      "https://www.xendan.org/detailnews/178604\n",
      "https://www.xendan.org/detailnews/178603\n",
      "https://www.xendan.org/detailnews/178602\n",
      "https://www.xendan.org/detailnews/178601\n",
      "https://www.xendan.org/detailnews/178600\n",
      "https://www.xendan.org/detailnews/178013\n",
      "https://www.xendan.org/detailnews/178378\n",
      "https://www.xendan.org/detailnews/178581\n",
      "https://www.xendan.org/detailnews/178573\n",
      "https://www.xendan.org/detailnews/178555\n",
      "https://www.xendan.org/detailnews/178546\n",
      "https://www.xendan.org/detailnews/178071\n",
      "https://www.xendan.org/detailnews/178258\n",
      "https://www.xendan.org/detailnews/178596\n",
      "https://www.xendan.org/detailnews/178595\n",
      "https://www.xendan.org/detailnews/178577\n",
      "https://www.xendan.org/detailnews/178570\n",
      "https://www.xendan.org/detailnews/178567\n",
      "https://www.xendan.org/detailnews/177037\n",
      "https://www.xendan.org/detailnews/178117\n",
      "https://www.xendan.org/detailnews/178558\n",
      "https://www.xendan.org/detailnews/178547\n",
      "https://www.xendan.org/detailnews/178529\n",
      "https://www.xendan.org/detailnews/178408\n",
      "https://www.xendan.org/detailnews/178309\n",
      "https://www.xendan.org/detailnews/178539\n",
      "https://www.xendan.org/detailnews/178527\n",
      "https://www.xendan.org/detailnews/178491\n",
      "https://www.xendan.org/detailnews/178481\n",
      "https://www.xendan.org/default.aspx\n",
      "https://www.xendan.org/detailnews/178598\n",
      "https://www.xendan.org/abetakan.aspx?babet=3&title=جیهان\n",
      "jhttps://www.xendan.org/orawjor.aspx?babet=6&title=جۆراوجۆر\n",
      "https://www.xendan.org/detailnews/178597\n",
      "https://www.xendan.org/detailnews/178360\n",
      "https://www.xendan.org/detailnews/178320\n",
      "https://www.xendan.org/detailnews/178269\n",
      "https://www.xendan.org/detailnews/177881\n",
      "https://www.xendan.org/detailnews/177887\n",
      "https://www.xendan.org/detailnews/177885\n",
      "https://www.xendan.org/detailnews/177674\n",
      "https://www.xendan.org/detailnews/177572\n",
      "https://www.xendan.org/detailnews/178471\n",
      "https://www.xendan.org/detailnews/178544\n",
      "https://www.xendan.org/detailnews/178528\n",
      "https://www.xendan.org/detailnews/178201\n",
      "https://www.xendan.org/detailnews/178051\n",
      "https://www.xendan.org/detailnews/177337\n",
      "https://www.xendan.org/tags.aspx?tag=7674&babet=15&title=%D8%AF%DB%8C%D8%AF%D8%A7%D8%B1%DB%8C%20%D8%AE%DB%95%D9%86%D8%AF%D8%A7%D9%86\n",
      "https://www.xendan.org/detailnews/162558\n",
      "https://www.xendan.org/detailnews/178589\n",
      "https://www.xendan.org/detailnews/178588\n",
      "https://www.xendan.org/detailnews/178587\n",
      "https://www.xendan.org/detailnews/178586\n",
      "https://www.xendan.org/detailnews/178561\n",
      "https://www.xendan.org/detailnews/156308\n",
      "https://www.xendan.org/detailnews/156259\n",
      "https://www.xendan.org/detailnews/153413\n",
      "https://www.xendan.org/detailnews/152234\n",
      "https://www.xendan.org/detailnews/151300\n",
      "https://www.xendan.org/detailnews/150999\n",
      "https://www.xendan.org/detailnews/150673\n",
      "https://www.xendan.org/detailnews/150069\n",
      "https://www.xendan.org/detailnews/149945\n",
      "https://www.xendan.org/detailnews/148394\n",
      "https://www.xendan.org/detailnews/148392\n",
      "https://www.xendan.org/detailnews/147059\n",
      "https://www.xendan.org/detailnews/147032\n",
      "https://www.xendan.org/detailnews/146822\n",
      "https://www.xendan.org/detailnews/146446\n",
      "https://www.xendan.org/detailnews/145880\n",
      "https://www.xendan.org/detailnews/145138\n",
      "https://www.xendan.org/detailnews/145089\n",
      "https://www.xendan.org/detailnews/144573\n",
      "https://www.xendan.org/detailwtar/6768\n",
      "https://www.xendan.org/detailwtar/6767\n",
      "https://www.xendan.org/detailwtar/6766\n",
      "https://www.xendan.org/detailwtar/6750\n",
      "https://www.xendan.org/detailwtar/6421\n",
      "https://www.xendan.org/detailwtar/6085\n",
      "https://www.xendan.org/detailwtar/5382\n",
      "https://www.xendan.org/detailwtar/4696\n",
      "https://www.xendan.org/detailwtar/4622\n",
      "https://www.xendan.org/detailwtar/6702\n",
      "https://www.xendan.org/detailwtar/6723\n",
      "https://www.xendan.org/detailwtar/6764\n",
      "https://www.xendan.org/detailwtar/6228\n",
      "https://www.xendan.org/detailwtar/6142\n",
      "https://www.xendan.org/detailwtar/5479\n",
      "https://www.xendan.org/detailwtar/6762\n",
      "https://www.xendan.org/detailwtar/6517\n",
      "https://www.xendan.org/detailwtar/5680\n",
      "https://www.xendan.org/detailwtar/5161\n",
      "https://www.xendan.org/detailwtar/6761\n",
      "https://www.xendan.org/detailwtar/6709\n",
      "https://www.xendan.org/detailwtar/6679\n",
      "https://www.xendan.org/detailwtar/6763\n",
      "https://www.xendan.org/detailwtar/783\n",
      "https://www.xendan.org/detailnews/178487\n",
      "https://www.xendan.org/detailnews/178484\n",
      "https://www.xendan.org/detailnews/178412\n",
      "https://www.xendan.org/detailnews/178594\n",
      "https://www.xendan.org/detailnews/178580\n",
      "https://www.xendan.org/detailnews/178579\n",
      "https://www.xendan.org/detailwtar/6743\n",
      "https://www.xendan.org/detailwtar/5973\n",
      "https://www.xendan.org/detailwtar/6757\n",
      "https://www.xendan.org/detailwtar/6734\n",
      "https://www.xendan.org/detailwtar/6453\n",
      "https://www.xendan.org/detailwtar/6321\n",
      "https://www.xendan.org/detailwtar/6706\n",
      "https://www.xendan.org/detailwtar/6742\n",
      "https://www.xendan.org/detailwtar/6666\n",
      "https://www.xendan.org/detailwtar/6676\n",
      "https://www.xendan.org/detailwtar/6701\n",
      "https://www.xendan.org/detailwtar/6458\n",
      "https://www.xendan.org/detailwtar/6658\n",
      "https://www.xendan.org/detailwtar/6573\n",
      "https://www.xendan.org/detailwtar/5117\n",
      "https://www.xendan.org/detailwtar/6628\n",
      "https://www.xendan.org/detailwtar/6587\n",
      "https://www.xendan.org/detailwtar/6545\n",
      "https://www.xendan.org/detailwtar/6600\n",
      "https://www.xendan.org/detailwtar/6731\n",
      "https://www.xendan.org/detailwtar/6710\n",
      "https://www.xendan.org/detailwtar/6575\n",
      "https://www.xendan.org/detailwtar/4899\n",
      "https://www.xendan.org/detailwtar/6585\n",
      "https://www.xendan.org/detailwtar/6530\n",
      "https://www.xendan.org/detailwtar/6504\n",
      "https://www.xendan.org/detailwtar/6474\n",
      "https://www.xendan.org/detailwtar/6431\n",
      "https://www.xendan.org/detailwtar/6493\n",
      "https://www.xendan.org/detailwtar/5682\n",
      "https://www.xendan.org/detailwtar/6755\n",
      "https://www.xendan.org/detailwtar/6760\n",
      "https://www.xendan.org/detailwtar/6759\n",
      "https://www.xendan.org/detailwtar/6044\n",
      "https://www.xendan.org/detailwtar/3919\n",
      "https://www.xendan.org/detailwtar/6756\n",
      "https://www.xendan.org/detailwtar/4243\n",
      "https://www.xendan.org/detailwtar/6749\n",
      "https://www.xendan.org/detailwtar/6754\n",
      "https://www.xendan.org/detailwtar/6417\n",
      "https://www.xendan.org/detailwtar/6229\n",
      "https://www.xendan.org/detailwtar/6752\n",
      "https://www.xendan.org/detailwtar/6751\n",
      "https://www.xendan.org/detailwtar/6747\n",
      "https://www.xendan.org/detailwtar/6746\n",
      "https://www.xendan.org/detailwtar/6745\n",
      "https://www.xendan.org/detailwtar/6698\n",
      "https://www.xendan.org/detailwtar/6656\n",
      "https://www.xendan.org/detailnews/178593\n",
      "https://www.xendan.org/detailnews/178592\n",
      "https://www.xendan.org/detailnews/178590\n",
      "https://www.xendan.org/detailnews/178318\n",
      "https://www.xendan.org/detailnews/178585\n",
      "https://www.xendan.org/detailnews/178583\n",
      "https://www.xendan.org/detailnews/178578\n",
      "https://www.xendan.org/detailnews/178576\n",
      "https://www.xendan.org/detailnews/178575\n",
      "https://www.xendan.org/detailnews/178574\n"
     ]
    }
   ],
   "source": [
    "import urllib.parse\n",
    "\n",
    "data_list = []\n",
    "pages = set()\n",
    "\n",
    "def getLinks(pageUrl):\n",
    "    encoded_url = urllib.parse.quote(pageUrl, safe=':/?=&')\n",
    "    html = urlopen(encoded_url)\n",
    "    bs = BeautifulSoup(html, 'html.parser')\n",
    "    \n",
    "    header_elem = bs.find('div', {'class': \"detail-top\"})\n",
    "    article_elem = bs.find('div', {'class': \"detail-big-text-p\"})\n",
    "    \n",
    "    if header_elem and article_elem and header_elem.find('h1'):\n",
    "        header = header_elem.find('h1').text.strip()\n",
    "        article = article_elem.text.strip()\n",
    "        data_list.append({'Header': header, 'Article': article, 'Link': pageUrl})\n",
    "        \n",
    "    for link in bs.find_all('a', href=re.compile(r'https://www\\.(xendan\\.org/detailnews/\\d+|xendan\\.org/.*)')):\n",
    "        if 'href' in link.attrs:\n",
    "            newPage = link.attrs['href']\n",
    "            if newPage not in pages and \"babetakan.aspx\" not in newPage and \"multimedia.aspx\" not in newPage and \"jorawjor.aspx\" not in newPage and \"raport.aspx\" not in newPage:\n",
    "                print(newPage)\n",
    "                pages.add(newPage)\n",
    "                getLinks(urllib.parse.urljoin(pageUrl, newPage.replace('j', '')))\n",
    "\n",
    "getLinks('https://www.xendan.org/detailnews/178566')\n"
   ]
  },
  {
   "cell_type": "code",
   "execution_count": 30,
   "metadata": {},
   "outputs": [],
   "source": [
    "scraped_data=pd.DataFrame(data_list)"
   ]
  },
  {
   "cell_type": "markdown",
   "metadata": {},
   "source": [
    "## Using while loop to change the id of the news article tehn scraping it"
   ]
  },
  {
   "cell_type": "code",
   "execution_count": 95,
   "metadata": {},
   "outputs": [],
   "source": [
    "data_list = []\n",
    "partial_save_amount=5\n",
    "def scrape_xendan(lastId):\n",
    "    #using proxy to fetch data in case of bans or other issues like firewalls\n",
    "    #proxy was created using nitro from simpleproxy github repository\n",
    "    for i in tqdm(range(lastId, -1, -1)):\n",
    "        url=f\"https://www.xendan.org/detailnews/{i}\"\n",
    "        proxied_fetch=f'https://spontaneous-faloodeh-9e9321.netlify.app/?destination={url}'\n",
    "        html = urlopen(proxied_fetch)\n",
    "        bs = BeautifulSoup(html, 'html.parser')    \n",
    "        header_elem = bs.find('div', {'class': \"detail-top\"})\n",
    "        article_elem = bs.find('div', {'class': \"detail-big-text-p\"})\n",
    "        img_elem=bs.find('div', {'class': \"detail-big-img\"})\n",
    "        try:\n",
    "            if header_elem and article_elem and header_elem.find('h1'):\n",
    "                header = header_elem.find('h1').text.strip()\n",
    "                article = article_elem.text.strip()\n",
    "                image=img_elem.img['src'] if img_elem else \" \"\n",
    "                data_list.append({'Header': header, 'Article': article, 'Link': url, 'Image': image})\n",
    "        except:\n",
    "            print(f'Error at {i}')\n",
    "            continue\n",
    "\n",
    " \n",
    "    \n",
    "    \n"
   ]
  },
  {
   "cell_type": "code",
   "execution_count": 102,
   "metadata": {},
   "outputs": [
    {
     "data": {
      "application/vnd.jupyter.widget-view+json": {
       "model_id": "3536cb01d971423c9bf5d685d1f91b03",
       "version_major": 2,
       "version_minor": 0
      },
      "text/plain": [
       "  0%|          | 0/178140 [00:00<?, ?it/s]"
      ]
     },
     "metadata": {},
     "output_type": "display_data"
    },
    {
     "ename": "KeyboardInterrupt",
     "evalue": "",
     "output_type": "error",
     "traceback": [
      "\u001b[1;31m---------------------------------------------------------------------------\u001b[0m",
      "\u001b[1;31mKeyboardInterrupt\u001b[0m                         Traceback (most recent call last)",
      "Cell \u001b[1;32mIn[102], line 1\u001b[0m\n\u001b[1;32m----> 1\u001b[0m scrape_xendan(\u001b[38;5;241m178139\u001b[39m)\n",
      "Cell \u001b[1;32mIn[95], line 9\u001b[0m, in \u001b[0;36mscrape_xendan\u001b[1;34m(lastId)\u001b[0m\n\u001b[0;32m      7\u001b[0m url\u001b[38;5;241m=\u001b[39m\u001b[38;5;124mf\u001b[39m\u001b[38;5;124m\"\u001b[39m\u001b[38;5;124mhttps://www.xendan.org/detailnews/\u001b[39m\u001b[38;5;132;01m{\u001b[39;00mi\u001b[38;5;132;01m}\u001b[39;00m\u001b[38;5;124m\"\u001b[39m\n\u001b[0;32m      8\u001b[0m proxied_fetch\u001b[38;5;241m=\u001b[39m\u001b[38;5;124mf\u001b[39m\u001b[38;5;124m'\u001b[39m\u001b[38;5;124mhttps://spontaneous-faloodeh-9e9321.netlify.app/?destination=\u001b[39m\u001b[38;5;132;01m{\u001b[39;00murl\u001b[38;5;132;01m}\u001b[39;00m\u001b[38;5;124m'\u001b[39m\n\u001b[1;32m----> 9\u001b[0m html \u001b[38;5;241m=\u001b[39m urlopen(proxied_fetch)\n\u001b[0;32m     10\u001b[0m bs \u001b[38;5;241m=\u001b[39m BeautifulSoup(html, \u001b[38;5;124m'\u001b[39m\u001b[38;5;124mhtml.parser\u001b[39m\u001b[38;5;124m'\u001b[39m)    \n\u001b[0;32m     11\u001b[0m header_elem \u001b[38;5;241m=\u001b[39m bs\u001b[38;5;241m.\u001b[39mfind(\u001b[38;5;124m'\u001b[39m\u001b[38;5;124mdiv\u001b[39m\u001b[38;5;124m'\u001b[39m, {\u001b[38;5;124m'\u001b[39m\u001b[38;5;124mclass\u001b[39m\u001b[38;5;124m'\u001b[39m: \u001b[38;5;124m\"\u001b[39m\u001b[38;5;124mdetail-top\u001b[39m\u001b[38;5;124m\"\u001b[39m})\n",
      "File \u001b[1;32mc:\\Users\\hazhy\\anaconda3\\Lib\\urllib\\request.py:216\u001b[0m, in \u001b[0;36murlopen\u001b[1;34m(url, data, timeout, cafile, capath, cadefault, context)\u001b[0m\n\u001b[0;32m    214\u001b[0m \u001b[38;5;28;01melse\u001b[39;00m:\n\u001b[0;32m    215\u001b[0m     opener \u001b[38;5;241m=\u001b[39m _opener\n\u001b[1;32m--> 216\u001b[0m \u001b[38;5;28;01mreturn\u001b[39;00m opener\u001b[38;5;241m.\u001b[39mopen(url, data, timeout)\n",
      "File \u001b[1;32mc:\\Users\\hazhy\\anaconda3\\Lib\\urllib\\request.py:519\u001b[0m, in \u001b[0;36mOpenerDirector.open\u001b[1;34m(self, fullurl, data, timeout)\u001b[0m\n\u001b[0;32m    516\u001b[0m     req \u001b[38;5;241m=\u001b[39m meth(req)\n\u001b[0;32m    518\u001b[0m sys\u001b[38;5;241m.\u001b[39maudit(\u001b[38;5;124m'\u001b[39m\u001b[38;5;124murllib.Request\u001b[39m\u001b[38;5;124m'\u001b[39m, req\u001b[38;5;241m.\u001b[39mfull_url, req\u001b[38;5;241m.\u001b[39mdata, req\u001b[38;5;241m.\u001b[39mheaders, req\u001b[38;5;241m.\u001b[39mget_method())\n\u001b[1;32m--> 519\u001b[0m response \u001b[38;5;241m=\u001b[39m \u001b[38;5;28mself\u001b[39m\u001b[38;5;241m.\u001b[39m_open(req, data)\n\u001b[0;32m    521\u001b[0m \u001b[38;5;66;03m# post-process response\u001b[39;00m\n\u001b[0;32m    522\u001b[0m meth_name \u001b[38;5;241m=\u001b[39m protocol\u001b[38;5;241m+\u001b[39m\u001b[38;5;124m\"\u001b[39m\u001b[38;5;124m_response\u001b[39m\u001b[38;5;124m\"\u001b[39m\n",
      "File \u001b[1;32mc:\\Users\\hazhy\\anaconda3\\Lib\\urllib\\request.py:536\u001b[0m, in \u001b[0;36mOpenerDirector._open\u001b[1;34m(self, req, data)\u001b[0m\n\u001b[0;32m    533\u001b[0m     \u001b[38;5;28;01mreturn\u001b[39;00m result\n\u001b[0;32m    535\u001b[0m protocol \u001b[38;5;241m=\u001b[39m req\u001b[38;5;241m.\u001b[39mtype\n\u001b[1;32m--> 536\u001b[0m result \u001b[38;5;241m=\u001b[39m \u001b[38;5;28mself\u001b[39m\u001b[38;5;241m.\u001b[39m_call_chain(\u001b[38;5;28mself\u001b[39m\u001b[38;5;241m.\u001b[39mhandle_open, protocol, protocol \u001b[38;5;241m+\u001b[39m\n\u001b[0;32m    537\u001b[0m                           \u001b[38;5;124m'\u001b[39m\u001b[38;5;124m_open\u001b[39m\u001b[38;5;124m'\u001b[39m, req)\n\u001b[0;32m    538\u001b[0m \u001b[38;5;28;01mif\u001b[39;00m result:\n\u001b[0;32m    539\u001b[0m     \u001b[38;5;28;01mreturn\u001b[39;00m result\n",
      "File \u001b[1;32mc:\\Users\\hazhy\\anaconda3\\Lib\\urllib\\request.py:496\u001b[0m, in \u001b[0;36mOpenerDirector._call_chain\u001b[1;34m(self, chain, kind, meth_name, *args)\u001b[0m\n\u001b[0;32m    494\u001b[0m \u001b[38;5;28;01mfor\u001b[39;00m handler \u001b[38;5;129;01min\u001b[39;00m handlers:\n\u001b[0;32m    495\u001b[0m     func \u001b[38;5;241m=\u001b[39m \u001b[38;5;28mgetattr\u001b[39m(handler, meth_name)\n\u001b[1;32m--> 496\u001b[0m     result \u001b[38;5;241m=\u001b[39m func(\u001b[38;5;241m*\u001b[39margs)\n\u001b[0;32m    497\u001b[0m     \u001b[38;5;28;01mif\u001b[39;00m result \u001b[38;5;129;01mis\u001b[39;00m \u001b[38;5;129;01mnot\u001b[39;00m \u001b[38;5;28;01mNone\u001b[39;00m:\n\u001b[0;32m    498\u001b[0m         \u001b[38;5;28;01mreturn\u001b[39;00m result\n",
      "File \u001b[1;32mc:\\Users\\hazhy\\anaconda3\\Lib\\urllib\\request.py:1391\u001b[0m, in \u001b[0;36mHTTPSHandler.https_open\u001b[1;34m(self, req)\u001b[0m\n\u001b[0;32m   1390\u001b[0m \u001b[38;5;28;01mdef\u001b[39;00m \u001b[38;5;21mhttps_open\u001b[39m(\u001b[38;5;28mself\u001b[39m, req):\n\u001b[1;32m-> 1391\u001b[0m     \u001b[38;5;28;01mreturn\u001b[39;00m \u001b[38;5;28mself\u001b[39m\u001b[38;5;241m.\u001b[39mdo_open(http\u001b[38;5;241m.\u001b[39mclient\u001b[38;5;241m.\u001b[39mHTTPSConnection, req,\n\u001b[0;32m   1392\u001b[0m         context\u001b[38;5;241m=\u001b[39m\u001b[38;5;28mself\u001b[39m\u001b[38;5;241m.\u001b[39m_context, check_hostname\u001b[38;5;241m=\u001b[39m\u001b[38;5;28mself\u001b[39m\u001b[38;5;241m.\u001b[39m_check_hostname)\n",
      "File \u001b[1;32mc:\\Users\\hazhy\\anaconda3\\Lib\\urllib\\request.py:1352\u001b[0m, in \u001b[0;36mAbstractHTTPHandler.do_open\u001b[1;34m(self, http_class, req, **http_conn_args)\u001b[0m\n\u001b[0;32m   1350\u001b[0m     \u001b[38;5;28;01mexcept\u001b[39;00m \u001b[38;5;167;01mOSError\u001b[39;00m \u001b[38;5;28;01mas\u001b[39;00m err: \u001b[38;5;66;03m# timeout error\u001b[39;00m\n\u001b[0;32m   1351\u001b[0m         \u001b[38;5;28;01mraise\u001b[39;00m URLError(err)\n\u001b[1;32m-> 1352\u001b[0m     r \u001b[38;5;241m=\u001b[39m h\u001b[38;5;241m.\u001b[39mgetresponse()\n\u001b[0;32m   1353\u001b[0m \u001b[38;5;28;01mexcept\u001b[39;00m:\n\u001b[0;32m   1354\u001b[0m     h\u001b[38;5;241m.\u001b[39mclose()\n",
      "File \u001b[1;32mc:\\Users\\hazhy\\anaconda3\\Lib\\http\\client.py:1386\u001b[0m, in \u001b[0;36mHTTPConnection.getresponse\u001b[1;34m(self)\u001b[0m\n\u001b[0;32m   1384\u001b[0m \u001b[38;5;28;01mtry\u001b[39;00m:\n\u001b[0;32m   1385\u001b[0m     \u001b[38;5;28;01mtry\u001b[39;00m:\n\u001b[1;32m-> 1386\u001b[0m         response\u001b[38;5;241m.\u001b[39mbegin()\n\u001b[0;32m   1387\u001b[0m     \u001b[38;5;28;01mexcept\u001b[39;00m \u001b[38;5;167;01mConnectionError\u001b[39;00m:\n\u001b[0;32m   1388\u001b[0m         \u001b[38;5;28mself\u001b[39m\u001b[38;5;241m.\u001b[39mclose()\n",
      "File \u001b[1;32mc:\\Users\\hazhy\\anaconda3\\Lib\\http\\client.py:325\u001b[0m, in \u001b[0;36mHTTPResponse.begin\u001b[1;34m(self)\u001b[0m\n\u001b[0;32m    323\u001b[0m \u001b[38;5;66;03m# read until we get a non-100 response\u001b[39;00m\n\u001b[0;32m    324\u001b[0m \u001b[38;5;28;01mwhile\u001b[39;00m \u001b[38;5;28;01mTrue\u001b[39;00m:\n\u001b[1;32m--> 325\u001b[0m     version, status, reason \u001b[38;5;241m=\u001b[39m \u001b[38;5;28mself\u001b[39m\u001b[38;5;241m.\u001b[39m_read_status()\n\u001b[0;32m    326\u001b[0m     \u001b[38;5;28;01mif\u001b[39;00m status \u001b[38;5;241m!=\u001b[39m CONTINUE:\n\u001b[0;32m    327\u001b[0m         \u001b[38;5;28;01mbreak\u001b[39;00m\n",
      "File \u001b[1;32mc:\\Users\\hazhy\\anaconda3\\Lib\\http\\client.py:286\u001b[0m, in \u001b[0;36mHTTPResponse._read_status\u001b[1;34m(self)\u001b[0m\n\u001b[0;32m    285\u001b[0m \u001b[38;5;28;01mdef\u001b[39;00m \u001b[38;5;21m_read_status\u001b[39m(\u001b[38;5;28mself\u001b[39m):\n\u001b[1;32m--> 286\u001b[0m     line \u001b[38;5;241m=\u001b[39m \u001b[38;5;28mstr\u001b[39m(\u001b[38;5;28mself\u001b[39m\u001b[38;5;241m.\u001b[39mfp\u001b[38;5;241m.\u001b[39mreadline(_MAXLINE \u001b[38;5;241m+\u001b[39m \u001b[38;5;241m1\u001b[39m), \u001b[38;5;124m\"\u001b[39m\u001b[38;5;124miso-8859-1\u001b[39m\u001b[38;5;124m\"\u001b[39m)\n\u001b[0;32m    287\u001b[0m     \u001b[38;5;28;01mif\u001b[39;00m \u001b[38;5;28mlen\u001b[39m(line) \u001b[38;5;241m>\u001b[39m _MAXLINE:\n\u001b[0;32m    288\u001b[0m         \u001b[38;5;28;01mraise\u001b[39;00m LineTooLong(\u001b[38;5;124m\"\u001b[39m\u001b[38;5;124mstatus line\u001b[39m\u001b[38;5;124m\"\u001b[39m)\n",
      "File \u001b[1;32mc:\\Users\\hazhy\\anaconda3\\Lib\\socket.py:706\u001b[0m, in \u001b[0;36mSocketIO.readinto\u001b[1;34m(self, b)\u001b[0m\n\u001b[0;32m    704\u001b[0m \u001b[38;5;28;01mwhile\u001b[39;00m \u001b[38;5;28;01mTrue\u001b[39;00m:\n\u001b[0;32m    705\u001b[0m     \u001b[38;5;28;01mtry\u001b[39;00m:\n\u001b[1;32m--> 706\u001b[0m         \u001b[38;5;28;01mreturn\u001b[39;00m \u001b[38;5;28mself\u001b[39m\u001b[38;5;241m.\u001b[39m_sock\u001b[38;5;241m.\u001b[39mrecv_into(b)\n\u001b[0;32m    707\u001b[0m     \u001b[38;5;28;01mexcept\u001b[39;00m timeout:\n\u001b[0;32m    708\u001b[0m         \u001b[38;5;28mself\u001b[39m\u001b[38;5;241m.\u001b[39m_timeout_occurred \u001b[38;5;241m=\u001b[39m \u001b[38;5;28;01mTrue\u001b[39;00m\n",
      "File \u001b[1;32mc:\\Users\\hazhy\\anaconda3\\Lib\\ssl.py:1315\u001b[0m, in \u001b[0;36mSSLSocket.recv_into\u001b[1;34m(self, buffer, nbytes, flags)\u001b[0m\n\u001b[0;32m   1311\u001b[0m     \u001b[38;5;28;01mif\u001b[39;00m flags \u001b[38;5;241m!=\u001b[39m \u001b[38;5;241m0\u001b[39m:\n\u001b[0;32m   1312\u001b[0m         \u001b[38;5;28;01mraise\u001b[39;00m \u001b[38;5;167;01mValueError\u001b[39;00m(\n\u001b[0;32m   1313\u001b[0m           \u001b[38;5;124m\"\u001b[39m\u001b[38;5;124mnon-zero flags not allowed in calls to recv_into() on \u001b[39m\u001b[38;5;132;01m%s\u001b[39;00m\u001b[38;5;124m\"\u001b[39m \u001b[38;5;241m%\u001b[39m\n\u001b[0;32m   1314\u001b[0m           \u001b[38;5;28mself\u001b[39m\u001b[38;5;241m.\u001b[39m\u001b[38;5;18m__class__\u001b[39m)\n\u001b[1;32m-> 1315\u001b[0m     \u001b[38;5;28;01mreturn\u001b[39;00m \u001b[38;5;28mself\u001b[39m\u001b[38;5;241m.\u001b[39mread(nbytes, buffer)\n\u001b[0;32m   1316\u001b[0m \u001b[38;5;28;01melse\u001b[39;00m:\n\u001b[0;32m   1317\u001b[0m     \u001b[38;5;28;01mreturn\u001b[39;00m \u001b[38;5;28msuper\u001b[39m()\u001b[38;5;241m.\u001b[39mrecv_into(buffer, nbytes, flags)\n",
      "File \u001b[1;32mc:\\Users\\hazhy\\anaconda3\\Lib\\ssl.py:1167\u001b[0m, in \u001b[0;36mSSLSocket.read\u001b[1;34m(self, len, buffer)\u001b[0m\n\u001b[0;32m   1165\u001b[0m \u001b[38;5;28;01mtry\u001b[39;00m:\n\u001b[0;32m   1166\u001b[0m     \u001b[38;5;28;01mif\u001b[39;00m buffer \u001b[38;5;129;01mis\u001b[39;00m \u001b[38;5;129;01mnot\u001b[39;00m \u001b[38;5;28;01mNone\u001b[39;00m:\n\u001b[1;32m-> 1167\u001b[0m         \u001b[38;5;28;01mreturn\u001b[39;00m \u001b[38;5;28mself\u001b[39m\u001b[38;5;241m.\u001b[39m_sslobj\u001b[38;5;241m.\u001b[39mread(\u001b[38;5;28mlen\u001b[39m, buffer)\n\u001b[0;32m   1168\u001b[0m     \u001b[38;5;28;01melse\u001b[39;00m:\n\u001b[0;32m   1169\u001b[0m         \u001b[38;5;28;01mreturn\u001b[39;00m \u001b[38;5;28mself\u001b[39m\u001b[38;5;241m.\u001b[39m_sslobj\u001b[38;5;241m.\u001b[39mread(\u001b[38;5;28mlen\u001b[39m)\n",
      "\u001b[1;31mKeyboardInterrupt\u001b[0m: "
     ]
    }
   ],
   "source": [
    "scrape_xendan(178139)"
   ]
  },
  {
   "cell_type": "code",
   "execution_count": 99,
   "metadata": {},
   "outputs": [
    {
     "ename": "AttributeError",
     "evalue": "'list' object has no attribute 'shape'",
     "output_type": "error",
     "traceback": [
      "\u001b[1;31m---------------------------------------------------------------------------\u001b[0m",
      "\u001b[1;31mAttributeError\u001b[0m                            Traceback (most recent call last)",
      "Cell \u001b[1;32mIn[99], line 1\u001b[0m\n\u001b[1;32m----> 1\u001b[0m data_list\u001b[38;5;241m.\u001b[39mshape\n",
      "\u001b[1;31mAttributeError\u001b[0m: 'list' object has no attribute 'shape'"
     ]
    }
   ],
   "source": [
    "data_list.shape"
   ]
  },
  {
   "cell_type": "code",
   "execution_count": 103,
   "metadata": {},
   "outputs": [],
   "source": [
    "news_scraper=pd.DataFrame(data_list)"
   ]
  },
  {
   "cell_type": "code",
   "execution_count": 104,
   "metadata": {},
   "outputs": [
    {
     "data": {
      "text/plain": [
       "(4681, 3)"
      ]
     },
     "execution_count": 104,
     "metadata": {},
     "output_type": "execute_result"
    }
   ],
   "source": [
    "news_scraper.shape"
   ]
  },
  {
   "cell_type": "code",
   "execution_count": 105,
   "metadata": {},
   "outputs": [],
   "source": [
    "news_scraper.to_csv('../scrapedData/xendan-3.csv')"
   ]
  },
  {
   "cell_type": "code",
   "execution_count": 25,
   "metadata": {},
   "outputs": [],
   "source": [
    "scc=pd.read_csv('../scrapedData/xendan2.0.csv')"
   ]
  },
  {
   "cell_type": "code",
   "execution_count": 119,
   "metadata": {},
   "outputs": [],
   "source": [
    "img_dumb=[]\n",
    "url=f\"https://www.xendan.org/detailnews/{178140}\"\n",
    "proxied_fetch=f'https://spontaneous-faloodeh-9e9321.netlify.app/?destination={url}'\n",
    "html = urlopen(proxied_fetch)\n",
    "bs = BeautifulSoup(html, 'html.parser')    \n",
    "header_elem = bs.find('div', {'class': \"detail-top\"})\n",
    "article_elem = bs.find('div', {'class': \"detail-big-text-p\"})\n",
    "img_elem=bs.find('div', {'class': \"detail-big-img\"})\n",
    "#print(img_elem.img['src'])\n",
    "if header_elem and article_elem and header_elem.find('h1'):\n",
    "    header = header_elem.find('h1').text.strip()\n",
    "    article = article_elem.text.strip()\n",
    "    image=img_elem.img['src'] if img_elem else \" \"\n",
    "    img_dumb.append({'Header': header, 'Article': article, 'Link': url})\n"
   ]
  },
  {
   "cell_type": "code",
   "execution_count": 115,
   "metadata": {},
   "outputs": [
    {
     "data": {
      "text/plain": [
       "[{'Header': 'ته\\u200cقینه\\u200cوه\\u200cیه\\u200cك له\\u200c كفری رویدا و كه\\u200cسێك گیانی له\\u200cده\\u200cستدا',\n",
       "  'Article': 'خه\\u200cندان-\\n\\nپاشنیوه\\u200cڕۆی ئه\\u200cمڕۆ ته\\u200cقینه\\u200cوه\\u200cیه\\u200cك له\\u200cنزیك نه\\u200cخۆشخانه\\u200cی كفری رویدا و كه\\u200cسێك گیانی له\\u200cده\\u200cستدا، سه\\u200cرچاوه\\u200cیه\\u200cكی ئاگاداریش ده\\u200cڵێت، هێرشه\\u200cكه\\u200c له\\u200c رێگه\\u200cی فڕۆكه\\u200cی بێفڕۆكه\\u200cوانه\\u200cوه\\u200c ئه\\u200cنجامدراوه\\u200c.\\n\\nبه\\u200cگوێره\\u200cی زانیاریه\\u200cكانی خه\\u200cندان، پاشنیوه\\u200cڕۆی ئه\\u200cمڕۆ یه\\u200cكشه\\u200cممه\\u200c ته\\u200cقینه\\u200cوه\\u200cیه\\u200cك له\\u200c نزیك بینایه\\u200cك له\\u200c نزیك نه\\u200cخۆشخانه\\u200cی كفری (ناوبازاڕی كفری) رویداوه\\u200c به\\u200cهۆیه\\u200cوه\\u200c هاوڵاتییه\\u200cك به\\u200cناوی عه\\u200cلی حسێن ناسراو به\\u200c (حسێن عەلوش) كوژراوه\\u200c\".\\nئاگاداركرام كه\\u200c له\\u200c رێگه\\u200cی فڕۆكه\\u200cی بێفڕۆكه\\u200cوانه\\u200cوه\\u200c مامم كراوه\\u200cته\\u200c ئامانج و گیانی له\\u200cده\\u200cستداوه\\u200c\\nبرازایه\\u200cكی عه\\u200cلی حسێن ناسراو به\\u200c (حسێن عەلوش) به\\u200c خه\\u200cندان-ی راگه\\u200cیاند، به\\u200c له\\u200c هێرشه\\u200cكه\\u200c له\\u200cگه\\u200cڵ مامیدا پێكه\\u200cوه\\u200c بون و دوای ئه\\u200cوه\\u200cی نانیان خواردوه\\u200c مامی بەجێهێشتوە، \"دواتر ئاگاداركرام كه\\u200c له\\u200c رێگه\\u200cی فڕۆكه\\u200cی بێفڕۆكه\\u200cوانه\\u200cوه\\u200c مامم كراوه\\u200cته\\u200c ئامانج و گیانی له\\u200cده\\u200cستداوه\\u200c\".\\nئه\\u200cو شوێنه\\u200cی كه\\u200c \"فڕۆكه\\u200cكه\\u200c بۆردومانی كردوه\\u200c\" میوانخانەی هۆزی بەیاد بوه\\u200c\\xa0\\nئه\\u200cو شوێنه\\u200cی كه\\u200c \"فڕۆكه\\u200cكه\\u200c بۆردومانی كردوه\\u200c\" میوانخانەی هۆزی بەیاد بوه\\u200c و حسێن عەلوش سه\\u200cرۆكی هۆزه\\u200cكه\\u200cیه\\u200c و یه\\u200cكێكه\\u200c له\\u200c كه\\u200cسایه\\u200cتییه\\u200c دیاره\\u200cكانی توركمان.\\nشاهێدحاڵه\\u200cكان\\xa0ده\\u200cڵێن\\xa0ده\\u200cنگی ته\\u200cقینه\\u200cوه\\u200cیه\\u200cكی به\\u200cهێز له\\u200cكاتی روداوه\\u200cكه\\u200cدا بیستراوه\\u200c\\xa0\\nشاهێدحاڵه\\u200cكان كه\\u200c له\\u200c شوێنی روداوه\\u200cكه\\u200c بون ده\\u200cڵێن، ده\\u200cنگی ته\\u200cقینه\\u200cوه\\u200cیه\\u200cكی به\\u200cهێز له\\u200cكاتی روداوه\\u200cكه\\u200cدا بیستراوه\\u200c و له\\u200cدوای روداوه\\u200cكه\\u200cش زیانێكی زۆر به\\u200cر نه\\u200cخۆشخانه\\u200c تایبه\\u200cته\\u200cكه\\u200cی ناو بازاڕی كفری گه\\u200cیشتوه\\u200c و هاوكات ته\\u200cنها یه\\u200cك ته\\u200cرمیش له\\u200c شوێنه\\u200cكه\\u200c بینراوه\\u200c.\\n\\nخه\\u200cندان په\\u200cیوه\\u200cندیكرد به\\u200c ده\\u200cزگای ئاسایشی هه\\u200cرێمی كوردستان به\\u200cڵام به\\u200cرپرسێكی ده\\u200cزگاكه\\u200c ده\\u200cڵێت، هێشتا لێكۆڵینه\\u200cوه\\u200c له\\u200c روداوه\\u200cكه\\u200c ده\\u200cكه\\u200cن و دیارنییه\\u200c كه\\u200c چی رویداوه\\u200c.',\n",
       "  'Link': 'https://www.xendan.org/detailnews/178697'}]"
      ]
     },
     "execution_count": 115,
     "metadata": {},
     "output_type": "execute_result"
    }
   ],
   "source": [
    "img_dumb"
   ]
  },
  {
   "cell_type": "code",
   "execution_count": null,
   "metadata": {},
   "outputs": [],
   "source": []
  }
 ],
 "metadata": {
  "kernelspec": {
   "display_name": "base",
   "language": "python",
   "name": "python3"
  },
  "language_info": {
   "codemirror_mode": {
    "name": "ipython",
    "version": 3
   },
   "file_extension": ".py",
   "mimetype": "text/x-python",
   "name": "python",
   "nbconvert_exporter": "python",
   "pygments_lexer": "ipython3",
   "version": "3.11.7"
  }
 },
 "nbformat": 4,
 "nbformat_minor": 2
}
