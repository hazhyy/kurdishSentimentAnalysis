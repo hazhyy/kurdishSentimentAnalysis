{
 "cells": [
  {
   "cell_type": "markdown",
   "metadata": {},
   "source": [
    "# Scraping data from Xendan website"
   ]
  },
  {
   "cell_type": "code",
   "execution_count": 9,
   "metadata": {},
   "outputs": [],
   "source": [
    "from urllib.request import urlopen\n",
    "from bs4 import BeautifulSoup\n",
    "import re\n",
    "import pandas as pd"
   ]
  },
  {
   "cell_type": "code",
   "execution_count": 15,
   "metadata": {},
   "outputs": [
    {
     "name": "stdout",
     "output_type": "stream",
     "text": [
      "https://www.xendan.org/detailnews/178611\n",
      "https://www.xendan.org/detailnews/178610\n",
      "https://www.xendan.org/detailnews/178609\n",
      "https://www.xendan.org/detailnews/178608\n",
      "https://www.xendan.org/detailnews/178606\n",
      "https://www.xendan.org/detailnews/178604\n",
      "https://www.xendan.org/detailnews/178603\n",
      "https://www.xendan.org/detailnews/178602\n",
      "https://www.xendan.org/detailnews/178601\n",
      "https://www.xendan.org/detailnews/178600\n",
      "https://www.xendan.org/detailnews/178013\n",
      "https://www.xendan.org/detailnews/178378\n",
      "https://www.xendan.org/detailnews/178581\n",
      "https://www.xendan.org/detailnews/178573\n",
      "https://www.xendan.org/detailnews/178555\n",
      "https://www.xendan.org/detailnews/178546\n",
      "https://www.xendan.org/detailnews/178071\n",
      "https://www.xendan.org/detailnews/178258\n",
      "https://www.xendan.org/detailnews/178596\n",
      "https://www.xendan.org/detailnews/178595\n",
      "https://www.xendan.org/detailnews/178577\n",
      "https://www.xendan.org/detailnews/178570\n",
      "https://www.xendan.org/detailnews/178567\n",
      "https://www.xendan.org/detailnews/177037\n",
      "https://www.xendan.org/detailnews/178117\n",
      "https://www.xendan.org/detailnews/178558\n",
      "https://www.xendan.org/detailnews/178547\n",
      "https://www.xendan.org/detailnews/178529\n",
      "https://www.xendan.org/detailnews/178408\n",
      "https://www.xendan.org/detailnews/178309\n",
      "https://www.xendan.org/detailnews/178539\n",
      "https://www.xendan.org/detailnews/178527\n",
      "https://www.xendan.org/detailnews/178491\n",
      "https://www.xendan.org/detailnews/178481\n",
      "https://www.xendan.org/detailnews/178487\n",
      "https://www.xendan.org/detailnews/178484\n",
      "https://www.xendan.org/detailnews/178412\n",
      "https://www.xendan.org/detailnews/178594\n",
      "https://www.xendan.org/detailnews/178580\n",
      "https://www.xendan.org/detailnews/178579\n",
      "https://www.xendan.org/detailnews/178360\n",
      "https://www.xendan.org/detailnews/178320\n",
      "https://www.xendan.org/detailnews/178269\n",
      "https://www.xendan.org/detailnews/178598\n"
     ]
    }
   ],
   "source": [
    "data_list=[]\n",
    "pages=set()\n",
    "def getLinks(pageUrl):\n",
    "    html = urlopen(f'https://beenproxies.netlify.app/?destination={pageUrl}')\n",
    "    bs = BeautifulSoup(html, 'html.parser')\n",
    "\n",
    "    header=bs.find('div',{'class':\"detail-top\"}).find('h1').text.strip()\n",
    "    article=bs.find('div',{'class':\"detail-big-text-p\"}).text.strip()\n",
    "    data_list.append({'Header':header,'Article':article,'Link':pageUrl})\n",
    "    for link in bs.find_all('a', href=re.compile(r'https://www\\.(xendan\\.org/detailnews/\\d+|nrttv\\.com/.*)')):\n",
    "     if 'href' in link.attrs:\n",
    "        if link.attrs['href'] not in pages:\n",
    "            #We have encountered a new page\n",
    "             newPage = link.attrs['href']\n",
    "             print(newPage)\n",
    "             pages.add(newPage)\n",
    "             getLinks(newPage)\n",
    "getLinks('https://www.xendan.org/detailnews/178566')"
   ]
  },
  {
   "cell_type": "code",
   "execution_count": 13,
   "metadata": {},
   "outputs": [],
   "source": [
    "\n",
    "data_list=[]\n",
    "pages=set()\n",
    "def getLinks(pageUrl):\n",
    "    html = urlopen(pageUrl)\n",
    "    bs = BeautifulSoup(html, 'html.parser')\n",
    "\n",
    "    header=bs.find('div',{'class':\"detail\"}).find('a').text.strip()\n",
    "    article=bs.find('section',{'class':\"container\"}).text.strip()\n",
    "    data_list.append({'Header':header,'Article':article,'Link':pageUrl})\n",
    "    for link in bs.find_all('a', href=re.compile(r'https://www\\.nrttv\\.com/detail/\\d+'or r'https://www\\.nrttv\\.com/.*')):\n",
    "     if 'href' in link.attrs:\n",
    "        if link.attrs['href'] not in pages:\n",
    "            #We have encountered a new page\n",
    "             newPage = link.attrs['href']\n",
    "             print(newPage)\n",
    "             pages.add(newPage)\n",
    "             getLinks(newPage)\n",
    "getLinks('https://nrttv.com/detail/35548')"
   ]
  },
  {
   "cell_type": "code",
   "execution_count": 7,
   "metadata": {},
   "outputs": [
    {
     "data": {
      "text/plain": [
       "[{'Header': 'رێباز حەملان: هەفتەی داهاتوو تەواوکاری لیستی مووچەی مانگی دوو بڵاو دەکرێتەوە',\n",
       "  'Article': 'سەرەکی\\nدەربارە\\nپەیوەندی\\nئەرشیف\\n\\n\\n\\n\\n\\n\\n\\nV:11636  - 27500 \\xa0\\n\\nپەخشی ڕاستەوخۆ\\n\\n\\n\\n\\n\\n\\n\\n\\n\\n\\n\\n\\n\\n\\n\\n\\n\\n\\n\\n\\n\\n\\nگەڕان لە ماڵپەڕی NRT\\n\\n×\\n\\n\\n\\n\\n\\n\\n\\n\\n\\n\\n\\n\\n\\n\\n\\n\\n\\n\\n\\n\\n\\nMENU\\n\\n\\nکوردی\\n\\n\\nBack\\n\\nسۆرانی\\nبادینی\\nلاتینی\\n\\n\\nEnglish\\nعربي\\n\\n\\n\\n\\n\\n\\n\\n\\n\\n\\n\\n\\n\\n\\n\\n\\xa0\\xa0سەرەکی\\nهەواڵ \\xa0\\n\\n\\xa0\\xa0سیاسیی  \\n\\n\\xa0کوردستان\\n\\xa0عێراق\\n\\xa0خۆرھەڵاتی ناوەڕاست\\n\\xa0جیھان\\n\\n\\n\\xa0\\xa0ئابوریی\\n\\xa0\\xa0کۆمەڵایەتیی\\n\\xa0\\xa0کولتوریی\\n\\xa0\\xa0زانستیی\\n\\xa0\\xa0تەکنەلۆژیی\\n\\xa0\\xa0جۆراوجۆر\\n\\n\\nڕاپۆرت\\xa0\\n\\n\\xa0\\xa0کوردستانیی  \\n\\xa0\\xa0عێراقیی\\n\\xa0\\xa0هەرێمیی\\n\\xa0\\xa0نێودەوڵەتیی\\n\\n\\nشیکردنەوە\\xa0\\n\\n\\xa0\\xa0کوردستانیی  \\n\\xa0\\xa0عێراقیی\\n\\xa0\\xa0هەرێمیی\\n\\xa0\\xa0نێودەوڵەتیی\\n\\n\\nبیروڕا\\nبەرنامەکان\\nگەلەری \\xa0\\n\\n\\xa0\\xa0وێنە  \\n\\xa0\\xa0ڤیدیۆ\\n\\n\\nوەرزش\\nئێن ئاڕ تی دوو\\nوێب تی ڤی\\xa0\\n\\n\\xa0\\xa0XYZ  \\n\\xa0\\xa0XYZ+\\n\\xa0\\xa0فیچەر\\n\\n\\nسەنتەری پەیوەندییەکان\\n\\n\\n\\n\\n\\n\\n\\n\\n\\n\\n\\n\\n\\n\\n\\n\\n\\n\\n\\n\\n\\n\\n\\n\\n\\n\\n\\nسەرەکی\\n\\nهەواڵ\\n\\n\\xa0\\xa0کوردستانیی  \\n\\xa0\\xa0عێراقیی\\n\\xa0\\xa0خۆرهەڵاتی ناوەڕاست\\n\\xa0\\xa0جیهان\\n\\n\\n\\nراپۆرت\\n\\n\\xa0\\xa0کوردستانیی  \\n\\xa0\\xa0عێراقیی\\n\\xa0\\xa0هەرێمیی\\n\\xa0\\xa0نێودەوڵەتیی\\n\\n\\nشیکردنەوە\\n\\n\\xa0\\xa0کوردستانیی  \\n\\xa0\\xa0عێراقیی\\n\\xa0\\xa0هەرێمیی\\n\\xa0\\xa0نێودەوڵەتیی\\n\\n\\nئابوریی\\nکۆمەڵایەتی\\nکلتوری\\nزانستی\\nتەکنەلۆژیا\\nجۆراوجۆر\\nبەرنامەکان\\nبیروڕا\\nوێب تی ڤی\\n\\n\\xa0\\xa0XYZ  \\n\\xa0\\xa0XYZ Clinic\\n\\n\\xa0\\xa0تراویلکە\\n\\xa0\\xa0٣٧ پلە\\n\\xa0\\xa0NRT Pedia \\n\\xa0\\xa0فیچەر\\n\\n\\nسەنتەری پەیوەندییەکان\\n\\n\\xa0\\xa0وێب  \\n\\xa0\\xa0فەیسبووک\\n\\xa0\\xa0تویتەر\\n\\n\\nگەلەری\\n\\n\\xa0\\xa0وێنە  \\n\\xa0\\xa0ڤیدیۆ\\n\\n\\n\\n\\n\\nبادینی\\nعربي\\nEnglish\\nNRT2\\nSport\\n\\n\\n\\n\\n\\n\\n\\n\\n\\n\\n\\n\\n\\nسەردێڕ:\\n\\n\\n\\nرێباز حەملان: هەفتەی داهاتوو تەواوکاری لیستی مووچەی مانگی دوو بڵاو دەکرێتەوە\\r\\n\\r\\n\\nدوایین ئاماری گیانلەدەستدان و برینداربوون لە کەرتی غەززە\\r\\n\\r\\n\\nروونکردنەوەی وەزارەتی دارایی لەسەر مووچەی ئەو شوێنانەی ناویان لە لیستی مووچەدا نییە \\r\\n\\r\\n\\nنوێترین زانیاری لەسەر مووچەی هێزە ئەمنییەکان و هۆکاری دابەش نەکردنی\\r\\n\\r\\n\\nلە مانگی رەمەزاندا چ کاتێک گونجاوە بۆ خواردنی شیرینی؟\\r\\n\\nلەسەر پرسی هەڵبژاردن؛ باڵیۆزی بەریتانیا لە عێراق سەردانی شاسوار عەبدولواحیدی کرد\\r\\n\\r\\n\\nئەو وەزارەت و بەڕێوەبەرایەتییانەی ناویان لە لیستی مووچەی مانگی دوودا نییە\\r\\n\\r\\n\\nلیستی مووچەی مانگی دوو راگەیەنرا\\r\\n\\r\\n\\nپێشمەرگەیەک: سەرباری خراپی دۆخی تەندروستیم ناچاریان کردووم دەوام بکەم\\r\\n\\r\\n\\nلە ٢٠١٧ـەوە؛ عێراق بە بەهای ١٥ ملیار دۆلار غازی لە ئێرانەوە هاوردە کردووە\\r\\n\\r\\n\\n\\n\\n\\n\\n\\n\\n\\n\\n\\n\\n\\n\\n\\n\\nرێباز حەملان: هەفتەی داهاتوو تەواوکاری لیستی مووچەی مانگی دوو بڵاو دەکرێتەوە\\r\\n\\r\\n\\n\\n\\n\\n\\n\\n\\n\\n\\nPM:09:42:28/03/2024 \\n\\n  160 جار خوێندراوەتەوە\\r\\n\\r\\n  \\n\\n\\n\\n\\nیاریدەدەری سەرۆکی حکومەتی کاربەڕێکەری هەرێم بە ئێن ئاڕ تی راگەیاند، هەفتەی داهاتوو تەواوکاری لیستی مووچەی مانگی دوو بڵاو دەکرێتەوە. دەشڵێت،\" پارەی مووچەی مانگی سێش هاوشێوەی مانگەکانی پێشوو لە بەغداوە دابیندەکرێت بە شێوەی گوژمی پارە\".\\r\\n\\r\\n\\n\\n\\n\\n\\n\\n\\n\\n\\n\\nکۆبوونەوەی حکومەتی کاربەڕێکەر کۆتایی هات؛ سبەی دەست بە دابەشکردنی مووچە دەکرێت؟\\r\\n\\r\\n\\n\\n\\n\\n\\n\\n\\n\\n رێباز حەملان یاریدەدەری سەرۆکی حکومەتی کاربەڕێکەر لە پڕۆگرامی تاوتوێی ئێن ئاڕ تی رایگەیاند، بەهۆی ئەوەی بەغدا پارەی هێزە ئەمنییەکان و هێزەکانی پێشمەرگەی نەنارد، دابەشکردنی مووچەی مانگی دوو دواکەوت.\\r\\n\\r\\n\\r\\n \\n\\n\\n\\n\\nروونکردنەوەی وەزارەتی دارایی لەسەر مووچەی ئەو شوێنانەی ناویان لە لیستی مووچەدا نییە \\r\\n\\r\\n\\n\\n\\n\\n\\nئاماژەی\\r\\nبەوەش کرد، هەفتەی داهاتوو تەواوکاری لیستی مووچەی مانگی دوو بڵاو دەکرێتەوە و لیستی\\r\\nناوی هەموو ئەو وەزارەت و بەڕێوەبەرایەتییانە بڵاو دەکرێتەوە کە ناویان لەم لیستەدا\\r\\nنەبوو کە ئەمڕۆ بڵاوکرایەوە.\\n\\nئەوەشی\\r\\nخستووەتە روو، هەرێم و بەغدا بەدوای دەرچەیەکدا دەگەڕێن بۆ ئەوەی کێشەی مووچەی\\r\\nمووچەخۆرانی هەرێم چارەسەر بکەن.\\xa0وتیشی،\"\\r\\nبڕیاری بە نیشتیمانی کردنی مووچەی فەرمانبەرانی هەرێم بە مانگێک تەواو نابێت\".\\nباسی لەوەش\\r\\nکرد، ماوەی سێ ساڵە لەگەڵ بەغدا لەسەر هێڵن بۆ کردنەوەی بانکێکی فیدڕاڵی لە هەرێم.\\nرێباز حەملان\\r\\nئەوەشی خستە روو، داهاتی ناوخۆی هەرێم مانگانە ٣٠٠ بۆ ٣٢٠ ملیار دینارە و زۆرینەی لە خەرجی\\r\\nبەکاربردن بەکار دەهێنرێتەوە.\\nباسی لەوەش\\r\\nکرد، هەژماری من پڕۆژەیەکی ستراتیژی حکومەتی هەرێمە و بە بڕیاری هەموو لایەنەکانی\\r\\nئەنجوومەنی وەزیرانی هەرێم بووە. \\nراشیگەیاند،\\r\\nمووچەی مانگی سێش هاوشێوەی مانگەکانی پێشوو لەلایەن بەغداوە دابین دەکرێت لە رێگەی\\r\\nناردنی گوژمی پارەوە بۆ هەرێم تا ئەو کاتەی پڕۆسەی بەنیشتیمانی کردنی مووچە و هەژماری\\r\\nمن یەکلایی دەکرێنەوە. \\n\\n\\n\\n\\n\\n\\n\\n\\n\\n \\n\\n\\n \\n\\n\\n\\n \\n\\n\\n\\n\\n\\n\\n\\nبیروڕا\\n\\n\\n\\n\\nمووچەخۆران بۆ متمانەیان بە هەژماری من نیە؟\\r\\n\\r\\n\\nبەختیار ئەمین\\n\\n\\n\\n\\nسەبارەت بە دادگای فیدراڵی\\r\\n\\r\\n\\nهێمن هەورامی\\n\\n\\n\\n\\nبیكەن دەدۆڕێن و نەیكەن دەڕوخێن!\\r\\n\\r\\n\\nشێرزاد فەتاح رەسول\\n\\n\\n\\n\\n\\n بۆ بیروڕای زیاتر کلیک بکە\\n\\n\\n\\n\\n\\n\\n\\n\\nزۆرترین خوێندراو\\n\\n\\n\\n\\n\\n\\n\\n\\n\\nکۆبوونەوەی حکومەتی کاربەڕێکەر کۆتایی هات؛ سبەی دەست بە دابەشکردنی مووچە دەکرێت؟\\r\\n\\r\\n\\n\\n\\n\\n\\n\\n\\n\\nزانیاری نوێ لەبارەی لیستی مووچەی مانگی دوو\\n\\n\\n\\n\\n\\n\\n\\nدەست بە دابەشکردنی مووچەی مانگی شووبات دەکرێت\\r\\n\\r\\n\\n\\n\\n\\n\\n\\n\\n\\nئەو وەزارەت و بەڕێوەبەرایەتییانەی ناویان لە لیستی مووچەی مانگی دوودا نییە\\r\\n\\r\\n\\n\\n\\n\\n\\n\\n\\n\\nلە کاتی داخستنی بازاڕەکاندا؛ نرخی دۆلار دابەزی\\r\\n\\r\\n\\n\\n\\n\\n\\n\\n\\n\\n\\n\\n\\n\\n\\n\\n\\nپشووی جەژنی رەمەزان دیاری کرا\\r\\n\\r\\n\\n\\n\\n\\n\\n\\n\\n\\nبەهۆی بارانبارینەوە؛ پشووی فەرمی  راگەیەندرا\\r\\n\\r\\n\\n\\n\\n\\n\\n\\n\\n\\nکۆبوونەوەی حکومەتی کاربەڕێکەر کۆتایی هات؛ سبەی دەست بە دابەشکردنی مووچە دەکرێت؟\\r\\n\\r\\n\\n\\n\\n\\n\\n\\n\\n\\nدامەزراندن لە هەموو وەزارەتەکانی حکومەت و کەرتی گشتی بۆ ئەم دوو چینە راگەیەندرا\\r\\n\\r\\n\\n\\n\\n\\n\\n\\n\\n\\nسبەی بەهۆی باران بارینەوە لە سلێمانی پشوو رادەگەیەنرێت؟\\n\\n\\n\\n\\n\\n\\n\\n\\n\\n\\n\\n\\n\\n\\nپشووی جەژنی رەمەزان دیاری کرا\\r\\n\\r\\n\\n\\n\\n\\n\\n\\n\\n\\nوادەی دابەشکردنی مووچە ئاشکرا کرا\\r\\n\\r\\n\\n\\n\\n\\n\\n\\n\\n\\nبەهۆی بارانبارینەوە؛ پشووی فەرمی  راگەیەندرا\\r\\n\\r\\n\\n\\n\\n\\n\\n\\n\\n\\nدیوانی وەقفی سوننی عێراق یەکەم رۆژی مانگی رەمەزانی دیاری کرد\\r\\n\\r\\n\\n\\n\\n\\n\\n\\n\\n\\nکۆبوونەوەی حکومەتی کاربەڕێکەر کۆتایی هات؛ سبەی دەست بە دابەشکردنی مووچە دەکرێت؟\\r\\n\\r\\n\\n\\n\\n\\n\\n\\n\\n\\n\\n\\n\\n\\n\\n\\n\\n\\n\\n\\n\\n\\n\\n\\n\\n\\n\\n\\n\\n\\n\\n\\n\\n\\nسەنتەری پەیوەندییەکان - NCC\\n\\n\\n\\n\\n\\n\\n\\n\\n\\n\\n\\n\\n\\nگەلەری',\n",
       "  'Link': 'https://nrttv.com/detail/35548'}]"
      ]
     },
     "execution_count": 7,
     "metadata": {},
     "output_type": "execute_result"
    }
   ],
   "source": [
    "data_list"
   ]
  },
  {
   "cell_type": "code",
   "execution_count": 12,
   "metadata": {},
   "outputs": [],
   "source": [
    "scraped_data=pd.DataFrame(data_list)"
   ]
  },
  {
   "cell_type": "code",
   "execution_count": 80,
   "metadata": {},
   "outputs": [
    {
     "data": {
      "text/plain": [
       "(42, 3)"
      ]
     },
     "execution_count": 80,
     "metadata": {},
     "output_type": "execute_result"
    }
   ],
   "source": [
    "scraped_data.shape"
   ]
  },
  {
   "cell_type": "code",
   "execution_count": 81,
   "metadata": {},
   "outputs": [],
   "source": [
    "scraped_data.to_csv('../scrapedData/xendan.csv')"
   ]
  }
 ],
 "metadata": {
  "kernelspec": {
   "display_name": "base",
   "language": "python",
   "name": "python3"
  },
  "language_info": {
   "codemirror_mode": {
    "name": "ipython",
    "version": 3
   },
   "file_extension": ".py",
   "mimetype": "text/x-python",
   "name": "python",
   "nbconvert_exporter": "python",
   "pygments_lexer": "ipython3",
   "version": "3.11.7"
  }
 },
 "nbformat": 4,
 "nbformat_minor": 2
}
