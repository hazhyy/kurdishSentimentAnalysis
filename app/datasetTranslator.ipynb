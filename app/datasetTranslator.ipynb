{
 "cells": [
  {
   "cell_type": "markdown",
   "metadata": {},
   "source": [
    "## Translating Reviews in the dataset"
   ]
  },
  {
   "cell_type": "code",
   "execution_count": 1,
   "metadata": {},
   "outputs": [],
   "source": [
    "from mtranslate import translate\n",
    "import pandas as pd\n",
    "from tqdm.notebook import tqdm"
   ]
  },
  {
   "cell_type": "code",
   "execution_count": 2,
   "metadata": {},
   "outputs": [
    {
     "data": {
      "text/plain": [
       "'تۆ چۆنی؟'"
      ]
     },
     "execution_count": 2,
     "metadata": {},
     "output_type": "execute_result"
    }
   ],
   "source": [
    "translate(\"hey how are you\",to_language='ckb')"
   ]
  },
  {
   "cell_type": "code",
   "execution_count": 5,
   "metadata": {},
   "outputs": [],
   "source": [
    "partial_save_amount=1001\n",
    "def dataset_translator(df):\n",
    "    res={}\n",
    "    count=0\n",
    "    for i, row in tqdm(df.iterrows(),total=len(df)):\n",
    "        count+=1\n",
    "        if (count>=partial_save_amount):\n",
    "            results=pd.DataFrame.from_dict(res,orient='index')\n",
    "            results=results.reset_index().rename(columns={'index':'Id'})\n",
    "            results=results.merge(df.iloc[:len(res)],how='right')\n",
    "            results=results.rename(columns={0:'KurdishText'})\n",
    "            results.to_csv(f'../data/auto_saves/kurdish-trans-auto-{len(res)}.csv',index=False)\n",
    "            print(f'saved at {len(res)}')\n",
    "            count=0\n",
    "        try:\n",
    "            text=row['Text']\n",
    "            myid=row['Id']\n",
    "            res[myid]=translate(text,to_language='ckb')\n",
    "        except:\n",
    "            print(f'error in {myid} text: {text}')\n",
    "            continue\n",
    "\n",
    "    \n",
    "  \n",
    "        \n",
    "    return results\n"
   ]
  },
  {
   "cell_type": "code",
   "execution_count": 6,
   "metadata": {},
   "outputs": [],
   "source": [
    "def dataset_summary_translator(df):\n",
    "    res={}\n",
    "    try:\n",
    "        for i, row in tqdm(df.iterrows(),total=len(df)):\n",
    "            text=row['Summary']\n",
    "            myid=row['Id']\n",
    "            res[myid]=translate(text,to_language='ckb')\n",
    "    except:\n",
    "        print(f'error in {myid}')\n",
    "\n",
    "    results=pd.DataFrame.from_dict(res,orient='index')\n",
    "    results=results.reset_index().rename(columns={'index':'Id'})\n",
    "    results=results.merge(df,how='right')\n",
    "    results=results.rename(columns={0:'KurdishSummary'})\n",
    "    return results"
   ]
  },
  {
   "cell_type": "code",
   "execution_count": 7,
   "metadata": {},
   "outputs": [],
   "source": [
    "df=pd.read_csv('../data/Reviews.csv')\n",
    "df=df.iloc[43249:]"
   ]
  },
  {
   "cell_type": "code",
   "execution_count": 8,
   "metadata": {},
   "outputs": [
    {
     "data": {
      "application/vnd.jupyter.widget-view+json": {
       "model_id": "cc035f351cba4561b213d09c9c861bc0",
       "version_major": 2,
       "version_minor": 0
      },
      "text/plain": [
       "  0%|          | 0/525205 [00:00<?, ?it/s]"
      ]
     },
     "metadata": {},
     "output_type": "display_data"
    },
    {
     "name": "stdout",
     "output_type": "stream",
     "text": [
      "saved at 1000\n",
      "saved at 2001\n",
      "saved at 3002\n",
      "saved at 4003\n",
      "saved at 5004\n",
      "saved at 6005\n",
      "saved at 7006\n",
      "saved at 8007\n",
      "saved at 9008\n",
      "saved at 10009\n",
      "saved at 11010\n",
      "saved at 12011\n",
      "saved at 13012\n",
      "saved at 14013\n",
      "saved at 15014\n",
      "saved at 16015\n",
      "saved at 17016\n",
      "saved at 18017\n",
      "saved at 19018\n",
      "saved at 20019\n",
      "saved at 21020\n",
      "saved at 22021\n",
      "saved at 23022\n",
      "saved at 24023\n",
      "saved at 25024\n",
      "error in 68701 text: *********************************************************<br /> UPDATE:  READ THE UPDATE BELOW FIRST. Thanks. (June 15 and August 3, 2012)<br />*********************************************************<br />  I WAS, BUT NO MORE (actively anyway). We have four cats: two (\"normals\") who eat about anything, one with kidney disease (CRF/CKD) and accompanying reduced appetite, and one that has picky (and weird) tastes.  In the process of trying to find an appetite stimulant for the mom-cat (with CRF/CKD) I tried out several products on her and the others (the kids) as well.<br />Here are the results of this less than scientific (or definitive) survey:<br /><br />  Drs.Foster&Smith Shrimp Snappies Treats (ground to powder)-----------ALL REFUSED.<br />  Freeze-dried powders (Prowl and Ziwi Peak)----------------------------NO EFFECT. All but one (Ms. Picky) ate them.<br />  Seafood juices (tuna, oyster, sardine, etc.)-----------------------------NO EFFECT. All but (same) one ate them.<br />  Dry (ground to powder) cat food (Halo, EVO, Blue Fuffalo, etc.)---------NO EFFECT. Ditto acceptance.<br />  Canned cat food (gourmet brands & renal diets)------------------------Ditto.<br />  Hairball tube lubes (usual suspects & Cat Grass)------------------------Ditto.<br />  Mark&Chappells De Furr-ums treats------------------------------------Ditto.<br />  Calming chews & liquid (Pet Naturals)----------------------------------Ditto (except Ms. Picky accepted)<br />  Brewer's yeast(powder)-----------------------------------------------Dulled all appetites a bit; all accepted<br />  Barley Cat (GreenFoods; powder)--------------------------------------EFFECTIVE on mom-cat; others liked except...<br />Drs.Foster&Smith Tuna Treats (ground to powder)----------------------EFFECTIVE on mom-cat;  all others liked<br />  Bonito Sprinkles (Cat-Man-Doo)----------------------------------------EVEN MORE EFFECTIVE; ditto<br />  8in1 Dingo Anchovy Fillets (ground to powder)--------------------------Ditto (effect & acceptance)<br />  Tropical Fish Food (Sergeants Atlantis)---------------------------------Ditto (except Ms Picky liked; 2 normals NOT)<br />  Purina Whisker Lickins Tender Moments (Chicken flavor)-----------------BEST (effect & acceptance)<br />  Whiskas Temptations Treats (crumbled by hand)------------------------BEST (effect & acceptance)<br /><br />Most of the products were accepted by most of our cats but their appetites were not helped noticeably until I found the last seven: Barley Cat (separate review), Drs.F&S Tuna Treats, Cat-Man-Doo Bonito Sprinkles (reviewed here), 8in1 Dingo Anchovy Fillets, tropical fish food (I did not test the \"regular\" or \"beta\" but ingredients were similar and loaded with fillers and dyes; no reason to suspect that the brand is critical), Purina Whisker Lickins Tender Moments and Whiskas Temptations Treats (only \"regular\" Salmon and Chicken flavors tested). Only the Whiskas  Temptations were effective to the point of bringing all our cats' appetites back to the \"relish\" or \"enthusiastic\" stage. None of the products were \"perfect\": most lacking in some degree of effectiveness or acceptance and the regular Whiskas Temptations (?the \"natural\" versions?) lacking in quality ingredients and difficult to crush by hand. I have avoided brands like Whiskas for years on nutritional and ethical grounds but I will reluctantly use them in a flavor enchancer role until I find a more suitable alternative. Three of our four cats had weird responses to the tropical fish flakes: our two \"normals\" were absolutely repulsed and our Ms Picky licked her bowl clean.  Go figure.<br /><br />The Cat-Man-Doo (CMD) \"sprinkles\" I bought from HealthyPets.com for just a bit less than the price on Amazon. These are the only dehydrated bonito in \"sprinkles\" form (there is a TUNA DASH product out there but more expensive) that I could find. Other bonito products typically are  large flakes and more expensive. Although the CMD product comes in a shaker jar it is not a \"sprinkles\"  form like salt or pepper and does not shake out as easily or evenly; the \"sprinkles\" are still flakes, just a lot smaller. If you decide to further reduce the size of any of the products it is not necessary to pulverize them to a fine powder.  Generally they come out of a shaker container a little more uniformly if left slightly course. The Whiskas  treats, because of their soft center, are best crumbled by hand.  The Whiskas  products present the best value: about 300 servings for about $1.80 on sale at PetCo (and a bit less at Walmart). Purina Whisker Lickens come in several flavor varieties and, though equally effective, contain about 150 servings and are more expensive even on Amazons best terms (multi-pack and free shipping). Purina WL (3 oz) would have to sell for under $1 per pack off the shelf or with free shipping to be competitive. I found several of the products (DrsF&S, 8in1, Sergeants, Purina WL, and Whiskas) at a discount store (BigLots). Among the dried fish products, the CMD sprinkles do offer good value: about $2.80 per ounce (before shipping, taxes) and provide so many servings that I could not attempt to count or even estimate. If your pet gets turned on by CMD then, because of the prodigious number of servings, the CMD could be the better value. A word of caution on the CMD quantity: The listings and ads stated that the sprinkles jar contains 8 oz. NOT TRUE.  The company used a fluid ounce (volume) measure rather than a weight measure for this particular product.  The sprinkles jar contains at least 2 1/2 oz by weight. Even so, the price still beats other brands of bonito (and tuna) products that I ran across.  Credit to the company, however, since they packed the jar about as full as possible and they responded positively to my complaint about the choice of measures and confirmed that the labels, ads, and other marketing materials will be changed ASAP to state the 2 1/2 oz weight measure. Will they pack the jar as tight?  Cat-Man-Doo also is introducing a chicken sprinkles product (2 oz size).  I wonder: would our Ms. Picky take to that?<br /><br />CONCLUSION: Effective appetite enhancers are out there and probably one that matches the pickiest/weirdest of tastes.  The problem, as I discovered, is finding it.  As far as I can tell, there is no logic, no rhyme, no reason to use as a guide. Individual differences among cats seems to be the norm and consistency of preferences does not appear to be of any evolutionary value. Cases in point: our Ms. Picky.  She does not like flavors OF meat and fish  but loved the food flakes FOR fish; our \"normals\", who rarely refuse anything, were sorely offended by the same offering.  Personally, we now have reasonably priced go-to flavor enhancers for all our cats (Whiskas Temptations) and  back ups (Cat-Man-Doo Sprinkles) for all as well, even Ms Picky.<br /><br />SIDE NOTE: I powdered and combined the 8in1 Dingo anchovy product and the Cat-Man-Doo sprinkles, which suggests that other closely effective products may be mixed successfully. I did it just to use down the anchovies since they are relatively expensive and I probably would not purchase them at full retail price.<br /><br />So until their tastes change (again) we are no longer actively searching for appetite boosters.  Hope this review helps (with products or ideas) ANYONE ELSE (even dog companions) WHO IS STILL SEARCHING FOR A PET APPETITE ENHANCER.<br /><br />  ****************************<br /><br />UPDATE: AND THEIR TASTES DID CHANGE--REPEATEDLY. AND I ACQUIRED A WHOLE NEW PERSPECTIVE after trying over four dozen flavor additives over the past year. There are two approaches to re-stimulating pet appetites; ON food or IN the pet; that is, from the outside in or the inside out. I WAS TAKING THE WRONG APPROACH, assuming that all I had to do was find the right product to add to my cats' food and Valla!, problem solved! The following are my personal conclusions after many months and conversations with several vets:<br />  1) Diminished appetite may be difficult to distinguish from strong preferences (picky-picky) and preference changes.<br />  2) Normally healthy pets experience swings in appetite (like, seasonal or during hairball buildup) and do not need extra appetite stimulants or treats (although you would never guess that from the explosion of treats on pet food aisles). Even pets that play or perform only expect approval, attention and affection. Everyday pet feed should provide an adequate level of sensory interest.  If not, then find an appropriate formula (or mix of brands and wet/dry) that does. Affordability may be an issue but \"treats\" are not cheap and I have not done the math to get a fix on the  pricepoint at which treats would become more expensive. In any event, off-the-shelf enhancers/treats may have a role in case of genetic or age-related sensory loss, as a short-term aid, as a palliative after a rough experience/day, or as a \"last resort\".<br />  3) Pets with known or suspected medical issues may need the inside-out approach. Additive appetite enhancers may not be much help if the reduction in appetite is due to a medical case. The short term benefit from (even the best) appetite additives (anywhere from one meal to several months), may be long enough to keep them going while the underlying medical issues and related appetite symptoms are resolved (or not). Some inside-out Rx appetite enhancers also may only work short-term (maybe up to 6 weeks); others may work if administered continually; the best (but not typical) outcome would be a jumpstart of the pet's natural appetite.<br />  4) Pets on a special diet (like calorie restriction or Rx) have fewer choices of feed and MAY benefit from added (outside-in) appetite enhancers to even the most palatable available special diet formulas. Expect short term results and anticipate having to cycle through various enhancer products frequently.<br />  5) One reason for the loss of \"magic\" of appetite enhancers is pet intelligence:  they may eventually figure out that they can \"cherry pick\" the tasty additive and leave the relatively unappetizing food; or \"wait out\" your first offering in anticipation of tastier follow-up offerings. BUT the flavor additives work better as sprinkles and tend to lose their magic if mixed in with the food.  I found this to be the case even if I \"marianated\" their regular food with the flavor enhancer in water prior to meals.<br />  6) I have used the phrases \"flavor enhancer\" and \"appetite stimulant\" interchangeably. There probably is a substantive difference but my interest was the end result (a hearty interest in meals and increased consumption).<br /><br />For those readers who are interested in further lists of products I have tried, I set out the items I have researched/used since the last report. They are organized a little differently, hopefully in a more useful fashion.  Besides the specific items, you may find the list helpful in generating further ideas to experiment with.  Unless noted otherwise, the off-the -shelf products were crumbled or pulverized if not already in powder form. Prior consultation with your vet would be advisable if not required, for the INSIDE-OUT types and may prove helpful  before venturing even into the realm of off-the-shelf and DIY flavor enhancers.<br /><br />THE INSIDE-OUT TYPES  (do not depend on the senses but work internally, if at all, to stimulate appetite):<br /><br />  Vitamin B-12 ^^^^^^^^^^^^^^^^ Dexamethasone (Rx injectable steriod)<br />  Pro-biotics ^^^^^^^^^^^^^^^^^ Depo-Medrol (Rx injectable anti-inflammatory )<br />  Pre-biotics ^^^^^^^^^^^^^^^^^ Mirtazipine  (Rx anti-depressant pills)<br />  Exercise ^^^^^^^^^^^^^^^^^^ Cyproheptadine (Rx anti-histamine/serotonin pills and  compounded liquid)<br />  Charcoal (medical/food grades) ^^^^ Cerenia (Rx anti-nausia/inflammatory pill)<br />  Pepcid AC ^^^^^^^^^^^^^^^^^ Zantac<br />  Oral Electrolytes (Non-Rx fluids like: Pedialyte, Caravet, Ions, Pets&Vets, and DIY recipes)<br />  Rx injectable Electrolytes (\"Sub-Q\" fluids)<br />  Rx Oral Electrolytes (like: Rebound OES)<br /><br />THE OUTSIDE-IN TYPES  (depend mainly on the senses of smell/taste to get the attention of the appetite):<br /><br />  Hills Science Diet AD (Rx) ^^^^^^^^^^^^^^^^^Pet Vitamins  (Sargeants)<br />  Dental gel ^^^^^^^^^^^^^^^^^^^^^^^^^^Liver (raw, sauteed; chicken & beef)<br />  Garmon VetClassics Cranberry chews (crumbled)^^^^Liver (human-grade dessicated/dehydrated; capsules/powdered)<br />  Cranberry (liquid)^^^^^^^^^^^^^^^^^^^^^^Hairball \"treats\"<br />  Beefeaters Cod (freeze dried puffs)^^^^^^^^^^^Milk<br />  Cat Milk (Whiskas) ^^^^^^^^^^^^^^^^^^^^^Chicken (freeze dried puffs)<br />  Clinicare RF ^^^^^^^^^^^^^^^^^^^^^^^^^Canned pet food (regular & Rx; seared/browned; crumbled)<br />  Lactulose (Foster & Smith)^^^^^^^^^^^^^^^^Boutique canned food (like Fancy Feast)<br />  Spirulina (St. Jon Naturals)^^^^^^^^^^^^^^^^Vienna Sausage(chicken; meat & broth)<br />  Vita Gravy ^^^^^^^^^^^^^^^^^^^^^^^^^^Pet Naturals Calming Chews, tabs, liquid<br />  Friskies Crispies ^^^^^^^^^^^^^^^^^^^^^^^Mars Crave treats<br />  Pounce treats ^^^^^^^^^^^^^^^^^^^^^^^^JRBFoods Catty Shack treats (Walmart)<br />  \"Super\" Reds/Greens (human) powder ^^^^^^^^^^Bench & Field treats<br />  Other petmates dry food (powdered) ^^^^^^^^^^Foster&Smith Joint Care 2 (powder)<br />  Catnip (powdered)^^^^^^^^^^^^^^^^^^^^^8in1 Kookamunga Catnip Spray<br />  Catsure liquid diet^^^^^^^^^^^^^^^^^^^^^^Rebound Liquid Diet<br />  Cheerios breakfast cereal (crumbled) ^^^^^^^^^^KMR (liquid)<br />  Vanilla extract (no alcohol)^^^^^^^^^^^^^^^^^Pet Greens (freeze-dried liver puffs)<br />  Natural Balance Platefulls-sardines (pureed) ^^^^^^My Little Lion (salmon)<br />  Natural Balance Perfect Bites (rabbit)^^^^^^^^^^ EVO Wild Cravings<br />  VetsBest Right Bites Health Management (dogs) ^^^Mixins (Variety Pet Foods)<br />  PureBites (Pure Treats Inc)freeze-dried liver puffs ^^<br /><br />MOST/LEAST EFFECTIVE Rx PRODUCTS:  There are differences; but best sorted out between you and your vet.<br /><br />MOST EFFECTIVE OF THE NON-Rx PRODUCTS:<br /><br />  In addition to the better ones (according to our cats) noted in the original list (Barley Cat thru Whiskas Temptations), add these to the BEST class::<br /><br />  Dessicated/dehydrated Liver (human grade) capsules/powder (go easy, may cause the runs)<br />  Seared/browned Canned Pet Food (regular and Rx)<br />  Vienna Sausage (chicked meat & broth)<br />  Catty Shack treats (crumbled)<br />  Natural Balance Platefulls-sardines<br />  Pet Greens Freeze Dried puffs (liver)<br />  Natural Balance Perfect Bites (rabbit)<br />  My Little Lion (salmon)<br />  EVO Wild Cravings (herring & Salmon)<br />  VetsBest Right Bites Health Management (dogs)<br />  Mixins (Variety Pet Foods)<br /><br />LEAST EFFECTIVE NON-Rx PRODUCTS:<br /><br />  In addition to the originally listed ineffective ones (again by unscientific poll of our cats): F&S Shrimp Snappies thru brewers yeast powder, add these:<br /><br />  Vita Gravy (Petsmart)<br />  Bench & Field treats (Trader Joes)<br /><br />ALL OTHER NON-Rx PRODUCTS<br /><br />  Most were accepted by all four cats but were not particularly effective as appetite stimulants in our trials. Your pets, especially the healthy ones, may respond more favorably.<br /><br />  IF I WERE STARTING OVER WHAT WOULD I DO?  (Supplementing my \"perspective\" points above) HERE ARE MY MAIN TIPS:  1) Get to know my pets' taste preferences in advance of any need  2) Check for medical causes  3) If no medical issues, switch to the other form (dry/wet) of the pet's regular food and try as a flavor enhancer topping and/or as a substitute  4) Then try  warming or browning the wet version of the pet's regular food  5) next, your best choice of a \"treat\" or supplement with the pet's favorite flavor used as a topping  6) then one with a liver taste, such as Barley Cat or Pet Greens Freeze Dried  7) Then Cat-Man-Do bonito sprinkles, Natural Balance Platefuls, Catty Shack treats, Purina Whisker Lickins, or Whiskas Temptations 8) If a product meets with initial acceptance, withhold judgment on \"effectiveness\" until after a few meals worth of experiences  9) forego trying all the hundreds of \"treats\" in search of \"the\" one that will work after you have gone thru your best shots  10) If there are medical issues, consider off-the-shelf and Rx appetite stimulants, singly or in combination  11) If a liquid meal substitute is called for consider REBOUND and CLINICARE RF, but also CATSURE and KMR and (as a last resort?) human versions of liquid renal failure products. Acceptance at this point will likely be a major issue but at least they are there for the trying.<br /><br />  My apologies for the awkward columns but I could not figure out a neat way to compress the information. Hope all this helps and Good Luck.\n",
      "saved at 26024\n",
      "saved at 27025\n",
      "saved at 28026\n",
      "saved at 29027\n",
      "saved at 30028\n",
      "saved at 31029\n",
      "saved at 32030\n"
     ]
    }
   ],
   "source": [
    "kurdish_dataset=dataset_translator(df)"
   ]
  },
  {
   "cell_type": "markdown",
   "metadata": {},
   "source": [
    "## Appending translated dataset to original dataset"
   ]
  },
  {
   "cell_type": "code",
   "execution_count": 4,
   "metadata": {},
   "outputs": [],
   "source": [
    "def csv_concat(df1,df2,save_path=\"../data/translated/kurdish-reviews9.csv\"):\n",
    "    data_frame1=pd.read_csv(df1)\n",
    "    data_frame2=pd.read_csv(df2)\n",
    "    combined=pd.concat([data_frame1,data_frame2])\n",
    "    combined.to_csv(save_path,index=False)"
   ]
  },
  {
   "cell_type": "code",
   "execution_count": 14,
   "metadata": {},
   "outputs": [],
   "source": [
    "# saving the translated dataset\n",
    "kurdish_dataset.to_csv('../data/partial_saves/kurdish-reviews-25000-30000.csv',index=False)"
   ]
  },
  {
   "cell_type": "code",
   "execution_count": 5,
   "metadata": {},
   "outputs": [],
   "source": [
    "csv_concat(\"../data/translated/kurdish-reviews8.csv\",'../data/auto_saves/kurdish-trans-auto-32030.csv')"
   ]
  },
  {
   "cell_type": "markdown",
   "metadata": {},
   "source": [
    "### Translating Summary in the dataset"
   ]
  },
  {
   "cell_type": "code",
   "execution_count": null,
   "metadata": {},
   "outputs": [
    {
     "data": {
      "application/vnd.jupyter.widget-view+json": {
       "model_id": "97c4009da42d4a50a705b43579654568",
       "version_major": 2,
       "version_minor": 0
      },
      "text/plain": [
       "  0%|          | 0/500 [00:00<?, ?it/s]"
      ]
     },
     "metadata": {},
     "output_type": "display_data"
    }
   ],
   "source": [
    "df=pd.read_csv('../data/KurdishReviews.csv')\n",
    "kurdish_summary_dataset=dataset_summary_translator(df)\n",
    "kurdish_summary_dataset.to_csv('../data/KurdishReviewsSummary.csv',index=False)\n"
   ]
  },
  {
   "cell_type": "code",
   "execution_count": null,
   "metadata": {},
   "outputs": [],
   "source": [
    "df=pd.read_csv('../data/kurdishReviewsSummary.csv')"
   ]
  },
  {
   "cell_type": "code",
   "execution_count": null,
   "metadata": {},
   "outputs": [
    {
     "data": {
      "text/plain": [
       "(500, 12)"
      ]
     },
     "execution_count": 24,
     "metadata": {},
     "output_type": "execute_result"
    }
   ],
   "source": [
    "df.shape"
   ]
  },
  {
   "cell_type": "code",
   "execution_count": null,
   "metadata": {},
   "outputs": [
    {
     "name": "stdout",
     "output_type": "stream",
     "text": [
      "بەرهەمەکە گەیشتە لای کە بە ناوی Jumbo Salted Peanuts...فستقەکان لە ڕاستیدا قەبارەیان بچووک بوو بەبێ خوێ. دڵنیا نیم کە ئەمە هەڵە بووە یان فرۆشیارەکە بەنیازی ئەوە بووە کە بەرهەمەکە وەک \"جامبۆ\" نوێنەرایەتی بکات.\n"
     ]
    },
    {
     "data": {
      "text/plain": [
       "'بەرهەمەکە گەیشتە لای کە بە ناوی Jumbo Salted Peanuts...فستقەکان لە ڕاستیدا قەبارەیان بچووک بوو بەبێ خوێ. دڵنیا نیم کە ئەمە هەڵە بووە یان فرۆشیارەکە بەنیازی ئەوە بووە کە بەرهەمەکە وەک \"جامبۆ\" نوێنەرایەتی بکات.'"
      ]
     },
     "execution_count": 23,
     "metadata": {},
     "output_type": "execute_result"
    }
   ],
   "source": [
    "text=df.KurdishText[1]\n",
    "print(text)\n",
    "translate(text,to_language='ckb')"
   ]
  }
 ],
 "metadata": {
  "kernelspec": {
   "display_name": "EnglishSentimentAnalysis",
   "language": "python",
   "name": "python3"
  },
  "language_info": {
   "codemirror_mode": {
    "name": "ipython",
    "version": 3
   },
   "file_extension": ".py",
   "mimetype": "text/x-python",
   "name": "python",
   "nbconvert_exporter": "python",
   "pygments_lexer": "ipython3",
   "version": "3.11.7"
  }
 },
 "nbformat": 4,
 "nbformat_minor": 2
}
