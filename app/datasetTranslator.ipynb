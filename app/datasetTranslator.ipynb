{
 "cells": [
  {
   "cell_type": "markdown",
   "metadata": {},
   "source": [
    "## Translating Reviews in the dataset"
   ]
  },
  {
   "cell_type": "code",
   "execution_count": 2,
   "metadata": {},
   "outputs": [],
   "source": [
    "from mtranslate import translate\n",
    "import pandas as pd\n",
    "from tqdm.notebook import tqdm"
   ]
  },
  {
   "cell_type": "code",
   "execution_count": 3,
   "metadata": {},
   "outputs": [],
   "source": [
    "def dataset_translator(df):\n",
    "    res={}\n",
    "    try:\n",
    "        for i, row in tqdm(df.iterrows(),total=len(df)):\n",
    "            text=row['Text']\n",
    "            myid=row['Id']\n",
    "            res[myid]=translate(text,to_language='ckb')\n",
    "    except:\n",
    "        print(f'error in {myid}')\n",
    "\n",
    "    results=pd.DataFrame.from_dict(res,orient='index')\n",
    "    results=results.reset_index().rename(columns={'index':'Id'})\n",
    "    results=results.merge(df,how='right')\n",
    "    results=results.rename(columns={0:'KurdishText'})\n",
    "    return results\n"
   ]
  },
  {
   "cell_type": "code",
   "execution_count": 4,
   "metadata": {},
   "outputs": [],
   "source": [
    "def dataset_summary_translator(df):\n",
    "    res={}\n",
    "    try:\n",
    "        for i, row in tqdm(df.iterrows(),total=len(df)):\n",
    "            text=row['Summary']\n",
    "            myid=row['Id']\n",
    "            res[myid]=translate(text,to_language='ckb')\n",
    "    except:\n",
    "        print(f'error in {myid}')\n",
    "\n",
    "    results=pd.DataFrame.from_dict(res,orient='index')\n",
    "    results=results.reset_index().rename(columns={'index':'Id'})\n",
    "    results=results.merge(df,how='right')\n",
    "    results=results.rename(columns={0:'KurdishSummary'})\n",
    "    return results"
   ]
  },
  {
   "cell_type": "code",
   "execution_count": 30,
   "metadata": {},
   "outputs": [],
   "source": [
    "df=pd.read_csv('../data/Reviews.csv')\n",
    "df=df.iloc[1500:2000]"
   ]
  },
  {
   "cell_type": "code",
   "execution_count": 31,
   "metadata": {},
   "outputs": [
    {
     "data": {
      "text/plain": [
       "(500, 10)"
      ]
     },
     "execution_count": 31,
     "metadata": {},
     "output_type": "execute_result"
    }
   ],
   "source": [
    "df.shape"
   ]
  },
  {
   "cell_type": "code",
   "execution_count": 32,
   "metadata": {},
   "outputs": [
    {
     "data": {
      "application/vnd.jupyter.widget-view+json": {
       "model_id": "8f69d04a90784ab7a7ba0e1240acf8b5",
       "version_major": 2,
       "version_minor": 0
      },
      "text/plain": [
       "  0%|          | 0/500 [00:00<?, ?it/s]"
      ]
     },
     "metadata": {},
     "output_type": "display_data"
    }
   ],
   "source": [
    "kurdish_dataset=dataset_translator(df)"
   ]
  },
  {
   "cell_type": "code",
   "execution_count": 33,
   "metadata": {},
   "outputs": [],
   "source": [
    "kurdish_dataset.to_csv('../data/partial_saves/kurdish-reviews-1500-2000.csv',index=False)"
   ]
  },
  {
   "cell_type": "markdown",
   "metadata": {},
   "source": [
    "### Translating Summary in the dataset"
   ]
  },
  {
   "cell_type": "code",
   "execution_count": null,
   "metadata": {},
   "outputs": [
    {
     "data": {
      "application/vnd.jupyter.widget-view+json": {
       "model_id": "97c4009da42d4a50a705b43579654568",
       "version_major": 2,
       "version_minor": 0
      },
      "text/plain": [
       "  0%|          | 0/500 [00:00<?, ?it/s]"
      ]
     },
     "metadata": {},
     "output_type": "display_data"
    }
   ],
   "source": [
    "df=pd.read_csv('../data/KurdishReviews.csv')\n",
    "kurdish_summary_dataset=dataset_summary_translator(df)\n",
    "kurdish_summary_dataset.to_csv('../data/KurdishReviewsSummary.csv',index=False)\n"
   ]
  },
  {
   "cell_type": "code",
   "execution_count": null,
   "metadata": {},
   "outputs": [],
   "source": [
    "df=pd.read_csv('../data/kurdishReviewsSummary.csv')"
   ]
  },
  {
   "cell_type": "code",
   "execution_count": null,
   "metadata": {},
   "outputs": [
    {
     "data": {
      "text/plain": [
       "(500, 12)"
      ]
     },
     "execution_count": 24,
     "metadata": {},
     "output_type": "execute_result"
    }
   ],
   "source": [
    "df.shape"
   ]
  },
  {
   "cell_type": "code",
   "execution_count": null,
   "metadata": {},
   "outputs": [
    {
     "name": "stdout",
     "output_type": "stream",
     "text": [
      "بەرهەمەکە گەیشتە لای کە بە ناوی Jumbo Salted Peanuts...فستقەکان لە ڕاستیدا قەبارەیان بچووک بوو بەبێ خوێ. دڵنیا نیم کە ئەمە هەڵە بووە یان فرۆشیارەکە بەنیازی ئەوە بووە کە بەرهەمەکە وەک \"جامبۆ\" نوێنەرایەتی بکات.\n"
     ]
    },
    {
     "data": {
      "text/plain": [
       "'بەرهەمەکە گەیشتە لای کە بە ناوی Jumbo Salted Peanuts...فستقەکان لە ڕاستیدا قەبارەیان بچووک بوو بەبێ خوێ. دڵنیا نیم کە ئەمە هەڵە بووە یان فرۆشیارەکە بەنیازی ئەوە بووە کە بەرهەمەکە وەک \"جامبۆ\" نوێنەرایەتی بکات.'"
      ]
     },
     "execution_count": 23,
     "metadata": {},
     "output_type": "execute_result"
    }
   ],
   "source": [
    "text=df.KurdishText[1]\n",
    "print(text)\n",
    "translate(text,to_language='ckb')"
   ]
  },
  {
   "cell_type": "code",
   "execution_count": null,
   "metadata": {},
   "outputs": [],
   "source": []
  }
 ],
 "metadata": {
  "kernelspec": {
   "display_name": "EnglishSentimentAnalysis",
   "language": "python",
   "name": "python3"
  },
  "language_info": {
   "codemirror_mode": {
    "name": "ipython",
    "version": 3
   },
   "file_extension": ".py",
   "mimetype": "text/x-python",
   "name": "python",
   "nbconvert_exporter": "python",
   "pygments_lexer": "ipython3",
   "version": "3.11.7"
  }
 },
 "nbformat": 4,
 "nbformat_minor": 2
}
