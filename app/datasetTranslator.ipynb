{
 "cells": [
  {
   "cell_type": "markdown",
   "metadata": {},
   "source": [
    "## Translating Reviews in the dataset"
   ]
  },
  {
   "cell_type": "code",
   "execution_count": 2,
   "metadata": {},
   "outputs": [],
   "source": [
    "from mtranslate import translate\n",
    "import pandas as pd\n",
    "from tqdm.notebook import tqdm"
   ]
  },
  {
   "cell_type": "code",
   "execution_count": 82,
   "metadata": {},
   "outputs": [],
   "source": [
    "def dataset_translator(df):\n",
    "    res={}\n",
    "    try:\n",
    "        for i, row in tqdm(df.iterrows(),total=len(df)):\n",
    "            text=row['Text']\n",
    "            myid=row['Id']\n",
    "            res[myid]=translate(text,to_language='ckb')\n",
    "    except:\n",
    "        print(f'error in {myid}')\n",
    "\n",
    "    results=pd.DataFrame.from_dict(res,orient='index')\n",
    "    results=results.reset_index().rename(columns={'index':'Id'})\n",
    "    results=results.merge(df,how='right')\n",
    "    results=results.rename(columns={0:'KurdishText'})\n",
    "    return results\n"
   ]
  },
  {
   "cell_type": "code",
   "execution_count": 92,
   "metadata": {},
   "outputs": [],
   "source": [
    "def dataset_summary_translator(df):\n",
    "    res={}\n",
    "    try:\n",
    "        for i, row in tqdm(df.iterrows(),total=len(df)):\n",
    "            text=row['Summary']\n",
    "            myid=row['Id']\n",
    "            res[myid]=translate(text,to_language='ckb')\n",
    "    except:\n",
    "        print(f'error in {myid}')\n",
    "\n",
    "    results=pd.DataFrame.from_dict(res,orient='index')\n",
    "    results=results.reset_index().rename(columns={'index':'Id'})\n",
    "    results=results.merge(df,how='right')\n",
    "    results=results.rename(columns={0:'KurdishSummary'})\n",
    "    return results"
   ]
  },
  {
   "cell_type": "markdown",
   "metadata": {},
   "source": [
    "### Reading original dataset and getting only 500 rows"
   ]
  },
  {
   "cell_type": "code",
   "execution_count": 83,
   "metadata": {},
   "outputs": [],
   "source": [
    "df=pd.read_csv('../data/Reviews.csv')\n",
    "df=df.head(500)"
   ]
  },
  {
   "cell_type": "code",
   "execution_count": 84,
   "metadata": {},
   "outputs": [
    {
     "data": {
      "application/vnd.jupyter.widget-view+json": {
       "model_id": "e7bcf7436c384457ba2e1d6accf2f3ba",
       "version_major": 2,
       "version_minor": 0
      },
      "text/plain": [
       "  0%|          | 0/500 [00:00<?, ?it/s]"
      ]
     },
     "metadata": {},
     "output_type": "display_data"
    }
   ],
   "source": [
    "kurdish_dataset=dataset_translator(df)"
   ]
  },
  {
   "cell_type": "code",
   "execution_count": 87,
   "metadata": {},
   "outputs": [],
   "source": [
    "kurdish_dataset.to_csv('../data/KurdishReviews.csv',index=False)"
   ]
  },
  {
   "cell_type": "markdown",
   "metadata": {},
   "source": [
    "### Translating Summary in the dataset"
   ]
  },
  {
   "cell_type": "code",
   "execution_count": 93,
   "metadata": {},
   "outputs": [
    {
     "data": {
      "application/vnd.jupyter.widget-view+json": {
       "model_id": "97c4009da42d4a50a705b43579654568",
       "version_major": 2,
       "version_minor": 0
      },
      "text/plain": [
       "  0%|          | 0/500 [00:00<?, ?it/s]"
      ]
     },
     "metadata": {},
     "output_type": "display_data"
    }
   ],
   "source": [
    "df=pd.read_csv('../data/KurdishReviews.csv')\n",
    "kurdish_summary_dataset=dataset_summary_translator(df)\n",
    "kurdish_summary_dataset.to_csv('../data/KurdishReviewsSummary.csv',index=False)\n"
   ]
  },
  {
   "cell_type": "code",
   "execution_count": 5,
   "metadata": {},
   "outputs": [],
   "source": [
    "df=pd.read_csv('../data/tokenized_review_text.csv')"
   ]
  },
  {
   "cell_type": "code",
   "execution_count": 7,
   "metadata": {},
   "outputs": [
    {
     "data": {
      "text/html": [
       "<div>\n",
       "<style scoped>\n",
       "    .dataframe tbody tr th:only-of-type {\n",
       "        vertical-align: middle;\n",
       "    }\n",
       "\n",
       "    .dataframe tbody tr th {\n",
       "        vertical-align: top;\n",
       "    }\n",
       "\n",
       "    .dataframe thead th {\n",
       "        text-align: right;\n",
       "    }\n",
       "</style>\n",
       "<table border=\"1\" class=\"dataframe\">\n",
       "  <thead>\n",
       "    <tr style=\"text-align: right;\">\n",
       "      <th></th>\n",
       "      <th>reviewText</th>\n",
       "    </tr>\n",
       "  </thead>\n",
       "  <tbody>\n",
       "    <tr>\n",
       "      <th>0</th>\n",
       "      <td>['they', 'look', 'good', 'and', 'stick', 'good...</td>\n",
       "    </tr>\n",
       "    <tr>\n",
       "      <th>1</th>\n",
       "      <td>['these', 'stickers', 'work', 'like', 'the', '...</td>\n",
       "    </tr>\n",
       "    <tr>\n",
       "      <th>2</th>\n",
       "      <td>['these', 'are', 'awesome', 'and', 'make', 'my...</td>\n",
       "    </tr>\n",
       "    <tr>\n",
       "      <th>3</th>\n",
       "      <td>['item', 'arrived', 'in', 'great', 'time', 'an...</td>\n",
       "    </tr>\n",
       "    <tr>\n",
       "      <th>4</th>\n",
       "      <td>['awesome', 'stays', 'on', 'and', 'looks', 'gr...</td>\n",
       "    </tr>\n",
       "  </tbody>\n",
       "</table>\n",
       "</div>"
      ],
      "text/plain": [
       "                                          reviewText\n",
       "0  ['they', 'look', 'good', 'and', 'stick', 'good...\n",
       "1  ['these', 'stickers', 'work', 'like', 'the', '...\n",
       "2  ['these', 'are', 'awesome', 'and', 'make', 'my...\n",
       "3  ['item', 'arrived', 'in', 'great', 'time', 'an...\n",
       "4  ['awesome', 'stays', 'on', 'and', 'looks', 'gr..."
      ]
     },
     "execution_count": 7,
     "metadata": {},
     "output_type": "execute_result"
    }
   ],
   "source": [
    "df.head()"
   ]
  },
  {
   "cell_type": "code",
   "execution_count": 18,
   "metadata": {},
   "outputs": [
    {
     "data": {
      "text/plain": [
       "\"['ئەوان'، 'سەیرکە'، 'باشە'، 'و'، 'دار'، 'باشە'، 'تەنها'، 'مەکە'، 'حەز'، 'ئەو'، 'گوڵاو'، 'شێوە'، ' چونکە'، 'بوو'، 'هەمیشە'، 'لێدان'، 'ئەوە'، 'و'، 'سیری'، 'هێشتەوە'، 'پۆپ'، 'سەرەوە'، 'و'، 'ئەوە'، 'بوو'. ، 'تووڕەکردن'، 'تەنها'، 'بردنەوە'، 'کڕین'، 'بەرهەم'، 'وەک'، 'ئەمە'، 'دیسانەوە'].\""
      ]
     },
     "execution_count": 18,
     "metadata": {},
     "output_type": "execute_result"
    }
   ],
   "source": [
    "text=df.reviewText[0]\n",
    "translate(text,to_language='ckb')"
   ]
  },
  {
   "cell_type": "code",
   "execution_count": null,
   "metadata": {},
   "outputs": [],
   "source": []
  }
 ],
 "metadata": {
  "kernelspec": {
   "display_name": "EnglishSentimentAnalysis",
   "language": "python",
   "name": "python3"
  },
  "language_info": {
   "codemirror_mode": {
    "name": "ipython",
    "version": 3
   },
   "file_extension": ".py",
   "mimetype": "text/x-python",
   "name": "python",
   "nbconvert_exporter": "python",
   "pygments_lexer": "ipython3",
   "version": "3.11.7"
  }
 },
 "nbformat": 4,
 "nbformat_minor": 2
}
