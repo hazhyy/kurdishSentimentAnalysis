{
 "cells": [
  {
   "cell_type": "code",
   "execution_count": 1,
   "metadata": {},
   "outputs": [],
   "source": [
    "import numpy as np\n",
    "from gensim.models import Word2Vec\n",
    "\n",
    "word2vec_model = Word2Vec.load(\"../models/kurdish-word2vec-75279.model\")\n"
   ]
  },
  {
   "cell_type": "code",
   "execution_count": 2,
   "metadata": {},
   "outputs": [],
   "source": [
    "def get_average_word_vector(sentence, model, num_features):\n",
    "    \"\"\"Calculate the average word vector for a sentence.\"\"\"\n",
    "    words = sentence.split()\n",
    "    feature_vector = np.zeros((num_features,), dtype=\"float32\")\n",
    "    num_words = 0\n",
    "    for word in words:\n",
    "        if word in model.wv.key_to_index:\n",
    "            num_words += 1\n",
    "            feature_vector = np.add(feature_vector, model.wv[word])\n",
    "    return feature_vector / num_words if num_words > 0 else feature_vector"
   ]
  },
  {
   "cell_type": "code",
   "execution_count": 5,
   "metadata": {},
   "outputs": [
    {
     "name": "stdout",
     "output_type": "stream",
     "text": [
      "Predicted class: [5]\n"
     ]
    }
   ],
   "source": [
    "from joblib import load\n",
    "\n",
    "# Load the saved model\n",
    "model_filename = '../models/sentiment_models/logistic_regression_model.joblib'\n",
    "clf_loaded = load(model_filename)\n",
    "new_text = \"دانیا زۆر جوانە\"\n",
    "new_vector = get_average_word_vector(new_text, word2vec_model, 100)  # Use the same function to vectorize\n",
    "prediction = clf_loaded.predict([new_vector])\n",
    "print(\"Predicted class:\", prediction)\n"
   ]
  },
  {
   "cell_type": "markdown",
   "metadata": {},
   "source": [
    "## Support Vector Machine Test"
   ]
  },
  {
   "cell_type": "code",
   "execution_count": 3,
   "metadata": {},
   "outputs": [],
   "source": [
    "from joblib import load\n",
    "svm_filename = '../models/sentiment_models/svm_model.joblib'\n",
    "svm_loaded = load(svm_filename)"
   ]
  },
  {
   "cell_type": "markdown",
   "metadata": {},
   "source": [
    "#### using average word vector to get prediction for the whole text"
   ]
  },
  {
   "cell_type": "code",
   "execution_count": 40,
   "metadata": {},
   "outputs": [],
   "source": [
    "new_text = \"جێگا...سۆرتا. ئەمڕۆ باش بوو، سارا هەیە سترێپ بیری لەوە کردۆتەوە ئەنجلینا دەکات بۆ؛ من ئاوێکم لەگەڵ B4 ی ئەودا هاوبەش کرد پێیان وتم، من  دەیگەیەنم بۆ\"\n",
    "new_vector=get_average_word_vector(new_text, word2vec_model, 100)"
   ]
  },
  {
   "cell_type": "code",
   "execution_count": 41,
   "metadata": {},
   "outputs": [
    {
     "name": "stdout",
     "output_type": "stream",
     "text": [
      "Predicted class: [5]\n"
     ]
    }
   ],
   "source": [
    "svm_prediction = svm_loaded.predict([new_vector])\n",
    "print(\"Predicted class:\", svm_prediction)"
   ]
  },
  {
   "cell_type": "markdown",
   "metadata": {},
   "source": [
    "#### Getting prediction for each word in the sentence"
   ]
  },
  {
   "cell_type": "code",
   "execution_count": 42,
   "metadata": {},
   "outputs": [
    {
     "name": "stdout",
     "output_type": "stream",
     "text": [
      "Predicted class: جێگا...سۆرتا. [5]\n",
      "Predicted class: ئەمڕۆ [1]\n",
      "Predicted class: باش [5]\n",
      "Predicted class: بوو، [5]\n",
      "Predicted class: سارا [5]\n",
      "Predicted class: هەیە [5]\n",
      "Predicted class: سترێپ [5]\n",
      "Predicted class: بیری [1]\n",
      "Predicted class: لەوە [5]\n",
      "Predicted class: کردۆتەوە [5]\n",
      "Predicted class: ئەنجلینا [5]\n",
      "Predicted class: دەکات [5]\n",
      "Predicted class: بۆ؛ [5]\n",
      "Predicted class: من [3]\n",
      "Predicted class: ئاوێکم [5]\n",
      "Predicted class: لەگەڵ [5]\n",
      "Predicted class: B4 [5]\n",
      "Predicted class: ی [5]\n",
      "Predicted class: ئەودا [5]\n",
      "Predicted class: هاوبەش [5]\n",
      "Predicted class: کرد [1]\n",
      "Predicted class: پێیان [1]\n",
      "Predicted class: وتم، [5]\n",
      "Predicted class: من [3]\n",
      "Predicted class: دەیگەیەنم [5]\n",
      "Predicted class: بۆ [5]\n"
     ]
    }
   ],
   "source": [
    "word_vector=[]\n",
    "for word in new_text.split():\n",
    "    word_vector=get_average_word_vector(word, word2vec_model, 100)\n",
    "    svm_prediction = svm_loaded.predict([word_vector])\n",
    "    print(f\"Predicted class: {word}\", svm_prediction)"
   ]
  },
  {
   "cell_type": "code",
   "execution_count": null,
   "metadata": {},
   "outputs": [],
   "source": []
  }
 ],
 "metadata": {
  "kernelspec": {
   "display_name": "tensorflow",
   "language": "python",
   "name": "python3"
  },
  "language_info": {
   "codemirror_mode": {
    "name": "ipython",
    "version": 3
   },
   "file_extension": ".py",
   "mimetype": "text/x-python",
   "name": "python",
   "nbconvert_exporter": "python",
   "pygments_lexer": "ipython3",
   "version": "3.10.14"
  }
 },
 "nbformat": 4,
 "nbformat_minor": 2
}
