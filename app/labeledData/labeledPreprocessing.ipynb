{
 "cells": [
  {
   "cell_type": "code",
   "execution_count": 1,
   "metadata": {},
   "outputs": [],
   "source": [
    "import pandas as pd\n",
    "import re"
   ]
  },
  {
   "cell_type": "code",
   "execution_count": 2,
   "metadata": {},
   "outputs": [],
   "source": [
    "sentiments = {\n",
    "    'empty': {'id': 1, 'kurdish': 'بەتاڵ'},\n",
    "    'sadness': {'id': 2, 'kurdish': 'دڵتەنگ'},\n",
    "    'enthusiasm': {'id': 3, 'kurdish': 'پەرۆش'},\n",
    "    'neutral': {'id': 4, 'kurdish': 'ئاسایی'},\n",
    "    'worry': {'id': 5, 'kurdish': 'نیگەران'},\n",
    "    'surprise': {'id': 6, 'kurdish': 'سوپرایز'},\n",
    "    'love': {'id': 7, 'kurdish': 'خۆشەویستی'},\n",
    "    'fun': {'id': 8, 'kurdish': 'خۆشی'},\n",
    "    'hate': {'id': 9, 'kurdish': 'ڕق'},\n",
    "    'happiness': {'id': 10, 'kurdish': 'بەختەوەر'},\n",
    "    'boredom': {'id': 11, 'kurdish': 'بێزار'},\n",
    "    'relief': {'id': 12, 'kurdish': 'ئارام'},\n",
    "    'anger': {'id': 13, 'kurdish': 'تووڕە'}\n",
    "}"
   ]
  },
  {
   "cell_type": "code",
   "execution_count": 3,
   "metadata": {},
   "outputs": [
    {
     "data": {
      "text/plain": [
       "1"
      ]
     },
     "execution_count": 3,
     "metadata": {},
     "output_type": "execute_result"
    }
   ],
   "source": [
    "sentiments[\"empty\"][\"id\"]"
   ]
  },
  {
   "cell_type": "code",
   "execution_count": 4,
   "metadata": {},
   "outputs": [],
   "source": [
    "df=pd.read_csv('./dataSet/translated/kurdish_tweets-40000-concat.csv')"
   ]
  },
  {
   "cell_type": "code",
   "execution_count": 5,
   "metadata": {},
   "outputs": [
    {
     "data": {
      "text/html": [
       "<div>\n",
       "<style scoped>\n",
       "    .dataframe tbody tr th:only-of-type {\n",
       "        vertical-align: middle;\n",
       "    }\n",
       "\n",
       "    .dataframe tbody tr th {\n",
       "        vertical-align: top;\n",
       "    }\n",
       "\n",
       "    .dataframe thead th {\n",
       "        text-align: right;\n",
       "    }\n",
       "</style>\n",
       "<table border=\"1\" class=\"dataframe\">\n",
       "  <thead>\n",
       "    <tr style=\"text-align: right;\">\n",
       "      <th></th>\n",
       "      <th>tweet_id</th>\n",
       "      <th>kurdish_tweets</th>\n",
       "      <th>sentiment</th>\n",
       "      <th>author</th>\n",
       "      <th>content</th>\n",
       "      <th>tweets</th>\n",
       "      <th>kurdish_sentiments</th>\n",
       "    </tr>\n",
       "  </thead>\n",
       "  <tbody>\n",
       "    <tr>\n",
       "      <th>0</th>\n",
       "      <td>1956967341</td>\n",
       "      <td>دەزانم پێشتر گوێم لە خووی خراپ بوو و دەستم کرد...</td>\n",
       "      <td>empty</td>\n",
       "      <td>xoshayzers</td>\n",
       "      <td>@tiffanylue i know  i was listenin to bad habi...</td>\n",
       "      <td>i know i was listenin to bad habit earlier and...</td>\n",
       "      <td>بەتاڵ</td>\n",
       "    </tr>\n",
       "    <tr>\n",
       "      <th>1</th>\n",
       "      <td>1956967666</td>\n",
       "      <td>لایین ن جێگا بە سەرئێشە ughhhh...waitin لە پەی...</td>\n",
       "      <td>sadness</td>\n",
       "      <td>wannamama</td>\n",
       "      <td>Layin n bed with a headache  ughhhh...waitin o...</td>\n",
       "      <td>Layin n bed with a headache ughhhh...waitin on...</td>\n",
       "      <td>دڵتەنگ</td>\n",
       "    </tr>\n",
       "    <tr>\n",
       "      <th>2</th>\n",
       "      <td>1956967696</td>\n",
       "      <td>ئاهەنگی پرسە...هەینییەکی تاریک...</td>\n",
       "      <td>sadness</td>\n",
       "      <td>coolfunky</td>\n",
       "      <td>Funeral ceremony...gloomy friday...</td>\n",
       "      <td>Funeral ceremony...gloomy friday...</td>\n",
       "      <td>دڵتەنگ</td>\n",
       "    </tr>\n",
       "    <tr>\n",
       "      <th>3</th>\n",
       "      <td>1956967789</td>\n",
       "      <td>دەیەوێت بەم زووانە لەگەڵ هاوڕێکانی کۆببێتەوە!</td>\n",
       "      <td>enthusiasm</td>\n",
       "      <td>czareaquino</td>\n",
       "      <td>wants to hang out with friends SOON!</td>\n",
       "      <td>wants to hang out with friends SOON!</td>\n",
       "      <td>پەرۆش</td>\n",
       "    </tr>\n",
       "    <tr>\n",
       "      <th>4</th>\n",
       "      <td>1956968416</td>\n",
       "      <td>ئێمە دەمانەوێت بازرگانی لەگەڵ کەسێک بکەین کە ب...</td>\n",
       "      <td>neutral</td>\n",
       "      <td>xkilljoyx</td>\n",
       "      <td>@dannycastillo We want to trade with someone w...</td>\n",
       "      <td>We want to trade with someone who has Houston ...</td>\n",
       "      <td>ئاسایی</td>\n",
       "    </tr>\n",
       "  </tbody>\n",
       "</table>\n",
       "</div>"
      ],
      "text/plain": [
       "     tweet_id                                     kurdish_tweets   sentiment  \\\n",
       "0  1956967341  دەزانم پێشتر گوێم لە خووی خراپ بوو و دەستم کرد...       empty   \n",
       "1  1956967666  لایین ن جێگا بە سەرئێشە ughhhh...waitin لە پەی...     sadness   \n",
       "2  1956967696                  ئاهەنگی پرسە...هەینییەکی تاریک...     sadness   \n",
       "3  1956967789      دەیەوێت بەم زووانە لەگەڵ هاوڕێکانی کۆببێتەوە!  enthusiasm   \n",
       "4  1956968416  ئێمە دەمانەوێت بازرگانی لەگەڵ کەسێک بکەین کە ب...     neutral   \n",
       "\n",
       "        author                                            content  \\\n",
       "0   xoshayzers  @tiffanylue i know  i was listenin to bad habi...   \n",
       "1    wannamama  Layin n bed with a headache  ughhhh...waitin o...   \n",
       "2    coolfunky                Funeral ceremony...gloomy friday...   \n",
       "3  czareaquino               wants to hang out with friends SOON!   \n",
       "4    xkilljoyx  @dannycastillo We want to trade with someone w...   \n",
       "\n",
       "                                              tweets kurdish_sentiments  \n",
       "0  i know i was listenin to bad habit earlier and...              بەتاڵ  \n",
       "1  Layin n bed with a headache ughhhh...waitin on...             دڵتەنگ  \n",
       "2                Funeral ceremony...gloomy friday...             دڵتەنگ  \n",
       "3               wants to hang out with friends SOON!              پەرۆش  \n",
       "4  We want to trade with someone who has Houston ...             ئاسایی  "
      ]
     },
     "execution_count": 5,
     "metadata": {},
     "output_type": "execute_result"
    }
   ],
   "source": [
    "df.head()"
   ]
  },
  {
   "cell_type": "code",
   "execution_count": 6,
   "metadata": {},
   "outputs": [],
   "source": [
    "df['sentiment_id']=df.sentiment.apply(lambda x:sentiments[x][\"id\"])\n"
   ]
  },
  {
   "cell_type": "code",
   "execution_count": 7,
   "metadata": {},
   "outputs": [
    {
     "data": {
      "text/html": [
       "<div>\n",
       "<style scoped>\n",
       "    .dataframe tbody tr th:only-of-type {\n",
       "        vertical-align: middle;\n",
       "    }\n",
       "\n",
       "    .dataframe tbody tr th {\n",
       "        vertical-align: top;\n",
       "    }\n",
       "\n",
       "    .dataframe thead th {\n",
       "        text-align: right;\n",
       "    }\n",
       "</style>\n",
       "<table border=\"1\" class=\"dataframe\">\n",
       "  <thead>\n",
       "    <tr style=\"text-align: right;\">\n",
       "      <th></th>\n",
       "      <th>tweet_id</th>\n",
       "      <th>kurdish_tweets</th>\n",
       "      <th>sentiment</th>\n",
       "      <th>author</th>\n",
       "      <th>content</th>\n",
       "      <th>tweets</th>\n",
       "      <th>kurdish_sentiments</th>\n",
       "      <th>sentiment_id</th>\n",
       "    </tr>\n",
       "  </thead>\n",
       "  <tbody>\n",
       "    <tr>\n",
       "      <th>0</th>\n",
       "      <td>1956967341</td>\n",
       "      <td>دەزانم پێشتر گوێم لە خووی خراپ بوو و دەستم کرد...</td>\n",
       "      <td>empty</td>\n",
       "      <td>xoshayzers</td>\n",
       "      <td>@tiffanylue i know  i was listenin to bad habi...</td>\n",
       "      <td>i know i was listenin to bad habit earlier and...</td>\n",
       "      <td>بەتاڵ</td>\n",
       "      <td>1</td>\n",
       "    </tr>\n",
       "    <tr>\n",
       "      <th>1</th>\n",
       "      <td>1956967666</td>\n",
       "      <td>لایین ن جێگا بە سەرئێشە ughhhh...waitin لە پەی...</td>\n",
       "      <td>sadness</td>\n",
       "      <td>wannamama</td>\n",
       "      <td>Layin n bed with a headache  ughhhh...waitin o...</td>\n",
       "      <td>Layin n bed with a headache ughhhh...waitin on...</td>\n",
       "      <td>دڵتەنگ</td>\n",
       "      <td>2</td>\n",
       "    </tr>\n",
       "    <tr>\n",
       "      <th>2</th>\n",
       "      <td>1956967696</td>\n",
       "      <td>ئاهەنگی پرسە...هەینییەکی تاریک...</td>\n",
       "      <td>sadness</td>\n",
       "      <td>coolfunky</td>\n",
       "      <td>Funeral ceremony...gloomy friday...</td>\n",
       "      <td>Funeral ceremony...gloomy friday...</td>\n",
       "      <td>دڵتەنگ</td>\n",
       "      <td>2</td>\n",
       "    </tr>\n",
       "    <tr>\n",
       "      <th>3</th>\n",
       "      <td>1956967789</td>\n",
       "      <td>دەیەوێت بەم زووانە لەگەڵ هاوڕێکانی کۆببێتەوە!</td>\n",
       "      <td>enthusiasm</td>\n",
       "      <td>czareaquino</td>\n",
       "      <td>wants to hang out with friends SOON!</td>\n",
       "      <td>wants to hang out with friends SOON!</td>\n",
       "      <td>پەرۆش</td>\n",
       "      <td>3</td>\n",
       "    </tr>\n",
       "    <tr>\n",
       "      <th>4</th>\n",
       "      <td>1956968416</td>\n",
       "      <td>ئێمە دەمانەوێت بازرگانی لەگەڵ کەسێک بکەین کە ب...</td>\n",
       "      <td>neutral</td>\n",
       "      <td>xkilljoyx</td>\n",
       "      <td>@dannycastillo We want to trade with someone w...</td>\n",
       "      <td>We want to trade with someone who has Houston ...</td>\n",
       "      <td>ئاسایی</td>\n",
       "      <td>4</td>\n",
       "    </tr>\n",
       "  </tbody>\n",
       "</table>\n",
       "</div>"
      ],
      "text/plain": [
       "     tweet_id                                     kurdish_tweets   sentiment  \\\n",
       "0  1956967341  دەزانم پێشتر گوێم لە خووی خراپ بوو و دەستم کرد...       empty   \n",
       "1  1956967666  لایین ن جێگا بە سەرئێشە ughhhh...waitin لە پەی...     sadness   \n",
       "2  1956967696                  ئاهەنگی پرسە...هەینییەکی تاریک...     sadness   \n",
       "3  1956967789      دەیەوێت بەم زووانە لەگەڵ هاوڕێکانی کۆببێتەوە!  enthusiasm   \n",
       "4  1956968416  ئێمە دەمانەوێت بازرگانی لەگەڵ کەسێک بکەین کە ب...     neutral   \n",
       "\n",
       "        author                                            content  \\\n",
       "0   xoshayzers  @tiffanylue i know  i was listenin to bad habi...   \n",
       "1    wannamama  Layin n bed with a headache  ughhhh...waitin o...   \n",
       "2    coolfunky                Funeral ceremony...gloomy friday...   \n",
       "3  czareaquino               wants to hang out with friends SOON!   \n",
       "4    xkilljoyx  @dannycastillo We want to trade with someone w...   \n",
       "\n",
       "                                              tweets kurdish_sentiments  \\\n",
       "0  i know i was listenin to bad habit earlier and...              بەتاڵ   \n",
       "1  Layin n bed with a headache ughhhh...waitin on...             دڵتەنگ   \n",
       "2                Funeral ceremony...gloomy friday...             دڵتەنگ   \n",
       "3               wants to hang out with friends SOON!              پەرۆش   \n",
       "4  We want to trade with someone who has Houston ...             ئاسایی   \n",
       "\n",
       "   sentiment_id  \n",
       "0             1  \n",
       "1             2  \n",
       "2             2  \n",
       "3             3  \n",
       "4             4  "
      ]
     },
     "execution_count": 7,
     "metadata": {},
     "output_type": "execute_result"
    }
   ],
   "source": [
    "df.head()"
   ]
  },
  {
   "cell_type": "code",
   "execution_count": 8,
   "metadata": {},
   "outputs": [],
   "source": [
    "def is_english(text):\n",
    "    return bool(re.search('[a-zA-Z]', text))"
   ]
  },
  {
   "cell_type": "code",
   "execution_count": 9,
   "metadata": {},
   "outputs": [],
   "source": [
    "def remove_english(text):\n",
    "    # Check if the input is a string\n",
    "    if isinstance(text, str):\n",
    "        # Pattern to match English words and quotation marks\n",
    "        pattern = r'\\b[a-zA-Z]+\\b|[\"\\']'\n",
    "        return re.sub(pattern, '', text)\n",
    "    else:\n",
    "        # If the input is not a string, return it as is\n",
    "        return text"
   ]
  },
  {
   "cell_type": "code",
   "execution_count": 10,
   "metadata": {},
   "outputs": [
    {
     "data": {
      "text/plain": [
       "'لایین ن جێگا بە سەرئێشە ... لە پەیوەندیەکەت...'"
      ]
     },
     "execution_count": 10,
     "metadata": {},
     "output_type": "execute_result"
    }
   ],
   "source": [
    "remove_english(df['kurdish_tweets'][1])"
   ]
  },
  {
   "cell_type": "code",
   "execution_count": 11,
   "metadata": {},
   "outputs": [],
   "source": [
    "df['kurdish_tweets'] = df['kurdish_tweets'].apply(remove_english)"
   ]
  },
  {
   "cell_type": "code",
   "execution_count": 12,
   "metadata": {},
   "outputs": [
    {
     "data": {
      "text/plain": [
       "['ئای',\n",
       " 'زۆر',\n",
       " 'خراپە!',\n",
       " 'هیوادارم',\n",
       " 'باشتر',\n",
       " 'بێت.',\n",
       " 'منیش',\n",
       " 'لەم',\n",
       " 'دواییانەدا',\n",
       " 'کێشەی',\n",
       " 'خەوتنم',\n",
       " 'هەیە']"
      ]
     },
     "execution_count": 12,
     "metadata": {},
     "output_type": "execute_result"
    }
   ],
   "source": [
    "df['kurdish_tweets'][20].split()"
   ]
  },
  {
   "cell_type": "code",
   "execution_count": 13,
   "metadata": {},
   "outputs": [
    {
     "data": {
      "text/plain": [
       "(40000, 8)"
      ]
     },
     "execution_count": 13,
     "metadata": {},
     "output_type": "execute_result"
    }
   ],
   "source": [
    "df.shape"
   ]
  },
  {
   "cell_type": "code",
   "execution_count": 14,
   "metadata": {},
   "outputs": [],
   "source": [
    "df.to_csv('./dataSet/preprocessed/preprocess-40000.csv',index=False)"
   ]
  },
  {
   "cell_type": "markdown",
   "metadata": {},
   "source": [
    "### Stop words preprocessing"
   ]
  },
  {
   "cell_type": "code",
   "execution_count": 14,
   "metadata": {},
   "outputs": [],
   "source": [
    "file_path=\"./dataSet/kurdishStopWords.txt\"\n",
    "output_path=\"./dataSet/kurdishStopWordsCleaned.txt\"\n",
    "with open(file_path,'r') as file, open(output_path,'w') as output_file:\n",
    "    for word in file.readlines():\n",
    "        cleaned_words=remove_english(word)\n",
    "        output_file.write(cleaned_words)\n",
    "\n",
    "    \n",
    "\n"
   ]
  },
  {
   "cell_type": "code",
   "execution_count": null,
   "metadata": {},
   "outputs": [],
   "source": []
  }
 ],
 "metadata": {
  "kernelspec": {
   "display_name": "base",
   "language": "python",
   "name": "python3"
  },
  "language_info": {
   "codemirror_mode": {
    "name": "ipython",
    "version": 3
   },
   "file_extension": ".py",
   "mimetype": "text/x-python",
   "name": "python",
   "nbconvert_exporter": "python",
   "pygments_lexer": "ipython3",
   "version": "3.11.7"
  }
 },
 "nbformat": 4,
 "nbformat_minor": 2
}
