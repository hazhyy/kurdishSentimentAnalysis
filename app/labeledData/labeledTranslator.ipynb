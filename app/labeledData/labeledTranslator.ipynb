{
 "cells": [
  {
   "cell_type": "code",
   "execution_count": 1,
   "metadata": {},
   "outputs": [],
   "source": [
    "import pandas as pd\n",
    "from mtranslate import translate\n",
    "from tqdm.notebook import tqdm"
   ]
  },
  {
   "cell_type": "code",
   "execution_count": 3,
   "metadata": {},
   "outputs": [],
   "source": [
    "df=pd.read_csv(\"./dataSet/Sentiment_Analysis.csv\")"
   ]
  },
  {
   "cell_type": "code",
   "execution_count": 3,
   "metadata": {},
   "outputs": [
    {
     "data": {
      "text/plain": [
       "(40000, 4)"
      ]
     },
     "execution_count": 3,
     "metadata": {},
     "output_type": "execute_result"
    }
   ],
   "source": [
    "df.shape"
   ]
  },
  {
   "cell_type": "code",
   "execution_count": 4,
   "metadata": {},
   "outputs": [
    {
     "name": "stdout",
     "output_type": "stream",
     "text": [
      "Layin n bed with a headache ughhhh...waitin on your call...\n"
     ]
    }
   ],
   "source": [
    "splitted=df.content[1].split()\n",
    "filtered=' '.join([word for word in splitted if not word.startswith('@')])\n",
    "print(filtered)\n",
    "\n",
    "  "
   ]
  },
  {
   "cell_type": "code",
   "execution_count": 16,
   "metadata": {},
   "outputs": [],
   "source": [
    "df['tweets']=df.content.apply(lambda x:' '.join([word for word in x.split() if not word.startswith('@')]))"
   ]
  },
  {
   "cell_type": "code",
   "execution_count": 19,
   "metadata": {},
   "outputs": [],
   "source": [
    "df.to_csv(\"./dataSet/tweets.csv\",index=False)"
   ]
  },
  {
   "cell_type": "markdown",
   "metadata": {},
   "source": [
    "### getting unrepeated sentiments"
   ]
  },
  {
   "cell_type": "code",
   "execution_count": 26,
   "metadata": {},
   "outputs": [],
   "source": [
    "sent={}\n",
    "for sentiment in df.sentiment.unique():\n",
    "    sent[sentiment]=translate(sentiment,'ckb')"
   ]
  },
  {
   "cell_type": "code",
   "execution_count": 27,
   "metadata": {},
   "outputs": [
    {
     "data": {
      "text/plain": [
       "{'empty': 'بەتاڵ',\n",
       " 'sadness': 'دڵتەنگی',\n",
       " 'enthusiasm': 'پەرۆشی',\n",
       " 'neutral': 'بێلایەن',\n",
       " 'worry': 'نیگەرانی',\n",
       " 'surprise': 'سوپرایس',\n",
       " 'love': 'خۆشەویستی',\n",
       " 'fun': 'خۆش',\n",
       " 'hate': 'ڕق',\n",
       " 'happiness': 'بەختەوەری',\n",
       " 'boredom': 'بێزاری',\n",
       " 'relief': 'حەسانەوە',\n",
       " 'anger': 'تووڕەیی'}"
      ]
     },
     "execution_count": 27,
     "metadata": {},
     "output_type": "execute_result"
    }
   ],
   "source": [
    "sent"
   ]
  },
  {
   "cell_type": "code",
   "execution_count": 39,
   "metadata": {},
   "outputs": [],
   "source": [
    "sentiments={'empty': 'بەتاڵ',\n",
    " 'sadness': 'دڵتەنگ',\n",
    " 'enthusiasm': 'پەرۆش',\n",
    " 'neutral': 'ئاسایی',\n",
    " 'worry': 'نیگەران',\n",
    " 'surprise': 'سوپرایز',\n",
    " 'love': 'خۆشەویستی',\n",
    " 'fun': 'خۆشی',\n",
    " 'hate': 'ڕق',\n",
    " 'happiness': 'بەختەوەر',\n",
    " 'boredom': 'بێزار',\n",
    " 'relief': 'ئارام',\n",
    " 'anger': 'تووڕە'}"
   ]
  },
  {
   "cell_type": "code",
   "execution_count": 40,
   "metadata": {},
   "outputs": [
    {
     "data": {
      "text/plain": [
       "'بەتاڵ'"
      ]
     },
     "execution_count": 40,
     "metadata": {},
     "output_type": "execute_result"
    }
   ],
   "source": [
    "df['kurdish_sentiments']=df.sentiment.apply(lambda x:sentiments[x])\n",
    "sentiments[\"empty\"]"
   ]
  },
  {
   "cell_type": "code",
   "execution_count": 41,
   "metadata": {},
   "outputs": [
    {
     "data": {
      "text/plain": [
       "0            بەتاڵ\n",
       "1           دڵتەنگ\n",
       "2           دڵتەنگ\n",
       "3            پەرۆش\n",
       "4           ئاسایی\n",
       "           ...    \n",
       "39995       ئاسایی\n",
       "39996    خۆشەویستی\n",
       "39997    خۆشەویستی\n",
       "39998     بەختەوەر\n",
       "39999    خۆشەویستی\n",
       "Name: kurdish_sentiments, Length: 40000, dtype: object"
      ]
     },
     "execution_count": 41,
     "metadata": {},
     "output_type": "execute_result"
    }
   ],
   "source": [
    "df['kurdish_sentiments']"
   ]
  },
  {
   "cell_type": "code",
   "execution_count": 44,
   "metadata": {},
   "outputs": [
    {
     "data": {
      "text/html": [
       "<div>\n",
       "<style scoped>\n",
       "    .dataframe tbody tr th:only-of-type {\n",
       "        vertical-align: middle;\n",
       "    }\n",
       "\n",
       "    .dataframe tbody tr th {\n",
       "        vertical-align: top;\n",
       "    }\n",
       "\n",
       "    .dataframe thead th {\n",
       "        text-align: right;\n",
       "    }\n",
       "</style>\n",
       "<table border=\"1\" class=\"dataframe\">\n",
       "  <thead>\n",
       "    <tr style=\"text-align: right;\">\n",
       "      <th></th>\n",
       "      <th>tweet_id</th>\n",
       "      <th>sentiment</th>\n",
       "      <th>author</th>\n",
       "      <th>content</th>\n",
       "      <th>tweets</th>\n",
       "      <th>kurdish_sentiments</th>\n",
       "    </tr>\n",
       "  </thead>\n",
       "  <tbody>\n",
       "    <tr>\n",
       "      <th>0</th>\n",
       "      <td>1956967341</td>\n",
       "      <td>empty</td>\n",
       "      <td>xoshayzers</td>\n",
       "      <td>@tiffanylue i know  i was listenin to bad habi...</td>\n",
       "      <td>i know i was listenin to bad habit earlier and...</td>\n",
       "      <td>بەتاڵ</td>\n",
       "    </tr>\n",
       "    <tr>\n",
       "      <th>1</th>\n",
       "      <td>1956967666</td>\n",
       "      <td>sadness</td>\n",
       "      <td>wannamama</td>\n",
       "      <td>Layin n bed with a headache  ughhhh...waitin o...</td>\n",
       "      <td>Layin n bed with a headache ughhhh...waitin on...</td>\n",
       "      <td>دڵتەنگ</td>\n",
       "    </tr>\n",
       "    <tr>\n",
       "      <th>2</th>\n",
       "      <td>1956967696</td>\n",
       "      <td>sadness</td>\n",
       "      <td>coolfunky</td>\n",
       "      <td>Funeral ceremony...gloomy friday...</td>\n",
       "      <td>Funeral ceremony...gloomy friday...</td>\n",
       "      <td>دڵتەنگ</td>\n",
       "    </tr>\n",
       "    <tr>\n",
       "      <th>3</th>\n",
       "      <td>1956967789</td>\n",
       "      <td>enthusiasm</td>\n",
       "      <td>czareaquino</td>\n",
       "      <td>wants to hang out with friends SOON!</td>\n",
       "      <td>wants to hang out with friends SOON!</td>\n",
       "      <td>پەرۆش</td>\n",
       "    </tr>\n",
       "    <tr>\n",
       "      <th>4</th>\n",
       "      <td>1956968416</td>\n",
       "      <td>neutral</td>\n",
       "      <td>xkilljoyx</td>\n",
       "      <td>@dannycastillo We want to trade with someone w...</td>\n",
       "      <td>We want to trade with someone who has Houston ...</td>\n",
       "      <td>ئاسایی</td>\n",
       "    </tr>\n",
       "  </tbody>\n",
       "</table>\n",
       "</div>"
      ],
      "text/plain": [
       "     tweet_id   sentiment       author  \\\n",
       "0  1956967341       empty   xoshayzers   \n",
       "1  1956967666     sadness    wannamama   \n",
       "2  1956967696     sadness    coolfunky   \n",
       "3  1956967789  enthusiasm  czareaquino   \n",
       "4  1956968416     neutral    xkilljoyx   \n",
       "\n",
       "                                             content  \\\n",
       "0  @tiffanylue i know  i was listenin to bad habi...   \n",
       "1  Layin n bed with a headache  ughhhh...waitin o...   \n",
       "2                Funeral ceremony...gloomy friday...   \n",
       "3               wants to hang out with friends SOON!   \n",
       "4  @dannycastillo We want to trade with someone w...   \n",
       "\n",
       "                                              tweets kurdish_sentiments  \n",
       "0  i know i was listenin to bad habit earlier and...              بەتاڵ  \n",
       "1  Layin n bed with a headache ughhhh...waitin on...             دڵتەنگ  \n",
       "2                Funeral ceremony...gloomy friday...             دڵتەنگ  \n",
       "3               wants to hang out with friends SOON!              پەرۆش  \n",
       "4  We want to trade with someone who has Houston ...             ئاسایی  "
      ]
     },
     "execution_count": 44,
     "metadata": {},
     "output_type": "execute_result"
    }
   ],
   "source": [
    "df.head()"
   ]
  },
  {
   "cell_type": "code",
   "execution_count": 2,
   "metadata": {},
   "outputs": [
    {
     "ename": "NameError",
     "evalue": "name 'df' is not defined",
     "output_type": "error",
     "traceback": [
      "\u001b[1;31m---------------------------------------------------------------------------\u001b[0m",
      "\u001b[1;31mNameError\u001b[0m                                 Traceback (most recent call last)",
      "Cell \u001b[1;32mIn[2], line 1\u001b[0m\n\u001b[1;32m----> 1\u001b[0m df\u001b[38;5;241m.\u001b[39mto_csv(\u001b[38;5;124m\"\u001b[39m\u001b[38;5;124m./dataSet/Tweets_Sentiment.csv\u001b[39m\u001b[38;5;124m\"\u001b[39m,index\u001b[38;5;241m=\u001b[39m\u001b[38;5;28;01mFalse\u001b[39;00m)\n",
      "\u001b[1;31mNameError\u001b[0m: name 'df' is not defined"
     ]
    }
   ],
   "source": [
    "df.to_csv(\"./dataSet/Tweets_Sentiment.csv\",index=False)"
   ]
  },
  {
   "cell_type": "markdown",
   "metadata": {},
   "source": [
    "### Translating tweets"
   ]
  },
  {
   "cell_type": "code",
   "execution_count": 1,
   "metadata": {},
   "outputs": [],
   "source": [
    "from mtranslate import translate \n",
    "import pandas as pd\n",
    "from tqdm.notebook import tqdm\n",
    "from concurrent.futures import ThreadPoolExecutor, as_completed\n",
    "import time\n",
    "partial_save_amount = 1000\n",
    "\n",
    "def translate_text(text, to_language='ckb'):\n",
    "    try:\n",
    "        return translate(text, to_language)\n",
    "    except Exception as e:\n",
    "        print(f'Error translating text: {text} with error {e}')\n",
    "        return None\n",
    "\n",
    "def dataset_translator(df):\n",
    "    res = {}\n",
    "    futures = {}\n",
    "    with ThreadPoolExecutor(max_workers=10) as executor: \n",
    "        for i, row in df.iterrows():\n",
    "            future = executor.submit(translate_text, row['tweets'], 'ckb')\n",
    "            futures[future] = row['tweet_id']  # Map future to tweet_id\n",
    "\n",
    "        for future in tqdm(as_completed(futures), total=len(futures)):\n",
    "            result = future.result()\n",
    "            if result is not None:\n",
    "                myid = futures[future]  # Use the mapping to get the correct tweet_id\n",
    "                res[myid] = result\n",
    "\n",
    "            # Check if it's time to save partial results\n",
    "            if len(res) % partial_save_amount == 0:\n",
    "                results = pd.DataFrame.from_dict(res, orient='index')\n",
    "                results = results.reset_index().rename(columns={'index': 'tweet_id', 0: 'kurdish_tweets'})\n",
    "                results = results.merge(df.iloc[:len(res)], on='tweet_id', how='right')\n",
    "                results.to_csv(f\"./dataSet/translated/kurdish_tweets-{len(res)}.csv\", index=False)\n",
    "                print(f'saved at {len(res)}')\n",
    "              \n",
    "\n",
    "    # After all futures are completed, save any remaining translations\n",
    "    if res:\n",
    "        results = pd.DataFrame.from_dict(res, orient='index')\n",
    "        results = results.reset_index().rename(columns={'index': 'tweet_id', 0: 'kurdish_tweets'})\n",
    "        results = results.merge(df, on='tweet_id', how='right')\n",
    "        results.to_csv(f\"./dataSet/translated/kurdish_tweets_final.csv\", index=False)\n",
    "        print(f'Final save at {len(res)}')\n",
    "\n",
    "    return pd.DataFrame.from_dict(res, orient='index')"
   ]
  },
  {
   "cell_type": "code",
   "execution_count": 2,
   "metadata": {},
   "outputs": [],
   "source": [
    "data=pd.read_csv(\"./dataSet/Tweets_Sentiment.csv\")\n"
   ]
  },
  {
   "cell_type": "code",
   "execution_count": 3,
   "metadata": {},
   "outputs": [
    {
     "data": {
      "application/vnd.jupyter.widget-view+json": {
       "model_id": "6b15c46cb5834522a1f383d8e31a169e",
       "version_major": 2,
       "version_minor": 0
      },
      "text/plain": [
       "  0%|          | 0/2000 [00:00<?, ?it/s]"
      ]
     },
     "metadata": {},
     "output_type": "display_data"
    },
    {
     "name": "stdout",
     "output_type": "stream",
     "text": [
      "Error translating text: nan with error quote_from_bytes() expected bytes\n",
      "Error translating text: nan with error quote_from_bytes() expected bytes\n",
      "saved at 1000\n",
      "Error translating text: nan with error quote_from_bytes() expected bytes\n",
      "Error translating text: nan with error quote_from_bytes() expected bytes\n",
      "Error translating text: nan with error quote_from_bytes() expected bytes\n",
      "Final save at 1995\n"
     ]
    }
   ],
   "source": [
    "kurdish_dataset = dataset_translator(data.iloc[38000:])"
   ]
  },
  {
   "cell_type": "code",
   "execution_count": 2,
   "metadata": {},
   "outputs": [
    {
     "data": {
      "text/plain": [
       "'من زۆر دڵنیام ئیسیس کرمی شریتی هەیە'"
      ]
     },
     "execution_count": 2,
     "metadata": {},
     "output_type": "execute_result"
    }
   ],
   "source": [
    "translate(\"I'm pretty sure Isis has a tapeworm\",'ckb')"
   ]
  },
  {
   "cell_type": "code",
   "execution_count": 4,
   "metadata": {},
   "outputs": [
    {
     "data": {
      "text/html": [
       "<div>\n",
       "<style scoped>\n",
       "    .dataframe tbody tr th:only-of-type {\n",
       "        vertical-align: middle;\n",
       "    }\n",
       "\n",
       "    .dataframe tbody tr th {\n",
       "        vertical-align: top;\n",
       "    }\n",
       "\n",
       "    .dataframe thead th {\n",
       "        text-align: right;\n",
       "    }\n",
       "</style>\n",
       "<table border=\"1\" class=\"dataframe\">\n",
       "  <thead>\n",
       "    <tr style=\"text-align: right;\">\n",
       "      <th></th>\n",
       "      <th>tweet_id</th>\n",
       "      <th>sentiment</th>\n",
       "      <th>author</th>\n",
       "      <th>content</th>\n",
       "      <th>tweets</th>\n",
       "      <th>kurdish_sentiments</th>\n",
       "    </tr>\n",
       "  </thead>\n",
       "  <tbody>\n",
       "    <tr>\n",
       "      <th>3000</th>\n",
       "      <td>1957674180</td>\n",
       "      <td>worry</td>\n",
       "      <td>blue_cat_online</td>\n",
       "      <td>[BBC] Malaria parasites becoming resistant to ...</td>\n",
       "      <td>[BBC] Malaria parasites becoming resistant to ...</td>\n",
       "      <td>نیگەران</td>\n",
       "    </tr>\n",
       "    <tr>\n",
       "      <th>3001</th>\n",
       "      <td>1957674579</td>\n",
       "      <td>worry</td>\n",
       "      <td>tickvg</td>\n",
       "      <td>Morning all. I appear to have a bit of a sore ...</td>\n",
       "      <td>Morning all. I appear to have a bit of a sore ...</td>\n",
       "      <td>نیگەران</td>\n",
       "    </tr>\n",
       "    <tr>\n",
       "      <th>3002</th>\n",
       "      <td>1957674594</td>\n",
       "      <td>surprise</td>\n",
       "      <td>ashleigh_03</td>\n",
       "      <td>has just booked her appointment to give blood ...</td>\n",
       "      <td>has just booked her appointment to give blood ...</td>\n",
       "      <td>سوپرایز</td>\n",
       "    </tr>\n",
       "    <tr>\n",
       "      <th>3003</th>\n",
       "      <td>1957674693</td>\n",
       "      <td>hate</td>\n",
       "      <td>barbsrad</td>\n",
       "      <td>urgh, my head is banging.</td>\n",
       "      <td>urgh, my head is banging.</td>\n",
       "      <td>ڕق</td>\n",
       "    </tr>\n",
       "    <tr>\n",
       "      <th>3004</th>\n",
       "      <td>1957674793</td>\n",
       "      <td>neutral</td>\n",
       "      <td>lilianerausch</td>\n",
       "      <td>@Donnette i am fine. just having a headache fo...</td>\n",
       "      <td>i am fine. just having a headache for days now</td>\n",
       "      <td>ئاسایی</td>\n",
       "    </tr>\n",
       "    <tr>\n",
       "      <th>...</th>\n",
       "      <td>...</td>\n",
       "      <td>...</td>\n",
       "      <td>...</td>\n",
       "      <td>...</td>\n",
       "      <td>...</td>\n",
       "      <td>...</td>\n",
       "    </tr>\n",
       "    <tr>\n",
       "      <th>39995</th>\n",
       "      <td>1753918954</td>\n",
       "      <td>neutral</td>\n",
       "      <td>showMe_Heaven</td>\n",
       "      <td>@JohnLloydTaylor</td>\n",
       "      <td>NaN</td>\n",
       "      <td>ئاسایی</td>\n",
       "    </tr>\n",
       "    <tr>\n",
       "      <th>39996</th>\n",
       "      <td>1753919001</td>\n",
       "      <td>love</td>\n",
       "      <td>drapeaux</td>\n",
       "      <td>Happy Mothers Day  All my love</td>\n",
       "      <td>Happy Mothers Day All my love</td>\n",
       "      <td>خۆشەویستی</td>\n",
       "    </tr>\n",
       "    <tr>\n",
       "      <th>39997</th>\n",
       "      <td>1753919005</td>\n",
       "      <td>love</td>\n",
       "      <td>JenniRox</td>\n",
       "      <td>Happy Mother's Day to all the mommies out ther...</td>\n",
       "      <td>Happy Mother's Day to all the mommies out ther...</td>\n",
       "      <td>خۆشەویستی</td>\n",
       "    </tr>\n",
       "    <tr>\n",
       "      <th>39998</th>\n",
       "      <td>1753919043</td>\n",
       "      <td>happiness</td>\n",
       "      <td>ipdaman1</td>\n",
       "      <td>@niariley WASSUP BEAUTIFUL!!! FOLLOW ME!!  PEE...</td>\n",
       "      <td>WASSUP BEAUTIFUL!!! FOLLOW ME!! PEEP OUT MY NE...</td>\n",
       "      <td>بەختەوەر</td>\n",
       "    </tr>\n",
       "    <tr>\n",
       "      <th>39999</th>\n",
       "      <td>1753919049</td>\n",
       "      <td>love</td>\n",
       "      <td>Alpharalpha</td>\n",
       "      <td>@mopedronin bullet train from tokyo    the gf ...</td>\n",
       "      <td>bullet train from tokyo the gf and i have been...</td>\n",
       "      <td>خۆشەویستی</td>\n",
       "    </tr>\n",
       "  </tbody>\n",
       "</table>\n",
       "<p>37000 rows × 6 columns</p>\n",
       "</div>"
      ],
      "text/plain": [
       "         tweet_id  sentiment           author  \\\n",
       "3000   1957674180      worry  blue_cat_online   \n",
       "3001   1957674579      worry           tickvg   \n",
       "3002   1957674594   surprise      ashleigh_03   \n",
       "3003   1957674693       hate         barbsrad   \n",
       "3004   1957674793    neutral    lilianerausch   \n",
       "...           ...        ...              ...   \n",
       "39995  1753918954    neutral    showMe_Heaven   \n",
       "39996  1753919001       love         drapeaux   \n",
       "39997  1753919005       love         JenniRox   \n",
       "39998  1753919043  happiness         ipdaman1   \n",
       "39999  1753919049       love      Alpharalpha   \n",
       "\n",
       "                                                 content  \\\n",
       "3000   [BBC] Malaria parasites becoming resistant to ...   \n",
       "3001   Morning all. I appear to have a bit of a sore ...   \n",
       "3002   has just booked her appointment to give blood ...   \n",
       "3003                           urgh, my head is banging.   \n",
       "3004   @Donnette i am fine. just having a headache fo...   \n",
       "...                                                  ...   \n",
       "39995                                   @JohnLloydTaylor   \n",
       "39996                     Happy Mothers Day  All my love   \n",
       "39997  Happy Mother's Day to all the mommies out ther...   \n",
       "39998  @niariley WASSUP BEAUTIFUL!!! FOLLOW ME!!  PEE...   \n",
       "39999  @mopedronin bullet train from tokyo    the gf ...   \n",
       "\n",
       "                                                  tweets kurdish_sentiments  \n",
       "3000   [BBC] Malaria parasites becoming resistant to ...            نیگەران  \n",
       "3001   Morning all. I appear to have a bit of a sore ...            نیگەران  \n",
       "3002   has just booked her appointment to give blood ...            سوپرایز  \n",
       "3003                           urgh, my head is banging.                 ڕق  \n",
       "3004      i am fine. just having a headache for days now             ئاسایی  \n",
       "...                                                  ...                ...  \n",
       "39995                                                NaN             ئاسایی  \n",
       "39996                      Happy Mothers Day All my love          خۆشەویستی  \n",
       "39997  Happy Mother's Day to all the mommies out ther...          خۆشەویستی  \n",
       "39998  WASSUP BEAUTIFUL!!! FOLLOW ME!! PEEP OUT MY NE...           بەختەوەر  \n",
       "39999  bullet train from tokyo the gf and i have been...          خۆشەویستی  \n",
       "\n",
       "[37000 rows x 6 columns]"
      ]
     },
     "execution_count": 4,
     "metadata": {},
     "output_type": "execute_result"
    }
   ],
   "source": []
  },
  {
   "cell_type": "code",
   "execution_count": 12,
   "metadata": {},
   "outputs": [],
   "source": [
    "def csv_concat(df1,df2,save_path=\"./dataSet/translated/kurdish_tweets-40000-concat.csv\"):\n",
    "    data_frame1=pd.read_csv(df1)\n",
    "    data_frame2=pd.read_csv(df2)\n",
    "    combined=pd.concat([data_frame1,data_frame2])\n",
    "    combined.to_csv(save_path,index=False)\n",
    "\n",
    "\n",
    "csv_concat(\"./dataSet/translated/kurdish_tweets-38000-concat.csv\",\"./dataSet/translated/kurdish_tweets-40000-saved.csv\")\n"
   ]
  },
  {
   "cell_type": "code",
   "execution_count": 13,
   "metadata": {},
   "outputs": [],
   "source": [
    "dc=pd.read_csv(\"./dataSet/translated/kurdish_tweets-40000-concat.csv\")"
   ]
  },
  {
   "cell_type": "code",
   "execution_count": 14,
   "metadata": {},
   "outputs": [
    {
     "data": {
      "text/plain": [
       "(40000, 7)"
      ]
     },
     "execution_count": 14,
     "metadata": {},
     "output_type": "execute_result"
    }
   ],
   "source": [
    "dc.shape"
   ]
  },
  {
   "cell_type": "code",
   "execution_count": null,
   "metadata": {},
   "outputs": [],
   "source": []
  }
 ],
 "metadata": {
  "kernelspec": {
   "display_name": "tensorflow",
   "language": "python",
   "name": "python3"
  },
  "language_info": {
   "codemirror_mode": {
    "name": "ipython",
    "version": 3
   },
   "file_extension": ".py",
   "mimetype": "text/x-python",
   "name": "python",
   "nbconvert_exporter": "python",
   "pygments_lexer": "ipython3",
   "version": "3.11.7"
  }
 },
 "nbformat": 4,
 "nbformat_minor": 2
}
