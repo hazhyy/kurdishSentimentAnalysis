{
 "cells": [
  {
   "cell_type": "code",
   "execution_count": null,
   "metadata": {},
   "outputs": [],
   "source": [
    "import pandas as pd"
   ]
  },
  {
   "cell_type": "code",
   "execution_count": null,
   "metadata": {},
   "outputs": [],
   "source": [
    "df=pd.read_csv('../scrapedData/xendan-5.csv')"
   ]
  },
  {
   "cell_type": "code",
   "execution_count": null,
   "metadata": {},
   "outputs": [],
   "source": [
    "df.head()"
   ]
  },
  {
   "cell_type": "code",
   "execution_count": null,
   "metadata": {},
   "outputs": [],
   "source": [
    "df['Article'][0].replace('\\n','').replace('\\u200c',' ').replace('خه ندان-',' ')"
   ]
  },
  {
   "cell_type": "code",
   "execution_count": 1,
   "metadata": {},
   "outputs": [
    {
     "data": {
      "application/vnd.jupyter.widget-view+json": {
       "model_id": "e95b51a228ce4ec88ff7a2d0fb71c95c",
       "version_major": 2,
       "version_minor": 0
      },
      "text/plain": [
       "  0%|          | 0/154956 [00:00<?, ?it/s]"
      ]
     },
     "metadata": {},
     "output_type": "display_data"
    }
   ],
   "source": [
    "import concurrent.futures\n",
    "from tqdm.notebook import tqdm\n",
    "from urllib.request import urlopen\n",
    "from bs4 import BeautifulSoup\n",
    "import pandas as pd\n",
    "import time\n",
    "data_list = []\n",
    "partial_save_amount = 5\n",
    "\n",
    "def scrape_xendan(lastId):\n",
    "    try:\n",
    "        url = f\"https://www.xendan.org/detailnews/{lastId}\"\n",
    "        proxied_fetch = f'https://spontaneous-faloodeh-9e9321.netlify.app/?destination={url}'\n",
    "        html = urlopen(proxied_fetch)\n",
    "        bs = BeautifulSoup(html, 'html.parser')    \n",
    "        header_elem = bs.find('div', {'class': \"detail-top\"})\n",
    "        article_elem = bs.find('div', {'class': \"detail-big-text-p\"})\n",
    "        img_elem = bs.find('div', {'class': \"detail-big-img\"})\n",
    "        if header_elem and article_elem and header_elem.find('h1'):\n",
    "            header = header_elem.find('h1').text.strip()\n",
    "            article = article_elem.text.strip()\n",
    "            image = img_elem.img['src'] if img_elem else \"\"\n",
    "            data_list.append({'Header': header, 'Article': article, 'Link': url, 'Image': image})\n",
    "            #print(f\"Scraped: {url}\")\n",
    "            if len(data_list) % 1000 == 0:\n",
    "                print(f\"saved at: {len(data_list)}\")\n",
    "                dff=pd.DataFrame(data_list)\n",
    "                dff.to_csv(f'../scrapedData/xendan-{len(data_list)}.csv')\n",
    "                time.sleep(20)\n",
    "        else:\n",
    "            print(f\"Skipping: {url}\")\n",
    "    except Exception as e:\n",
    "        print(f'Error at {lastId}: {e}')\n",
    "def main():\n",
    "    max_threads = 10  # Adjust the number of threads as needed\n",
    "    last_id = 154955  # Set the last ID to start scraping\n",
    "    with concurrent.futures.ThreadPoolExecutor(max_workers=max_threads) as executor:\n",
    "        futures = []\n",
    "        for i in tqdm(range(last_id, -1, -1)):\n",
    "            futures.append(executor.submit(scrape_xendan, i))\n",
    "        for future in concurrent.futures.as_completed(futures):\n",
    "            pass  # Optionally process results here\n",
    "\n",
    "if __name__ == \"__main__\":\n",
    "    main()\n"
   ]
  },
  {
   "cell_type": "code",
   "execution_count": 1,
   "metadata": {},
   "outputs": [
    {
     "data": {
      "text/plain": [
       "165552"
      ]
     },
     "execution_count": 1,
     "metadata": {},
     "output_type": "execute_result"
    }
   ],
   "source": []
  },
  {
   "cell_type": "code",
   "execution_count": null,
   "metadata": {},
   "outputs": [],
   "source": []
  }
 ],
 "metadata": {
  "kernelspec": {
   "display_name": "tensorflow",
   "language": "python",
   "name": "python3"
  },
  "language_info": {
   "codemirror_mode": {
    "name": "ipython",
    "version": 3
   },
   "file_extension": ".py",
   "mimetype": "text/x-python",
   "name": "python",
   "nbconvert_exporter": "python",
   "pygments_lexer": "ipython3",
   "version": "3.11.7"
  }
 },
 "nbformat": 4,
 "nbformat_minor": 2
}
